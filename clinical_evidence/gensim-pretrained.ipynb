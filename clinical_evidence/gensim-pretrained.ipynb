{
 "cells": [
  {
   "cell_type": "markdown",
   "id": "53a57daf-e2bb-4bab-b8e8-44983c833af1",
   "metadata": {},
   "source": [
    "### Pretrained"
   ]
  },
  {
   "cell_type": "code",
   "execution_count": 1,
   "id": "12d426a2-b288-4757-81e4-6268758d225a",
   "metadata": {},
   "outputs": [],
   "source": [
    "%config Completer.use_jedi = False"
   ]
  },
  {
   "cell_type": "code",
   "execution_count": 2,
   "id": "73187305-37d9-4982-bfca-e7d7e1b3883f",
   "metadata": {},
   "outputs": [],
   "source": [
    "import pandas as pd\n",
    "from tqdm.notebook import tqdm\n",
    "import re\n",
    "from typing import List\n",
    "import os\n",
    "import matplotlib.pyplot as plt\n",
    "from gensim.models import Word2Vec\n",
    "import numpy as np\n",
    "import gensim.downloader as api\n"
   ]
  },
  {
   "cell_type": "code",
   "execution_count": 3,
   "id": "b0596911-8695-404b-bbe7-d78c47e89ecd",
   "metadata": {},
   "outputs": [],
   "source": [
    "def load_docs(source_dir: str) -> List[List[str]]:\n",
    "    docs = []\n",
    "    for doc_name in os.listdir(source_dir):\n",
    "        if os.path.isdir(doc_name):\n",
    "            continue\n",
    "        with open(f'{source_dir}/{doc_name}') as fh:\n",
    "            doc = fh.readlines()\n",
    "            docs.append(doc)\n",
    "    return docs"
   ]
  },
  {
   "cell_type": "code",
   "execution_count": 4,
   "id": "a95592da-6af8-4004-ad1a-b69b6101c52e",
   "metadata": {},
   "outputs": [],
   "source": [
    "docs = load_docs('clean_txt')"
   ]
  },
  {
   "cell_type": "code",
   "execution_count": 5,
   "id": "0920ce62-5e33-4608-9f24-15fb779ef978",
   "metadata": {},
   "outputs": [],
   "source": [
    "docs_tokenized = [sent.split() for doc in docs for sent in doc]"
   ]
  },
  {
   "cell_type": "code",
   "execution_count": 6,
   "id": "d662970e-9a7d-4dfe-9c39-c04a8c7e97d5",
   "metadata": {},
   "outputs": [
    {
     "name": "stdout",
     "output_type": "stream",
     "text": [
      "/home/uadmin/gensim-data/glove-wiki-gigaword-200/glove-wiki-gigaword-200.gz\n"
     ]
    }
   ],
   "source": [
    "print(api.load('glove-wiki-gigaword-200', return_path=True))"
   ]
  },
  {
   "cell_type": "code",
   "execution_count": 7,
   "id": "91b2b0b8-9e70-401e-bd2f-aa9a97f2445b",
   "metadata": {},
   "outputs": [],
   "source": [
    "# # https://radimrehurek.com/gensim/models/word2vec.html#:~:text=common_texts%5D%2C%20min_count%3D1)-,Pretrained%20models,-Gensim%20comes%20with\n",
    "\n",
    "# pretrained_vectors = api.load('glove-wiki-gigaword-300')"
   ]
  },
  {
   "cell_type": "code",
   "execution_count": 8,
   "id": "8cc799c9-6d1e-40b2-8aad-920ad2ec4944",
   "metadata": {},
   "outputs": [
    {
     "name": "stdout",
     "output_type": "stream",
     "text": [
      "CPU times: user 33.9 s, sys: 214 ms, total: 34.1 s\n",
      "Wall time: 34.1 s\n"
     ]
    }
   ],
   "source": [
    "%%time\n",
    "\n",
    "import gensim\n",
    "\n",
    "model = '/home/uadmin/gensim-data/glove-wiki-gigaword-200/glove-wiki-gigaword-200.gz'\n",
    "\n",
    "pretrained_vectors = gensim.models.KeyedVectors.load_word2vec_format(model, binary=False)"
   ]
  },
  {
   "cell_type": "code",
   "execution_count": 9,
   "id": "b428082b-76ce-47de-9822-f3d9c8bd3b77",
   "metadata": {},
   "outputs": [
    {
     "data": {
      "text/plain": [
       "array([5.6256924, 4.864203 , 4.901828 , ..., 4.514674 , 4.4918313,\n",
       "       3.9017522], dtype=float32)"
      ]
     },
     "execution_count": 9,
     "metadata": {},
     "output_type": "execute_result"
    }
   ],
   "source": [
    "## unnormalized\n",
    "pretrained_vectors.fill_norms()\n",
    "pretrained_vectors.norms"
   ]
  },
  {
   "cell_type": "code",
   "execution_count": 10,
   "id": "d4f8a2ef-1fd3-406f-8d48-b34f0f2bdb5b",
   "metadata": {},
   "outputs": [],
   "source": [
    "from sklearn.metrics.pairwise import cosine_similarity\n",
    "\n",
    "def show_similarity_for_single_word(vectors, word):\n",
    "    matrix = cosine_similarity(vectors[word].reshape(1, -1), vectors.vectors)\n",
    "    plt.hist(matrix.squeeze(0), bins='rice', edgecolor='k')\n",
    "    plt.title(f'Распределение схожести для слова {word}')"
   ]
  },
  {
   "cell_type": "code",
   "execution_count": 23,
   "id": "ca4e415f-da78-41ba-ba1d-1f5061012c04",
   "metadata": {},
   "outputs": [],
   "source": [
    "# pretrained_vectors.key_to_index"
   ]
  },
  {
   "cell_type": "code",
   "execution_count": 11,
   "id": "f9517c12-abff-4a0d-b905-1e2dacf69ade",
   "metadata": {},
   "outputs": [
    {
     "data": {
      "text/plain": [
       "[('veins', 0.7123990058898926),\n",
       " ('hemorrhoids', 0.5619627237319946),\n",
       " ('vein', 0.5328717231750488),\n",
       " ('sclerotherapy', 0.5134063959121704),\n",
       " ('thrombosis', 0.4759078323841095),\n",
       " ('phlebitis', 0.47333014011383057),\n",
       " ('clots', 0.46471312642097473),\n",
       " ('thrombophlebitis', 0.4622771441936493),\n",
       " ('fibroids', 0.4576674699783325),\n",
       " ('aneurysms', 0.4559440016746521)]"
      ]
     },
     "execution_count": 11,
     "metadata": {},
     "output_type": "execute_result"
    }
   ],
   "source": [
    "pretrained_vectors.most_similar('varicose')"
   ]
  },
  {
   "cell_type": "code",
   "execution_count": 30,
   "id": "17ae9538-aa48-44d5-977a-326f286b7012",
   "metadata": {},
   "outputs": [
    {
     "data": {
      "text/plain": [
       "[('dvt', 0.695932149887085),\n",
       " ('embolism', 0.683134913444519),\n",
       " ('clots', 0.6449497938156128),\n",
       " ('venous', 0.6349796652793884),\n",
       " ('clot', 0.6239162087440491),\n",
       " ('coronary', 0.5913086533546448),\n",
       " ('vein', 0.5786575675010681),\n",
       " ('pulmonary', 0.5700212717056274),\n",
       " ('thromboembolism', 0.5683554410934448),\n",
       " ('sinus', 0.5571774244308472)]"
      ]
     },
     "execution_count": 30,
     "metadata": {},
     "output_type": "execute_result"
    }
   ],
   "source": [
    "pretrained_vectors.most_similar('thrombosis')"
   ]
  },
  {
   "cell_type": "code",
   "execution_count": 27,
   "id": "171bba12-ee86-4d6d-9c73-107557ecc28e",
   "metadata": {},
   "outputs": [
    {
     "data": {
      "text/plain": [
       "[('radiology', 0.7757067680358887),\n",
       " ('oncology', 0.7672789096832275),\n",
       " ('neurology', 0.7595601677894592),\n",
       " ('dermatology', 0.73642897605896),\n",
       " ('gastroenterology', 0.7253237962722778),\n",
       " ('neurosurgery', 0.7115159034729004),\n",
       " ('urology', 0.698523223400116),\n",
       " ('pediatric', 0.6975681781768799),\n",
       " ('rheumatology', 0.6813408136367798),\n",
       " ('ophthalmology', 0.6759422421455383),\n",
       " ('interventional', 0.6631497740745544),\n",
       " ('obstetrics', 0.6553765535354614),\n",
       " ('anesthesiology', 0.6483817100524902),\n",
       " ('endocrinology', 0.6464000344276428),\n",
       " ('pediatrics', 0.6454578638076782),\n",
       " ('hematology', 0.6423797607421875),\n",
       " ('gynecology', 0.6350332498550415),\n",
       " ('psychiatry', 0.634688675403595),\n",
       " ('nephrology', 0.630325973033905),\n",
       " ('paediatric', 0.6218659281730652)]"
      ]
     },
     "execution_count": 27,
     "metadata": {},
     "output_type": "execute_result"
    }
   ],
   "source": [
    "pretrained_vectors.most_similar('cardiology', topn=20)"
   ]
  },
  {
   "cell_type": "code",
   "execution_count": 13,
   "id": "377a8591-e74c-4c9b-86c2-1b2686bc26df",
   "metadata": {},
   "outputs": [
    {
     "data": {
      "text/plain": [
       "[('heart', 0.6108990907669067),\n",
       " ('urine', 0.5993350744247437),\n",
       " ('transfusions', 0.560692548751831),\n",
       " ('transfusion', 0.5605494379997253),\n",
       " ('bleeding', 0.5571826696395874),\n",
       " ('lungs', 0.5441170930862427),\n",
       " ('tissue', 0.5380828380584717),\n",
       " ('samples', 0.5224605798721313),\n",
       " ('liver', 0.5163336992263794),\n",
       " ('brain', 0.508567750453949)]"
      ]
     },
     "execution_count": 13,
     "metadata": {},
     "output_type": "execute_result"
    }
   ],
   "source": [
    "pretrained_vectors.most_similar('blood')"
   ]
  },
  {
   "cell_type": "code",
   "execution_count": 18,
   "id": "401df32b-e9e9-4688-ae48-cd3bea939637",
   "metadata": {},
   "outputs": [
    {
     "data": {
      "text/plain": [
       "[('physician', 0.7360212802886963),\n",
       " ('doctors', 0.6724056005477905),\n",
       " ('surgeon', 0.6551469564437866),\n",
       " ('dr.', 0.6524977087974548),\n",
       " ('nurse', 0.6514491438865662),\n",
       " ('medical', 0.6481887102127075),\n",
       " ('hospital', 0.6363801956176758),\n",
       " ('patient', 0.6191587448120117),\n",
       " ('dentist', 0.5847471952438354),\n",
       " ('psychiatrist', 0.5685710310935974)]"
      ]
     },
     "execution_count": 18,
     "metadata": {},
     "output_type": "execute_result"
    }
   ],
   "source": [
    "pretrained_vectors.most_similar('doctor')"
   ]
  },
  {
   "cell_type": "code",
   "execution_count": 14,
   "id": "79b0059c-3e24-4125-a958-525c7a2ce493",
   "metadata": {},
   "outputs": [
    {
     "data": {
      "text/plain": [
       "[('treatments', 0.7339935898780823),\n",
       " ('treated', 0.7296231389045715),\n",
       " ('treat', 0.7193353772163391),\n",
       " ('patients', 0.7166020274162292),\n",
       " ('therapy', 0.6945323348045349),\n",
       " ('treating', 0.6901863813400269),\n",
       " ('patient', 0.6717613339424133),\n",
       " ('psychiatric', 0.6431329846382141),\n",
       " ('care', 0.6324152946472168),\n",
       " ('medication', 0.6259459853172302)]"
      ]
     },
     "execution_count": 14,
     "metadata": {},
     "output_type": "execute_result"
    }
   ],
   "source": [
    "pretrained_vectors.most_similar('treatment')"
   ]
  },
  {
   "cell_type": "code",
   "execution_count": 15,
   "id": "b3c2d295-c8c0-4f3d-8f08-6dbcd78fe495",
   "metadata": {},
   "outputs": [
    {
     "data": {
      "image/png": "[encoded data removed]",
      "text/plain": [
       "<Figure size 432x288 with 1 Axes>"
      ]
     },
     "metadata": {
      "needs_background": "light"
     },
     "output_type": "display_data"
    }
   ],
   "source": [
    "show_similarity_for_single_word(pretrained_vectors, 'varicose')"
   ]
  },
  {
   "cell_type": "code",
   "execution_count": 16,
   "id": "20459037-c878-49ce-88bf-e8f699c2f966",
   "metadata": {},
   "outputs": [
    {
     "data": {
      "image/png": "[encoded data removed]",
      "text/plain": [
       "<Figure size 432x288 with 1 Axes>"
      ]
     },
     "metadata": {
      "needs_background": "light"
     },
     "output_type": "display_data"
    }
   ],
   "source": [
    "show_similarity_for_single_word(pretrained_vectors, 'cardiology')"
   ]
  },
  {
   "cell_type": "code",
   "execution_count": 17,
   "id": "d82bf884-6277-451a-b267-5910849c88e9",
   "metadata": {},
   "outputs": [
    {
     "data": {
      "image/png": "[encoded data removed]",
      "text/plain": [
       "<Figure size 432x288 with 1 Axes>"
      ]
     },
     "metadata": {
      "needs_background": "light"
     },
     "output_type": "display_data"
    }
   ],
   "source": [
    "show_similarity_for_single_word(pretrained_vectors, 'treatment')"
   ]
  }
 ],
 "metadata": {
  "kernelspec": {
   "display_name": "Python 3",
   "language": "python",
   "name": "python3"
  },
  "language_info": {
   "codemirror_mode": {
    "name": "ipython",
    "version": 3
   },
   "file_extension": ".py",
   "mimetype": "text/x-python",
   "name": "python",
   "nbconvert_exporter": "python",
   "pygments_lexer": "ipython3",
   "version": "3.8.10"
  }
 },
 "nbformat": 4,
 "nbformat_minor": 5
}
