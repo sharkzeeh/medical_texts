{
 "cells": [
  {
   "cell_type": "markdown",
   "id": "53a57daf-e2bb-4bab-b8e8-44983c833af1",
   "metadata": {},
   "source": [
    "### Pretrained"
   ]
  },
  {
   "cell_type": "code",
   "execution_count": 6,
   "id": "5b5cb2f5-a2a8-4b1f-a04e-c359dd7d0f77",
   "metadata": {},
   "outputs": [
    {
     "name": "stdout",
     "output_type": "stream",
     "text": [
      "data/ebmsumcorpus-code-ddcc708b53b82cb4588192995fa274c671982bc6/Abstracts/10022110.xml\n"
     ]
    }
   ],
   "source": [
    "!ls data/ebmsumcorpus-code-ddcc708b53b82cb4588192995fa274c671982bc6/Abstracts/10022110.xml"
   ]
  },
  {
   "cell_type": "code",
   "execution_count": null,
   "id": "a59a8f0c-287e-4c80-b5a2-703ba8d34310",
   "metadata": {},
   "outputs": [],
   "source": [
    "!cat data/ebmsumcorpus-code-ddcc708b53b82cb4588192995fa274c671982bc6/Abstracts/"
   ]
  },
  {
   "cell_type": "code",
   "execution_count": 3,
   "id": "12d426a2-b288-4757-81e4-6268758d225a",
   "metadata": {},
   "outputs": [],
   "source": [
    "%config Completer.use_jedi = False"
   ]
  },
  {
   "cell_type": "code",
   "execution_count": 4,
   "id": "73187305-37d9-4982-bfca-e7d7e1b3883f",
   "metadata": {},
   "outputs": [],
   "source": [
    "import pandas as pd\n",
    "from tqdm.notebook import tqdm\n",
    "import re\n",
    "from typing import List\n",
    "import os\n",
    "import matplotlib.pyplot as plt\n",
    "from gensim.models import Word2Vec\n",
    "import numpy as np\n",
    "import gensim.downloader as api\n"
   ]
  },
  {
   "cell_type": "code",
   "execution_count": 5,
   "id": "b0596911-8695-404b-bbe7-d78c47e89ecd",
   "metadata": {},
   "outputs": [],
   "source": [
    "def load_docs(source_dir: str) -> List[List[str]]:\n",
    "    docs = []\n",
    "    for doc_name in os.listdir(source_dir):\n",
    "        if os.path.isdir(doc_name):\n",
    "            continue\n",
    "        with open(f'{source_dir}/{doc_name}') as fh:\n",
    "            doc = fh.readlines()\n",
    "            docs.append(doc)\n",
    "    return docs"
   ]
  },
  {
   "cell_type": "code",
   "execution_count": 6,
   "id": "a95592da-6af8-4004-ad1a-b69b6101c52e",
   "metadata": {},
   "outputs": [],
   "source": [
    "docs = load_docs('clean_txt')"
   ]
  },
  {
   "cell_type": "code",
   "execution_count": 79,
   "id": "0920ce62-5e33-4608-9f24-15fb779ef978",
   "metadata": {},
   "outputs": [],
   "source": [
    "docs_tokenized = [sent.split() for doc in docs for sent in doc]"
   ]
  },
  {
   "cell_type": "code",
   "execution_count": 80,
   "id": "d662970e-9a7d-4dfe-9c39-c04a8c7e97d5",
   "metadata": {},
   "outputs": [
    {
     "name": "stdout",
     "output_type": "stream",
     "text": [
      "/home/uadmin/gensim-data/glove-wiki-gigaword-200/glove-wiki-gigaword-200.gz\n"
     ]
    }
   ],
   "source": [
    "print(api.load('glove-wiki-gigaword-200', return_path=True))"
   ]
  },
  {
   "cell_type": "code",
   "execution_count": 81,
   "id": "91b2b0b8-9e70-401e-bd2f-aa9a97f2445b",
   "metadata": {},
   "outputs": [],
   "source": [
    "# # https://radimrehurek.com/gensim/models/word2vec.html#:~:text=common_texts%5D%2C%20min_count%3D1)-,Pretrained%20models,-Gensim%20comes%20with\n",
    "\n",
    "# pretrained_vectors = api.load('glove-wiki-gigaword-300')"
   ]
  },
  {
   "cell_type": "code",
   "execution_count": 101,
   "id": "8cc799c9-6d1e-40b2-8aad-920ad2ec4944",
   "metadata": {},
   "outputs": [
    {
     "name": "stdout",
     "output_type": "stream",
     "text": [
      "CPU times: user 34.1 s, sys: 280 ms, total: 34.4 s\n",
      "Wall time: 34.4 s\n"
     ]
    }
   ],
   "source": [
    "%%time\n",
    "\n",
    "import gensim\n",
    "\n",
    "model = '/home/uadmin/gensim-data/glove-wiki-gigaword-200/glove-wiki-gigaword-200.gz'\n",
    "\n",
    "pretrained_vectors = gensim.models.KeyedVectors.load_word2vec_format(model, binary=False)"
   ]
  },
  {
   "cell_type": "code",
   "execution_count": 102,
   "id": "d4f8a2ef-1fd3-406f-8d48-b34f0f2bdb5b",
   "metadata": {},
   "outputs": [],
   "source": [
    "from sklearn.metrics.pairwise import cosine_similarity\n",
    "\n",
    "def show_similarity_for_single_word(vectors, word):\n",
    "    matrix = cosine_similarity(vectors[word].reshape(1, -1), vectors.vectors)\n",
    "    plt.hist(matrix.squeeze(0), bins='rice', edgecolor='k')\n",
    "    plt.title(f'Распределение схожести для слова {word}')\n",
    "#     plt.savefig('distr_varicose_pretrained.png', dpi=300)"
   ]
  },
  {
   "cell_type": "code",
   "execution_count": 103,
   "id": "8ee5b841-5412-4083-a566-92bf5284bb35",
   "metadata": {},
   "outputs": [
    {
     "data": {
      "image/png": "[encoded data removed]",
      "text/plain": [
       "<Figure size 504x360 with 1 Axes>"
      ]
     },
     "metadata": {
      "needs_background": "light"
     },
     "output_type": "display_data"
    }
   ],
   "source": [
    "## ДЛЯ ПРЕЗЕНТАЦИИ\n",
    "from sklearn.metrics.pairwise import cosine_similarity\n",
    "\n",
    "word = 'varicose'\n",
    "matrix = cosine_similarity(pretrained_vectors[word].reshape(1, -1), pretrained_vectors.vectors)\n",
    "\n",
    "plt.figure(figsize=(7, 5))\n",
    "plt.hist(matrix.squeeze(0), bins='rice', edgecolor='k')\n",
    "plt.title(f'Распределение схожести для слова {word}')\n",
    "plt.xlim([-1, 1])\n",
    "plt.savefig(f'images/pretrained_{word}.png', dpi=300)"
   ]
  },
  {
   "cell_type": "code",
   "execution_count": 104,
   "id": "f9517c12-abff-4a0d-b905-1e2dacf69ade",
   "metadata": {},
   "outputs": [
    {
     "name": "stdout",
     "output_type": "stream",
     "text": [
      "veins                0.712\n",
      "hemorrhoids          0.562\n",
      "vein                 0.533\n",
      "sclerotherapy        0.513\n",
      "thrombosis           0.476\n",
      "phlebitis            0.473\n",
      "clots                0.465\n",
      "thrombophlebitis     0.462\n",
      "fibroids             0.458\n",
      "aneurysms            0.456\n"
     ]
    }
   ],
   "source": [
    "for token, val in pretrained_vectors.most_similar(word):\n",
    "    print(f'{token:<20} {val:.3f}')"
   ]
  },
  {
   "cell_type": "code",
   "execution_count": 109,
   "id": "05b634d6-4f9b-42bc-b793-845c8685f7e3",
   "metadata": {},
   "outputs": [
    {
     "name": "stdout",
     "output_type": "stream",
     "text": [
      "veins\n",
      "hemorrhoids\n",
      "vein\n",
      "sclerotherapy\n",
      "thrombosis\n",
      "phlebitis\n",
      "clots\n",
      "thrombophlebitis\n",
      "fibroids\n",
      "aneurysms\n",
      "0.712\n",
      "0.562\n",
      "0.533\n",
      "0.513\n",
      "0.476\n",
      "0.473\n",
      "0.465\n",
      "0.462\n",
      "0.458\n",
      "0.456\n"
     ]
    }
   ],
   "source": [
    "for v in pretrained_vectors.most_similar(word):\n",
    "    print(v[0])\n",
    "    \n",
    "for v in pretrained_vectors.most_similar(word):\n",
    "    print(round(v[1], 3))"
   ]
  }
 ],
 "metadata": {
  "kernelspec": {
   "display_name": "Python 3",
   "language": "python",
   "name": "python3"
  },
  "language_info": {
   "codemirror_mode": {
    "name": "ipython",
    "version": 3
   },
   "file_extension": ".py",
   "mimetype": "text/x-python",
   "name": "python",
   "nbconvert_exporter": "python",
   "pygments_lexer": "ipython3",
   "version": "3.8.10"
  }
 },
 "nbformat": 4,
 "nbformat_minor": 5
}
