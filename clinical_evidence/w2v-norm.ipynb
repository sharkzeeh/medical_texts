{
 "cells": [
  {
   "cell_type": "markdown",
   "id": "8565a8f7-2544-481b-8dca-4c2307884415",
   "metadata": {},
   "source": [
    "### Тестироваие нормализации"
   ]
  },
  {
   "cell_type": "code",
   "execution_count": 1,
   "id": "f1b356a5-7eaf-4b4c-9071-d2da2bc2a38b",
   "metadata": {},
   "outputs": [],
   "source": [
    "%config Completer.use_jedi = False"
   ]
  },
  {
   "cell_type": "code",
   "execution_count": 2,
   "id": "53c74344-38d2-4a0f-aef5-262bf19c454f",
   "metadata": {},
   "outputs": [],
   "source": [
    "import pandas as pd\n",
    "from tqdm.notebook import tqdm\n",
    "import re\n",
    "from typing import List\n",
    "import os\n",
    "import matplotlib.pyplot as plt\n",
    "from gensim.models import Word2Vec\n",
    "import numpy as np"
   ]
  },
  {
   "cell_type": "code",
   "execution_count": 3,
   "id": "2d6daba6-bf40-4721-b054-34935fa8cf75",
   "metadata": {},
   "outputs": [],
   "source": [
    "def load_docs(source_dir: str) -> List[List[str]]:\n",
    "    docs = []\n",
    "    for doc_name in os.listdir(source_dir):\n",
    "        if os.path.isdir(doc_name):\n",
    "            continue\n",
    "        with open(f'{source_dir}/{doc_name}') as fh:\n",
    "            doc = fh.readlines()\n",
    "            docs.append(doc)\n",
    "    return docs"
   ]
  },
  {
   "cell_type": "code",
   "execution_count": 4,
   "id": "eaf56969-8fbc-4d83-8cc5-14090b4ab71b",
   "metadata": {},
   "outputs": [],
   "source": [
    "docs = load_docs('clean_txt')"
   ]
  },
  {
   "cell_type": "code",
   "execution_count": 5,
   "id": "170bc6d8-e779-494f-b193-a5da1d78f09e",
   "metadata": {},
   "outputs": [],
   "source": [
    "docs_tokenized = [sent.split() for doc in docs for sent in doc]"
   ]
  },
  {
   "cell_type": "code",
   "execution_count": 6,
   "id": "31243db6-4f5e-449f-b581-714f66af3e22",
   "metadata": {},
   "outputs": [
    {
     "data": {
      "text/plain": [
       "1136"
      ]
     },
     "execution_count": 6,
     "metadata": {},
     "output_type": "execute_result"
    }
   ],
   "source": [
    "max_len = max([len(sent) for doc in docs for sent in doc])\n",
    "max_len"
   ]
  },
  {
   "cell_type": "code",
   "execution_count": 7,
   "id": "9c17819c-3af0-4145-b40b-b5cfb04dba1e",
   "metadata": {},
   "outputs": [],
   "source": [
    "# def normalize_vectors(model):\n",
    "#     vector_norms = np.linalg.norm(model.wv.vectors, axis=1)\n",
    "#     vectors = model.wv.vectors / vector_norms.reshape(-1, 1)\n",
    "#     return vectors"
   ]
  },
  {
   "cell_type": "code",
   "execution_count": 8,
   "id": "a7391f89-da44-4835-93e9-bcd4bb2ccad4",
   "metadata": {},
   "outputs": [],
   "source": [
    "from sklearn.metrics.pairwise import cosine_similarity\n",
    "\n",
    "def show_similarity_for_single_word(model, word):\n",
    "    matrix = cosine_similarity(model.wv[word].reshape(1, -1), model.wv.vectors)\n",
    "    plt.hist(matrix.squeeze(0), bins='rice', edgecolor='k')\n",
    "    plt.title(f'Распределение схожести для слова {word}')"
   ]
  },
  {
   "cell_type": "markdown",
   "id": "21eec322-d6f2-4a2b-bca3-2a2c15df44b0",
   "metadata": {},
   "source": [
    "### Модель 0"
   ]
  },
  {
   "cell_type": "code",
   "execution_count": 9,
   "id": "37111798-f0cf-44b8-8c8f-67efb2947cd6",
   "metadata": {},
   "outputs": [
    {
     "name": "stdout",
     "output_type": "stream",
     "text": [
      "CPU times: user 3.56 s, sys: 8.63 ms, total: 3.57 s\n",
      "Wall time: 3.54 s\n"
     ]
    },
    {
     "data": {
      "text/plain": [
       "(2593676, 2803990)"
      ]
     },
     "execution_count": 9,
     "metadata": {},
     "output_type": "execute_result"
    }
   ],
   "source": [
    "%%time\n",
    "\n",
    "model_w2v_0 = Word2Vec(\n",
    "    vector_size=100,\n",
    "    window=5, \n",
    "    min_count=2,\n",
    "    sg=0,  # CBOW\n",
    "    workers=1,\n",
    "    seed=42\n",
    ")\n",
    "\n",
    "model_w2v_0.epochs = 10\n",
    "\n",
    "model_w2v_0.build_vocab(docs_tokenized)\n",
    "\n",
    "model_w2v_0.train(docs_tokenized,\n",
    "                total_examples=model_w2v_0.corpus_count,\n",
    "                epochs=model_w2v_0.epochs)"
   ]
  },
  {
   "cell_type": "markdown",
   "id": "460f2585-9a59-4538-a13f-996dbfa26e5d",
   "metadata": {},
   "source": [
    "### use this instead\n",
    "\n",
    "### DESTRUCTIVE NORMALIZATION\n",
    "#model_tune.wv.unit_normalize_all()"
   ]
  },
  {
   "cell_type": "code",
   "execution_count": 10,
   "id": "aa4bcfd5-e67d-402b-9cf5-683a6a96a6e2",
   "metadata": {},
   "outputs": [],
   "source": [
    "## сохраняет л2 нормы векторов (при этом сами векторы ненормализованные)\n",
    "# model_w2v_0.wv.fill_norms(force=False)\n",
    "# model_w2v_0.wv.norms"
   ]
  },
  {
   "cell_type": "code",
   "execution_count": 11,
   "id": "e356e5a0-41f6-4929-a508-0a78f6139c84",
   "metadata": {},
   "outputs": [
    {
     "data": {
      "text/plain": [
       "array([[-0.46537304,  1.6411258 , -0.4501328 , ...,  0.713052  ,\n",
       "        -0.05369942, -1.4957473 ],\n",
       "       [-0.04479371,  0.6334832 ,  0.09048028, ..., -0.2828738 ,\n",
       "        -0.33726463,  0.62605137],\n",
       "       [ 0.7409735 ,  1.6443568 , -0.7840892 , ..., -0.8982663 ,\n",
       "        -0.44181132,  0.44436353],\n",
       "       ...,\n",
       "       [ 0.02909738, -0.05350833, -0.03794733, ...,  0.01466568,\n",
       "        -0.0193783 ,  0.02366561],\n",
       "       [ 0.01949738, -0.06293519, -0.01180959, ...,  0.00245689,\n",
       "        -0.0392247 , -0.04558348],\n",
       "       [ 0.02220099, -0.06638183, -0.05331264, ..., -0.00574383,\n",
       "        -0.02967591, -0.00672227]], dtype=float32)"
      ]
     },
     "execution_count": 11,
     "metadata": {},
     "output_type": "execute_result"
    }
   ],
   "source": [
    "model_w2v_0.wv.vectors"
   ]
  },
  {
   "cell_type": "code",
   "execution_count": 12,
   "id": "a38d3aba-8c14-4280-849b-851644b6c994",
   "metadata": {},
   "outputs": [],
   "source": [
    "model_w2v_0.wv.vectors = model_w2v_0.wv.get_normed_vectors()"
   ]
  },
  {
   "cell_type": "code",
   "execution_count": 13,
   "id": "ef276030-5e5c-43a2-8571-2ed05ec30974",
   "metadata": {},
   "outputs": [
    {
     "data": {
      "text/plain": [
       "array([7.7845325 , 7.217433  , 8.461568  , ..., 0.44577688, 0.33450106,\n",
       "       0.40845203], dtype=float32)"
      ]
     },
     "execution_count": 13,
     "metadata": {},
     "output_type": "execute_result"
    }
   ],
   "source": [
    "model_w2v_0.wv.norms"
   ]
  },
  {
   "cell_type": "code",
   "execution_count": 14,
   "id": "b6149975-779a-419a-8ef2-839f9f62de9d",
   "metadata": {},
   "outputs": [],
   "source": [
    "model_w2v_0.wv.norms = np.linalg.norm(model_w2v_0.wv.vectors, axis=1)"
   ]
  },
  {
   "cell_type": "code",
   "execution_count": 15,
   "id": "85ccd494-7a0c-41df-835b-18d3e2652b05",
   "metadata": {},
   "outputs": [
    {
     "data": {
      "text/plain": [
       "array([1.       , 1.       , 1.0000001, ..., 1.       , 1.       ,\n",
       "       1.       ], dtype=float32)"
      ]
     },
     "execution_count": 15,
     "metadata": {},
     "output_type": "execute_result"
    }
   ],
   "source": [
    "np.linalg.norm(model_w2v_0.wv.vectors, axis=1)"
   ]
  },
  {
   "cell_type": "code",
   "execution_count": 16,
   "id": "6073e303-4b42-4620-b34c-7ec3caacef04",
   "metadata": {},
   "outputs": [],
   "source": [
    "# model_w2v_0.wv.vectors = normalize_vectors(model_w2v_0)\n",
    "# print(model_w2v_0.wv['word'].reshape(1, -1).sum())\n",
    "# print(model_w2v_0.wv['word'][:10])"
   ]
  },
  {
   "cell_type": "code",
   "execution_count": 17,
   "id": "34c8c5e4-dc54-46ec-aa55-7f0bdc466753",
   "metadata": {},
   "outputs": [
    {
     "data": {
      "text/plain": [
       "[('dopaminergic', 0.8862311840057373),\n",
       " ('saphenous', 0.8847015500068665),\n",
       " ('vein', 0.865838885307312),\n",
       " ('phlebitis', 0.8653373122215271),\n",
       " ('urticaria', 0.8577818274497986),\n",
       " ('placement', 0.856633186340332),\n",
       " ('tympanostomy', 0.851760745048523),\n",
       " ('probiotic', 0.8497270941734314),\n",
       " ('remedy', 0.8480321764945984),\n",
       " ('indwelling', 0.8415325880050659)]"
      ]
     },
     "execution_count": 17,
     "metadata": {},
     "output_type": "execute_result"
    }
   ],
   "source": [
    "model_w2v_0.wv.most_similar('varicose')"
   ]
  },
  {
   "cell_type": "code",
   "execution_count": 18,
   "id": "ce166b59-dd1d-4883-92d7-2a8a14119ff4",
   "metadata": {},
   "outputs": [
    {
     "data": {
      "text/plain": [
       "[('conference', 0.861559271812439),\n",
       " ('discus', 0.8513166904449463),\n",
       " ('psychiatry', 0.8497380018234253),\n",
       " ('wisconsin', 0.8486155867576599),\n",
       " ('key', 0.8473687171936035),\n",
       " ('sport', 0.846464216709137),\n",
       " ('academy', 0.8452419638633728),\n",
       " ('naepp', 0.8429384231567383),\n",
       " ('force', 0.8389192223548889),\n",
       " ('pulmonology', 0.8384740352630615)]"
      ]
     },
     "execution_count": 18,
     "metadata": {},
     "output_type": "execute_result"
    }
   ],
   "source": [
    "model_w2v_0.wv.most_similar('cardiology')"
   ]
  },
  {
   "cell_type": "code",
   "execution_count": null,
   "id": "a6f8c1d0-722f-4b58-a822-801c615a6d1b",
   "metadata": {},
   "outputs": [],
   "source": [
    "model_w2v_0.wv.most_similar('blood')"
   ]
  },
  {
   "cell_type": "code",
   "execution_count": null,
   "id": "19a71a29-d205-4f13-812e-84c4bfefb393",
   "metadata": {},
   "outputs": [],
   "source": [
    "model_w2v_0.wv.most_similar('doctor')"
   ]
  },
  {
   "cell_type": "code",
   "execution_count": null,
   "id": "2c4eca38-fb93-485c-8b80-f70dc5584c07",
   "metadata": {},
   "outputs": [],
   "source": [
    "model_w2v_0.wv.most_similar('treatment')"
   ]
  },
  {
   "cell_type": "code",
   "execution_count": 19,
   "id": "bbcbe981-a983-47db-a047-b761021f2b72",
   "metadata": {},
   "outputs": [
    {
     "data": {
      "image/png": "[encoded data removed]",
      "text/plain": [
       "<Figure size 432x288 with 1 Axes>"
      ]
     },
     "metadata": {
      "needs_background": "light"
     },
     "output_type": "display_data"
    }
   ],
   "source": [
    "show_similarity_for_single_word(model_w2v_0, 'varicose')"
   ]
  },
  {
   "cell_type": "code",
   "execution_count": 20,
   "id": "6a554583-6d5e-400f-b17a-843a380a0cad",
   "metadata": {},
   "outputs": [
    {
     "data": {
      "image/png": "[encoded data removed]",
      "text/plain": [
       "<Figure size 432x288 with 1 Axes>"
      ]
     },
     "metadata": {
      "needs_background": "light"
     },
     "output_type": "display_data"
    }
   ],
   "source": [
    "show_similarity_for_single_word(model_w2v_0, 'cardiology')"
   ]
  },
  {
   "cell_type": "code",
   "execution_count": 21,
   "id": "31a38d06-2d24-440e-af2d-58901c9c1c07",
   "metadata": {},
   "outputs": [
    {
     "data": {
      "image/png": "[encoded data removed]",
      "text/plain": [
       "<Figure size 432x288 with 1 Axes>"
      ]
     },
     "metadata": {
      "needs_background": "light"
     },
     "output_type": "display_data"
    }
   ],
   "source": [
    "show_similarity_for_single_word(model_w2v_0, 'treatment')"
   ]
  }
 ],
 "metadata": {
  "kernelspec": {
   "display_name": "Python 3",
   "language": "python",
   "name": "python3"
  },
  "language_info": {
   "codemirror_mode": {
    "name": "ipython",
    "version": 3
   },
   "file_extension": ".py",
   "mimetype": "text/x-python",
   "name": "python",
   "nbconvert_exporter": "python",
   "pygments_lexer": "ipython3",
   "version": "3.8.10"
  }
 },
 "nbformat": 4,
 "nbformat_minor": 5
}
