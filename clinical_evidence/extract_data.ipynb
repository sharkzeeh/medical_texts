{
 "cells": [
  {
   "cell_type": "markdown",
   "id": "c31ce660-03b0-434b-b095-e47001cdaedb",
   "metadata": {},
   "source": [
    "[Data source](http://web.science.mq.edu.au/~diego/medicalnlp/#:~:text=code%2C%20please%20cite%3A-,A.%20Sarker%2C%20D.%20Moll%C3%A1%2C%20C.%20Paris.%20Query%2DOriented%20Evidence%20Extraction%20to%20Support%20Evidence%2Dbased%20Medicine%20Practice%20(2016).%20Journal%20of%20Biomedical%20Informatics%2C%2059%3A169%2D184.%20DOI%2010.1016/j.jbi.2015.11.010,-Clinical%20Evidence%20Detector)"
   ]
  },
  {
   "cell_type": "code",
   "execution_count": 1,
   "id": "97d9e6bd-bdab-43ec-9e83-8ed889b0b28c",
   "metadata": {},
   "outputs": [],
   "source": [
    "%config Completer.use_jedi = False"
   ]
  },
  {
   "cell_type": "code",
   "execution_count": 7,
   "id": "a31fe2e3-f3e7-4ba5-9909-402df3f8af9d",
   "metadata": {},
   "outputs": [],
   "source": [
    "# import requests\n",
    "# resp = requests.get('https://sourceforge.net/projects/clinevidence/files/latest/download')\n",
    "# with open('data.zip', 'wb') as fh:\n",
    "#     content = resp.content\n",
    "#     fh.write(content)"
   ]
  },
  {
   "cell_type": "code",
   "execution_count": 13,
   "id": "65ebd490-e117-4f14-b5ef-79ba3eb09d79",
   "metadata": {},
   "outputs": [],
   "source": [
    "!unzip ebmsumcorpus-code-ddcc708b53b82cb4588192995fa274c671982bc6.zip -d data &> /dev/null "
   ]
  },
  {
   "cell_type": "code",
   "execution_count": 19,
   "id": "c522100d-8bfd-45eb-9e65-72aa0001e16c",
   "metadata": {},
   "outputs": [],
   "source": [
    "from bs4 import BeautifulSoup"
   ]
  },
  {
   "cell_type": "code",
   "execution_count": 39,
   "id": "59dd4236-7625-4687-91fd-ad2cb44eadb3",
   "metadata": {},
   "outputs": [],
   "source": [
    "import os\n",
    "\n",
    "PATH = 'data/ebmsumcorpus-code-ddcc708b53b82cb4588192995fa274c671982bc6/Abstracts/'\n",
    "print(len(os.listdir(PATH)))\n",
    "if not os.path.exists('txt'):\n",
    "    os.makedirs('txt')"
   ]
  },
  {
   "cell_type": "code",
   "execution_count": 49,
   "id": "d0d594b0-1b76-497f-8913-309587896c8c",
   "metadata": {},
   "outputs": [
    {
     "data": {
      "application/vnd.jupyter.widget-view+json": {
       "model_id": "9c534672b554445cae37380050c7847e",
       "version_major": 2,
       "version_minor": 0
      },
      "text/plain": [
       "  0%|          | 0/2657 [00:00<?, ?it/s]"
      ]
     },
     "metadata": {},
     "output_type": "display_data"
    }
   ],
   "source": [
    "from tqdm.notebook import tqdm\n",
    "\n",
    "for abstract in tqdm(os.listdir(PATH)):\n",
    "    with open(PATH + '/' + abstract) as fh:\n",
    "        bs = BeautifulSoup(fh, \"lxml\")\n",
    "        \n",
    "        doc_text = ''\n",
    "        for text in bs.find_all('abstracttext'):\n",
    "            doc_text += text.text.strip() + ' '\n",
    "\n",
    "        doc_text = doc_text.strip()\n",
    "        \n",
    "        with open(f\"txt/{abstract.split('.')[0]}.txt\", 'w') as f:\n",
    "            f.write(doc_text)"
   ]
  }
 ],
 "metadata": {
  "kernelspec": {
   "display_name": "Python 3",
   "language": "python",
   "name": "python3"
  },
  "language_info": {
   "codemirror_mode": {
    "name": "ipython",
    "version": 3
   },
   "file_extension": ".py",
   "mimetype": "text/x-python",
   "name": "python",
   "nbconvert_exporter": "python",
   "pygments_lexer": "ipython3",
   "version": "3.8.10"
  }
 },
 "nbformat": 4,
 "nbformat_minor": 5
}
