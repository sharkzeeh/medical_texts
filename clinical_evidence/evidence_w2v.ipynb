{
 "cells": [
  {
   "cell_type": "code",
   "execution_count": 1,
   "id": "f1b356a5-7eaf-4b4c-9071-d2da2bc2a38b",
   "metadata": {},
   "outputs": [],
   "source": [
    "%config Completer.use_jedi = False"
   ]
  },
  {
   "cell_type": "code",
   "execution_count": 2,
   "id": "53c74344-38d2-4a0f-aef5-262bf19c454f",
   "metadata": {},
   "outputs": [],
   "source": [
    "import pandas as pd\n",
    "from tqdm.notebook import tqdm\n",
    "import re\n",
    "from typing import List\n",
    "import os\n",
    "import matplotlib.pyplot as plt\n",
    "from gensim.models import Word2Vec"
   ]
  },
  {
   "cell_type": "code",
   "execution_count": 3,
   "id": "2d6daba6-bf40-4721-b054-34935fa8cf75",
   "metadata": {},
   "outputs": [],
   "source": [
    "def load_docs(source_dir: str) -> List[List[str]]:\n",
    "    docs = []\n",
    "    for doc_name in os.listdir(source_dir):\n",
    "        if os.path.isdir(doc_name):\n",
    "            continue\n",
    "        with open(f'{source_dir}/{doc_name}') as fh:\n",
    "            doc = fh.readlines()\n",
    "            docs.append(doc)\n",
    "    return docs"
   ]
  },
  {
   "cell_type": "code",
   "execution_count": 4,
   "id": "eaf56969-8fbc-4d83-8cc5-14090b4ab71b",
   "metadata": {},
   "outputs": [],
   "source": [
    "docs = load_docs('clean_txt')"
   ]
  },
  {
   "cell_type": "code",
   "execution_count": 5,
   "id": "170bc6d8-e779-494f-b193-a5da1d78f09e",
   "metadata": {},
   "outputs": [],
   "source": [
    "docs_tokenized = [sent.split() for doc in docs for sent in doc]"
   ]
  },
  {
   "cell_type": "code",
   "execution_count": 6,
   "id": "31243db6-4f5e-449f-b581-714f66af3e22",
   "metadata": {},
   "outputs": [
    {
     "data": {
      "text/plain": [
       "1136"
      ]
     },
     "execution_count": 6,
     "metadata": {},
     "output_type": "execute_result"
    }
   ],
   "source": [
    "max_len = max([len(sent) for doc in docs for sent in doc])\n",
    "max_len"
   ]
  },
  {
   "cell_type": "code",
   "execution_count": 7,
   "id": "a7391f89-da44-4835-93e9-bcd4bb2ccad4",
   "metadata": {},
   "outputs": [],
   "source": [
    "from sklearn.metrics.pairwise import cosine_similarity\n",
    "\n",
    "def show_similarity_for_single_word(model, word):\n",
    "    matrix = cosine_similarity(model.wv[word].reshape(1, -1), model.wv.vectors)\n",
    "    plt.hist(matrix.squeeze(0), bins='rice', edgecolor='k')\n",
    "    plt.title(f'Распределение схожести для слова {word}')"
   ]
  },
  {
   "cell_type": "markdown",
   "id": "21eec322-d6f2-4a2b-bca3-2a2c15df44b0",
   "metadata": {},
   "source": [
    "### Модель 0"
   ]
  },
  {
   "cell_type": "code",
   "execution_count": 8,
   "id": "37111798-f0cf-44b8-8c8f-67efb2947cd6",
   "metadata": {},
   "outputs": [
    {
     "name": "stdout",
     "output_type": "stream",
     "text": [
      "CPU times: user 3.53 s, sys: 12.5 ms, total: 3.54 s\n",
      "Wall time: 3.51 s\n"
     ]
    },
    {
     "data": {
      "text/plain": [
       "(2593676, 2803990)"
      ]
     },
     "execution_count": 8,
     "metadata": {},
     "output_type": "execute_result"
    }
   ],
   "source": [
    "%%time\n",
    "\n",
    "model_w2v_0 = Word2Vec(\n",
    "    vector_size=100,\n",
    "    window=5, \n",
    "    min_count=2,\n",
    "    sg=0,  # CBOW\n",
    "    workers=1,\n",
    "    seed=42\n",
    ")\n",
    "\n",
    "model_w2v_0.epochs = 10\n",
    "\n",
    "model_w2v_0.build_vocab(docs_tokenized)\n",
    "\n",
    "model_w2v_0.train(docs_tokenized,\n",
    "                total_examples=model_w2v_0.corpus_count,\n",
    "                epochs=model_w2v_0.epochs)"
   ]
  },
  {
   "cell_type": "code",
   "execution_count": 9,
   "id": "34c8c5e4-dc54-46ec-aa55-7f0bdc466753",
   "metadata": {},
   "outputs": [
    {
     "data": {
      "text/plain": [
       "[('dopaminergic', 0.8862311840057373),\n",
       " ('saphenous', 0.8847014904022217),\n",
       " ('vein', 0.865838885307312),\n",
       " ('phlebitis', 0.8653373718261719),\n",
       " ('urticaria', 0.8577818274497986),\n",
       " ('placement', 0.8566332459449768),\n",
       " ('tympanostomy', 0.8517608046531677),\n",
       " ('probiotic', 0.8497269749641418),\n",
       " ('remedy', 0.8480321764945984),\n",
       " ('indwelling', 0.8415325880050659)]"
      ]
     },
     "execution_count": 9,
     "metadata": {},
     "output_type": "execute_result"
    }
   ],
   "source": [
    "model_w2v_0.wv.most_similar('varicose')"
   ]
  },
  {
   "cell_type": "code",
   "execution_count": 10,
   "id": "ce166b59-dd1d-4883-92d7-2a8a14119ff4",
   "metadata": {},
   "outputs": [
    {
     "data": {
      "text/plain": [
       "[('conference', 0.8615592122077942),\n",
       " ('discus', 0.8513166308403015),\n",
       " ('psychiatry', 0.8497378826141357),\n",
       " ('wisconsin', 0.8486154675483704),\n",
       " ('key', 0.8473686575889587),\n",
       " ('sport', 0.8464640974998474),\n",
       " ('academy', 0.8452419638633728),\n",
       " ('naepp', 0.8429384231567383),\n",
       " ('force', 0.8389191627502441),\n",
       " ('pulmonology', 0.8384740352630615)]"
      ]
     },
     "execution_count": 10,
     "metadata": {},
     "output_type": "execute_result"
    }
   ],
   "source": [
    "model_w2v_0.wv.most_similar('cardiology')"
   ]
  },
  {
   "cell_type": "code",
   "execution_count": 11,
   "id": "bbcbe981-a983-47db-a047-b761021f2b72",
   "metadata": {},
   "outputs": [
    {
     "data": {
      "image/png": "[encoded data removed]",
      "text/plain": [
       "<Figure size 432x288 with 1 Axes>"
      ]
     },
     "metadata": {
      "needs_background": "light"
     },
     "output_type": "display_data"
    }
   ],
   "source": [
    "show_similarity_for_single_word(model_w2v_0, 'varicose')"
   ]
  },
  {
   "cell_type": "code",
   "execution_count": 12,
   "id": "6a554583-6d5e-400f-b17a-843a380a0cad",
   "metadata": {},
   "outputs": [
    {
     "data": {
      "image/png": "[encoded data removed]",
      "text/plain": [
       "<Figure size 432x288 with 1 Axes>"
      ]
     },
     "metadata": {
      "needs_background": "light"
     },
     "output_type": "display_data"
    }
   ],
   "source": [
    "show_similarity_for_single_word(model_w2v_0, 'cardiology')"
   ]
  },
  {
   "cell_type": "code",
   "execution_count": 13,
   "id": "31a38d06-2d24-440e-af2d-58901c9c1c07",
   "metadata": {},
   "outputs": [
    {
     "data": {
      "image/png": "[encoded data removed]",
      "text/plain": [
       "<Figure size 432x288 with 1 Axes>"
      ]
     },
     "metadata": {
      "needs_background": "light"
     },
     "output_type": "display_data"
    }
   ],
   "source": [
    "show_similarity_for_single_word(model_w2v_0, 'treatment')"
   ]
  },
  {
   "cell_type": "markdown",
   "id": "ba568f2e-4ef8-487e-91a8-2ba4f8a5819c",
   "metadata": {},
   "source": [
    "### Модель 1"
   ]
  },
  {
   "cell_type": "code",
   "execution_count": 14,
   "id": "3b7c1830-2f2c-4deb-8d8f-70efff2cfd3a",
   "metadata": {},
   "outputs": [
    {
     "name": "stdout",
     "output_type": "stream",
     "text": [
      "CPU times: user 11.5 s, sys: 11.6 ms, total: 11.5 s\n",
      "Wall time: 11.1 s\n"
     ]
    },
    {
     "data": {
      "text/plain": [
       "(2593676, 2803990)"
      ]
     },
     "execution_count": 14,
     "metadata": {},
     "output_type": "execute_result"
    }
   ],
   "source": [
    "%%time\n",
    "\n",
    "model_w2v_1 = Word2Vec(\n",
    "    vector_size=100,\n",
    "    window=5, \n",
    "    min_count=2,\n",
    "    sg=1,  # SG\n",
    "    workers=1,\n",
    "    seed=42\n",
    ")\n",
    "\n",
    "model_w2v_1.epochs = 10\n",
    "\n",
    "model_w2v_1.build_vocab(docs_tokenized)\n",
    "\n",
    "model_w2v_1.train(docs_tokenized,\n",
    "                total_examples=model_w2v_1.corpus_count,\n",
    "                epochs=model_w2v_1.epochs)"
   ]
  },
  {
   "cell_type": "code",
   "execution_count": 15,
   "id": "2775e67f-ef52-4f2c-b92b-116d14f9371d",
   "metadata": {},
   "outputs": [
    {
     "data": {
      "text/plain": [
       "[('saphenous', 0.9160230755805969),\n",
       " ('thread', 0.9130890965461731),\n",
       " ('sclerotherapy', 0.9127246141433716),\n",
       " ('vein', 0.9099157452583313),\n",
       " ('stripping', 0.8768081665039062),\n",
       " ('saphenofemoral', 0.8541380763053894),\n",
       " ('indwelling', 0.8357131481170654),\n",
       " ('superficial', 0.829720675945282),\n",
       " ('counterbalanced', 0.825311541557312),\n",
       " ('ligated', 0.8217650651931763)]"
      ]
     },
     "execution_count": 15,
     "metadata": {},
     "output_type": "execute_result"
    }
   ],
   "source": [
    "model_w2v_1.wv.most_similar('varicose')"
   ]
  },
  {
   "cell_type": "code",
   "execution_count": 16,
   "id": "8bf4885b-d60b-4075-b863-919e3fd02ed1",
   "metadata": {},
   "outputs": [
    {
     "data": {
      "text/plain": [
       "[('council', 0.9232656955718994),\n",
       " ('consortium', 0.9196678996086121),\n",
       " ('pulmonology', 0.9191343188285828),\n",
       " ('sponsor', 0.9155759215354919),\n",
       " ('idsa', 0.9107913970947266),\n",
       " ('sponsored', 0.9069226980209351),\n",
       " ('official', 0.9057037830352783),\n",
       " ('acog', 0.9051952958106995),\n",
       " ('commissioned', 0.9003769755363464),\n",
       " ('mhra', 0.8970770239830017)]"
      ]
     },
     "execution_count": 16,
     "metadata": {},
     "output_type": "execute_result"
    }
   ],
   "source": [
    "model_w2v_1.wv.most_similar('cardiology')"
   ]
  },
  {
   "cell_type": "code",
   "execution_count": 17,
   "id": "329701d5-ff86-4b3b-af0e-25080c3144ea",
   "metadata": {},
   "outputs": [
    {
     "data": {
      "text/plain": [
       "[('therapy', 0.6159456968307495),\n",
       " ('management', 0.6154820322990417),\n",
       " ('metoclopramide', 0.5908429622650146),\n",
       " ('relapsed', 0.5878416895866394),\n",
       " ('boulardii', 0.5820193886756897),\n",
       " ('nonpharmacological', 0.5817995667457581),\n",
       " ('treating', 0.5807437300682068),\n",
       " ('pimecrolimus', 0.5770063996315002),\n",
       " ('highpotency', 0.5750764012336731),\n",
       " ('welltolerated', 0.568181037902832)]"
      ]
     },
     "execution_count": 17,
     "metadata": {},
     "output_type": "execute_result"
    }
   ],
   "source": [
    "model_w2v_1.wv.most_similar('treatment')"
   ]
  },
  {
   "cell_type": "code",
   "execution_count": 18,
   "id": "42342fa2-6fae-40ad-9354-c78626d7f433",
   "metadata": {},
   "outputs": [
    {
     "data": {
      "image/png": "[encoded data removed]",
      "text/plain": [
       "<Figure size 432x288 with 1 Axes>"
      ]
     },
     "metadata": {
      "needs_background": "light"
     },
     "output_type": "display_data"
    }
   ],
   "source": [
    "show_similarity_for_single_word(model_w2v_1, 'cardiology')"
   ]
  },
  {
   "cell_type": "code",
   "execution_count": 19,
   "id": "70ccfe4d-7712-44fb-8736-cac9dbdfd189",
   "metadata": {},
   "outputs": [
    {
     "data": {
      "image/png": "[encoded data removed]",
      "text/plain": [
       "<Figure size 432x288 with 1 Axes>"
      ]
     },
     "metadata": {
      "needs_background": "light"
     },
     "output_type": "display_data"
    }
   ],
   "source": [
    "show_similarity_for_single_word(model_w2v_1, 'treatment')"
   ]
  },
  {
   "cell_type": "markdown",
   "id": "737f2bfa-93f4-4bf8-b1bb-07c4c8a1d85e",
   "metadata": {},
   "source": [
    "### Модель 2"
   ]
  },
  {
   "cell_type": "code",
   "execution_count": 20,
   "id": "7a80c2b4-6ff1-4baa-96ca-d272228eff90",
   "metadata": {},
   "outputs": [
    {
     "name": "stdout",
     "output_type": "stream",
     "text": [
      "CPU times: user 17.5 s, sys: 11 ms, total: 17.5 s\n",
      "Wall time: 17.1 s\n"
     ]
    },
    {
     "data": {
      "text/plain": [
       "(2593244, 2803990)"
      ]
     },
     "execution_count": 20,
     "metadata": {},
     "output_type": "execute_result"
    }
   ],
   "source": [
    "%%time\n",
    "\n",
    "model_w2v_2 = Word2Vec(\n",
    "    vector_size=100,\n",
    "    window=10, \n",
    "    min_count=2,\n",
    "    sg=1,  # SG\n",
    "    workers=1,\n",
    "    seed=42\n",
    ")\n",
    "\n",
    "model_w2v_2.epochs = 10\n",
    "\n",
    "model_w2v_2.build_vocab(docs_tokenized)\n",
    "\n",
    "model_w2v_2.train(docs_tokenized,\n",
    "                total_examples=model_w2v_2.corpus_count,\n",
    "                epochs=model_w2v_2.epochs)"
   ]
  },
  {
   "cell_type": "code",
   "execution_count": 27,
   "id": "37b13aec-4e4f-443c-8329-48639344adfd",
   "metadata": {},
   "outputs": [
    {
     "data": {
      "text/plain": [
       "[('congestive', 0.7816011309623718),\n",
       " ('pacemaker', 0.7327263355255127),\n",
       " ('transplant', 0.7313067317008972),\n",
       " ('iiiv', 0.7241445183753967),\n",
       " ('leftventricular', 0.7125802636146545),\n",
       " ('failure', 0.6960839033126831),\n",
       " ('chf', 0.6940628886222839),\n",
       " ('postmyocardial', 0.6901230216026306),\n",
       " ('reykjavik', 0.6886174082756042),\n",
       " ('nyha', 0.6840158700942993)]"
      ]
     },
     "execution_count": 27,
     "metadata": {},
     "output_type": "execute_result"
    }
   ],
   "source": [
    "model_w2v_2.wv.most_similar('heart')"
   ]
  },
  {
   "cell_type": "code",
   "execution_count": 21,
   "id": "99244bce-0678-4ac5-9bd4-f7dfd6304f54",
   "metadata": {},
   "outputs": [
    {
     "data": {
      "text/plain": [
       "[('therapy', 0.6139280796051025),\n",
       " ('immunosuppressive', 0.601547122001648),\n",
       " ('mtx', 0.6009293794631958),\n",
       " ('relapsed', 0.5982491374015808),\n",
       " ('abbreviated', 0.5925164222717285),\n",
       " ('longerterm', 0.5914967060089111),\n",
       " ('guanfacine', 0.591187596321106),\n",
       " ('difficileassociated', 0.5911017656326294),\n",
       " ('nondirective', 0.5902730226516724),\n",
       " ('metoclopramide', 0.5860422849655151)]"
      ]
     },
     "execution_count": 21,
     "metadata": {},
     "output_type": "execute_result"
    }
   ],
   "source": [
    "model_w2v_2.wv.most_similar('treatment')"
   ]
  },
  {
   "cell_type": "code",
   "execution_count": 22,
   "id": "daa2772e-3754-4ea5-be0c-94910c619f21",
   "metadata": {},
   "outputs": [
    {
     "data": {
      "image/png": "[encoded data removed]",
      "text/plain": [
       "<Figure size 432x288 with 1 Axes>"
      ]
     },
     "metadata": {
      "needs_background": "light"
     },
     "output_type": "display_data"
    }
   ],
   "source": [
    "show_similarity_for_single_word(model_w2v_2, 'treatment')"
   ]
  },
  {
   "cell_type": "markdown",
   "id": "d6e51d4a-cc9a-49f7-a6a1-2ad0127c5704",
   "metadata": {},
   "source": [
    "### Модель 3"
   ]
  },
  {
   "cell_type": "code",
   "execution_count": 23,
   "id": "5351a830-d34a-4ad0-9478-f91ce80965b4",
   "metadata": {},
   "outputs": [
    {
     "name": "stdout",
     "output_type": "stream",
     "text": [
      "CPU times: user 4.57 s, sys: 20.3 ms, total: 4.59 s\n",
      "Wall time: 4.09 s\n"
     ]
    },
    {
     "data": {
      "text/plain": [
       "(2592637, 2803990)"
      ]
     },
     "execution_count": 23,
     "metadata": {},
     "output_type": "execute_result"
    }
   ],
   "source": [
    "%%time\n",
    "\n",
    "model_w2v_3 = Word2Vec(\n",
    "    vector_size=100,\n",
    "    window=25, \n",
    "    min_count=2,\n",
    "    sg=0,  # SG\n",
    "    workers=1,\n",
    "    seed=42\n",
    ")\n",
    "\n",
    "model_w2v_3.epochs = 10\n",
    "\n",
    "model_w2v_3.build_vocab(docs_tokenized)\n",
    "\n",
    "model_w2v_3.train(docs_tokenized,\n",
    "                total_examples=model_w2v_3.corpus_count,\n",
    "                epochs=model_w2v_3.epochs)"
   ]
  },
  {
   "cell_type": "code",
   "execution_count": 26,
   "id": "2f136b6d-f293-4dc4-9472-bc6de8639646",
   "metadata": {},
   "outputs": [
    {
     "data": {
      "text/plain": [
       "[('familiar', 0.7186689376831055),\n",
       " ('nuclear', 0.7109702825546265),\n",
       " ('radionuclide', 0.6569560766220093),\n",
       " ('ideally', 0.6489567160606384),\n",
       " ('companion', 0.6429451107978821),\n",
       " ('wheez', 0.6363751888275146),\n",
       " ('mrfit', 0.6099407076835632),\n",
       " ('cht', 0.6061455011367798),\n",
       " ('await', 0.5900614857673645),\n",
       " ('assign', 0.584007203578949)]"
      ]
     },
     "execution_count": 26,
     "metadata": {},
     "output_type": "execute_result"
    }
   ],
   "source": [
    "model_w2v_3.wv.most_similar('cardiology')"
   ]
  },
  {
   "cell_type": "code",
   "execution_count": 24,
   "id": "a4dc8b4f-d306-4291-9a4d-10c2aba2fc38",
   "metadata": {},
   "outputs": [
    {
     "data": {
      "text/plain": [
       "[('amitriptyline', 0.7586389780044556),\n",
       " ('relapse', 0.7572187185287476),\n",
       " ('biofeedback', 0.7571710348129272),\n",
       " ('welltolerated', 0.7442721128463745),\n",
       " ('corticosteroid', 0.7417144775390625),\n",
       " ('desmopressin', 0.7312538623809814),\n",
       " ('divalproex', 0.7256027460098267),\n",
       " ('pharmacotherapy', 0.7248607277870178),\n",
       " ('migraine', 0.7220543622970581),\n",
       " ('valproate', 0.7181082963943481)]"
      ]
     },
     "execution_count": 24,
     "metadata": {},
     "output_type": "execute_result"
    }
   ],
   "source": [
    "model_w2v_3.wv.most_similar('treatment')"
   ]
  },
  {
   "cell_type": "code",
   "execution_count": 25,
   "id": "8c00399c-a7be-4c2e-a692-a422f1bcf3ee",
   "metadata": {},
   "outputs": [
    {
     "data": {
      "image/png": "[encoded data removed]",
      "text/plain": [
       "<Figure size 432x288 with 1 Axes>"
      ]
     },
     "metadata": {
      "needs_background": "light"
     },
     "output_type": "display_data"
    }
   ],
   "source": [
    "show_similarity_for_single_word(model_w2v_3, 'treatment')"
   ]
  }
 ],
 "metadata": {
  "kernelspec": {
   "display_name": "Python 3",
   "language": "python",
   "name": "python3"
  },
  "language_info": {
   "codemirror_mode": {
    "name": "ipython",
    "version": 3
   },
   "file_extension": ".py",
   "mimetype": "text/x-python",
   "name": "python",
   "nbconvert_exporter": "python",
   "pygments_lexer": "ipython3",
   "version": "3.8.10"
  }
 },
 "nbformat": 4,
 "nbformat_minor": 5
}
