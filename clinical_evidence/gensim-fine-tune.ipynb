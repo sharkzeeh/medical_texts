{
 "cells": [
  {
   "cell_type": "markdown",
   "id": "53a57daf-e2bb-4bab-b8e8-44983c833af1",
   "metadata": {},
   "source": [
    "### Fine tune a pretrained model\n",
    "\n",
    "[Implementation](https://datascience.stackexchange.com/questions/10695/how-to-initialize-a-new-word2vec-model-with-pre-trained-model-weights#:~:text=Thank%20Abhishek.%20I%27ve%20figure%20it%20out!%20Here%20are%20my%20experiments)"
   ]
  },
  {
   "cell_type": "code",
   "execution_count": 1,
   "id": "635617d6-701d-437b-8787-51d3e4133e17",
   "metadata": {},
   "outputs": [],
   "source": [
    "### DESTRUCTIVE NORMALIZATION\n",
    "#model_tune.wv.unit_normalize_all()"
   ]
  },
  {
   "cell_type": "code",
   "execution_count": 2,
   "id": "12d426a2-b288-4757-81e4-6268758d225a",
   "metadata": {},
   "outputs": [],
   "source": [
    "%config Completer.use_jedi = False"
   ]
  },
  {
   "cell_type": "code",
   "execution_count": 3,
   "id": "73187305-37d9-4982-bfca-e7d7e1b3883f",
   "metadata": {},
   "outputs": [],
   "source": [
    "import pandas as pd\n",
    "from tqdm.notebook import tqdm\n",
    "import re\n",
    "from typing import List\n",
    "import os\n",
    "import matplotlib.pyplot as plt\n",
    "from gensim.models import Word2Vec\n",
    "import numpy as np\n",
    "import gensim.downloader as api\n"
   ]
  },
  {
   "cell_type": "code",
   "execution_count": 4,
   "id": "b0596911-8695-404b-bbe7-d78c47e89ecd",
   "metadata": {},
   "outputs": [],
   "source": [
    "def load_docs(source_dir: str) -> List[List[str]]:\n",
    "    docs = []\n",
    "    for doc_name in os.listdir(source_dir):\n",
    "        if os.path.isdir(doc_name):\n",
    "            continue\n",
    "        with open(f'{source_dir}/{doc_name}') as fh:\n",
    "            doc = fh.readlines()\n",
    "            docs.append(doc)\n",
    "    return docs"
   ]
  },
  {
   "cell_type": "code",
   "execution_count": 5,
   "id": "a95592da-6af8-4004-ad1a-b69b6101c52e",
   "metadata": {},
   "outputs": [],
   "source": [
    "docs = load_docs('clean_txt')"
   ]
  },
  {
   "cell_type": "code",
   "execution_count": 6,
   "id": "0920ce62-5e33-4608-9f24-15fb779ef978",
   "metadata": {},
   "outputs": [],
   "source": [
    "docs_tokenized = [sent.split() for doc in docs for sent in doc]"
   ]
  },
  {
   "cell_type": "code",
   "execution_count": 7,
   "id": "d662970e-9a7d-4dfe-9c39-c04a8c7e97d5",
   "metadata": {},
   "outputs": [
    {
     "name": "stdout",
     "output_type": "stream",
     "text": [
      "/home/uadmin/gensim-data/glove-wiki-gigaword-200/glove-wiki-gigaword-200.gz\n"
     ]
    }
   ],
   "source": [
    "print(api.load('glove-wiki-gigaword-200', return_path=True))"
   ]
  },
  {
   "cell_type": "code",
   "execution_count": 9,
   "id": "6b3b5d78-134d-435a-be9b-b4fa6db559a7",
   "metadata": {},
   "outputs": [],
   "source": [
    "# import gensim\n",
    "\n",
    "# model_path = \"/home/uadmin/Projects/skill_matrix/ResumeRanking/data/glove.6B.300d.word2vec.txt\"\n",
    "# pretrained_vectors = gensim.models.KeyedVectors.load_word2vec_format(model_path, binary=False)"
   ]
  },
  {
   "cell_type": "code",
   "execution_count": 10,
   "id": "b1802c1f-2e32-4793-99b0-78afc2b59628",
   "metadata": {},
   "outputs": [
    {
     "name": "stdout",
     "output_type": "stream",
     "text": [
      "CPU times: user 35.2 s, sys: 228 ms, total: 35.4 s\n",
      "Wall time: 35.4 s\n"
     ]
    }
   ],
   "source": [
    "%%time\n",
    "\n",
    "import gensim\n",
    "\n",
    "model_path = '/home/uadmin/gensim-data/glove-wiki-gigaword-200/glove-wiki-gigaword-200.gz'\n",
    "pretrained_vectors = gensim.models.KeyedVectors.load_word2vec_format(model_path, binary=False)"
   ]
  },
  {
   "cell_type": "code",
   "execution_count": 11,
   "id": "7ad3c97e-8773-464d-bf4b-75826c2e28cd",
   "metadata": {},
   "outputs": [
    {
     "name": "stdout",
     "output_type": "stream",
     "text": [
      "CPU times: user 247 ms, sys: 96 µs, total: 247 ms\n",
      "Wall time: 246 ms\n"
     ]
    }
   ],
   "source": [
    "%%time\n",
    "\n",
    "model_tune = Word2Vec(\n",
    "    vector_size=200,\n",
    "    window=5,\n",
    "    min_count=1,   # DON'T SET IT TO OTHER THAN 1 FOR FINE-TUNING\n",
    "    seed=42\n",
    ")\n",
    "\n",
    "model_tune.epochs = 10\n",
    "model_tune.build_vocab(docs_tokenized)\n",
    "\n",
    "total_examples = model_tune.corpus_count"
   ]
  },
  {
   "cell_type": "code",
   "execution_count": 12,
   "id": "f6f87312-4722-4178-a9d5-08c736a455ab",
   "metadata": {},
   "outputs": [
    {
     "name": "stdout",
     "output_type": "stream",
     "text": [
      "15195\n"
     ]
    }
   ],
   "source": [
    "print(len(model_tune.wv.key_to_index))"
   ]
  },
  {
   "cell_type": "code",
   "execution_count": 13,
   "id": "1fac9a07-7757-4feb-b854-eb68042ef772",
   "metadata": {},
   "outputs": [
    {
     "data": {
      "text/plain": [
       "400000"
      ]
     },
     "execution_count": 13,
     "metadata": {},
     "output_type": "execute_result"
    }
   ],
   "source": [
    "len(list(pretrained_vectors.key_to_index))"
   ]
  },
  {
   "cell_type": "code",
   "execution_count": 55,
   "id": "f8872c0d-683e-4176-bf6a-477f463667dc",
   "metadata": {},
   "outputs": [],
   "source": [
    "# list(set(pretrained_vectors.key_to_index) - set([word for sent in docs_tokenized for word in sent]))\\\n",
    "# [:20]"
   ]
  },
  {
   "cell_type": "code",
   "execution_count": 56,
   "id": "e24948cf-490d-4f3e-96aa-e6f315a28544",
   "metadata": {},
   "outputs": [
    {
     "data": {
      "text/plain": [
       "['the', ',', '.', 'of', 'to']"
      ]
     },
     "execution_count": 56,
     "metadata": {},
     "output_type": "execute_result"
    }
   ],
   "source": [
    "list(pretrained_vectors.key_to_index)[:5]"
   ]
  },
  {
   "cell_type": "code",
   "execution_count": 14,
   "id": "715b07fb-4545-4835-97ee-9a59ca0cba91",
   "metadata": {},
   "outputs": [
    {
     "name": "stdout",
     "output_type": "stream",
     "text": [
      "CPU times: user 5.94 s, sys: 84 ms, total: 6.02 s\n",
      "Wall time: 6.02 s\n"
     ]
    }
   ],
   "source": [
    "%%time\n",
    "model_tune.build_vocab([list(pretrained_vectors.key_to_index)], update=True)"
   ]
  },
  {
   "cell_type": "code",
   "execution_count": 15,
   "id": "69eefb7d-2d7f-4933-8ad9-5d65ac9b2e5b",
   "metadata": {},
   "outputs": [
    {
     "name": "stdout",
     "output_type": "stream",
     "text": [
      "404761\n"
     ]
    }
   ],
   "source": [
    "print(len(model_tune.wv.key_to_index))"
   ]
  },
  {
   "cell_type": "code",
   "execution_count": 16,
   "id": "fa0a2a2a-0bc9-41bd-8601-adc3b5174f16",
   "metadata": {},
   "outputs": [
    {
     "data": {
      "text/plain": [
       "array([1.], dtype=float32)"
      ]
     },
     "execution_count": 16,
     "metadata": {},
     "output_type": "execute_result"
    }
   ],
   "source": [
    "model_tune.wv.vectors_lockf"
   ]
  },
  {
   "cell_type": "code",
   "execution_count": 17,
   "id": "555a4d02-9b3a-4a2e-bfa4-c845c76f0d12",
   "metadata": {},
   "outputs": [
    {
     "name": "stdout",
     "output_type": "stream",
     "text": [
      "CPU times: user 32 s, sys: 79.9 ms, total: 32.1 s\n",
      "Wall time: 32.1 s\n"
     ]
    }
   ],
   "source": [
    "%%time\n",
    "model_tune.wv.vectors_lockf = np.zeros(len(model_tune.wv.key_to_index))\n",
    "model_tune.wv.intersect_word2vec_format(model_path, binary=False, lockf=1.0)"
   ]
  },
  {
   "cell_type": "code",
   "execution_count": 18,
   "id": "b40e3f0e-1680-48ee-b379-75044346cbf5",
   "metadata": {},
   "outputs": [
    {
     "name": "stdout",
     "output_type": "stream",
     "text": [
      "CPU times: user 7.56 s, sys: 24.2 ms, total: 7.59 s\n",
      "Wall time: 2.68 s\n"
     ]
    },
    {
     "data": {
      "text/plain": [
       "(2803990, 2803990)"
      ]
     },
     "execution_count": 18,
     "metadata": {},
     "output_type": "execute_result"
    }
   ],
   "source": [
    "%%time\n",
    "model_tune.train(docs_tokenized,\n",
    "                total_examples=total_examples,\n",
    "                epochs=model_tune.epochs)"
   ]
  },
  {
   "cell_type": "code",
   "execution_count": 45,
   "id": "d4f8a2ef-1fd3-406f-8d48-b34f0f2bdb5b",
   "metadata": {},
   "outputs": [],
   "source": [
    "from sklearn.metrics.pairwise import cosine_similarity\n",
    "\n",
    "def show_similarity_for_single_word(model, word):\n",
    "    matrix = cosine_similarity(model.wv[word].reshape(1, -1), model.wv.vectors)\n",
    "    plt.hist(matrix.squeeze(0), bins='rice', edgecolor='k')\n",
    "    plt.title(f'Распределение схожести для слова {word}')"
   ]
  },
  {
   "cell_type": "code",
   "execution_count": 46,
   "id": "f9517c12-abff-4a0d-b905-1e2dacf69ade",
   "metadata": {},
   "outputs": [
    {
     "data": {
      "text/plain": [
       "[('veins', 0.7123990058898926),\n",
       " ('hemorrhoids', 0.5619627237319946),\n",
       " ('vein', 0.5328717231750488),\n",
       " ('sclerotherapy', 0.5134063959121704),\n",
       " ('phlebitis', 0.4901633560657501),\n",
       " ('clots', 0.46471312642097473),\n",
       " ('thrombophlebitis', 0.4622771441936493),\n",
       " ('fibroids', 0.4576674699783325),\n",
       " ('aneurysms', 0.4559440016746521),\n",
       " ('arteries', 0.4541727900505066)]"
      ]
     },
     "execution_count": 46,
     "metadata": {},
     "output_type": "execute_result"
    }
   ],
   "source": [
    "model_tune.wv.most_similar('varicose')"
   ]
  },
  {
   "cell_type": "code",
   "execution_count": 47,
   "id": "171bba12-ee86-4d6d-9c73-107557ecc28e",
   "metadata": {},
   "outputs": [
    {
     "data": {
      "text/plain": [
       "[('oncology', 0.7672789096832275),\n",
       " ('radiology', 0.7594185471534729),\n",
       " ('neurology', 0.7529079914093018),\n",
       " ('dermatology', 0.73642897605896),\n",
       " ('gastroenterology', 0.7253237962722778),\n",
       " ('neurosurgery', 0.7115159034729004),\n",
       " ('urology', 0.705947756767273),\n",
       " ('rheumatology', 0.703707754611969),\n",
       " ('ophthalmology', 0.6759422421455383),\n",
       " ('interventional', 0.6631497740745544)]"
      ]
     },
     "execution_count": 47,
     "metadata": {},
     "output_type": "execute_result"
    }
   ],
   "source": [
    "model_tune.wv.most_similar('cardiology')"
   ]
  },
  {
   "cell_type": "code",
   "execution_count": 51,
   "id": "9c48b3d1-e51d-4ed9-8f6d-b39fb59e401d",
   "metadata": {},
   "outputs": [
    {
     "data": {
      "text/plain": [
       "[('pressure', 0.8622496724128723),\n",
       " ('measurement', 0.838659405708313),\n",
       " ('antiebv', 0.8362182378768921),\n",
       " ('quantitated', 0.8314331769943237),\n",
       " ('patientsystolic', 0.8241846561431885),\n",
       " ('artzal', 0.8194528818130493),\n",
       " ('cubeba', 0.8134636878967285),\n",
       " ('technicon', 0.8129300475120544),\n",
       " ('stks', 0.8107061982154846),\n",
       " ('supartz', 0.8074259161949158)]"
      ]
     },
     "execution_count": 51,
     "metadata": {},
     "output_type": "execute_result"
    }
   ],
   "source": [
    "model_tune.wv.most_similar('blood')"
   ]
  },
  {
   "cell_type": "code",
   "execution_count": 53,
   "id": "b0ddf5a2-3086-4377-b48d-27b20d50b82e",
   "metadata": {},
   "outputs": [
    {
     "data": {
      "text/plain": [
       "[('physician', 0.8301016688346863),\n",
       " ('medical', 0.7868058085441589),\n",
       " ('hospital', 0.7566002607345581),\n",
       " ('medicine', 0.7407031655311584),\n",
       " ('doctors', 0.7404798269271851),\n",
       " ('general', 0.72267085313797),\n",
       " ('pediatric', 0.720465898513794),\n",
       " ('outpatient', 0.7132462859153748),\n",
       " ('emergency', 0.7089836597442627),\n",
       " ('specialist', 0.7076731324195862)]"
      ]
     },
     "execution_count": 53,
     "metadata": {},
     "output_type": "execute_result"
    }
   ],
   "source": [
    "model_tune.wv.most_similar('doctor')"
   ]
  },
  {
   "cell_type": "code",
   "execution_count": 52,
   "id": "ea611798-250e-4131-8e09-64750e5ce987",
   "metadata": {},
   "outputs": [
    {
     "data": {
      "text/plain": [
       "[('treatments', 0.7339935898780823),\n",
       " ('treated', 0.7296231389045715),\n",
       " ('treat', 0.7193353772163391),\n",
       " ('patients', 0.7166020274162292),\n",
       " ('therapy', 0.6945323348045349),\n",
       " ('treating', 0.6901863813400269),\n",
       " ('patient', 0.6717613339424133),\n",
       " ('psychiatric', 0.6431329846382141),\n",
       " ('care', 0.6324152946472168),\n",
       " ('medication', 0.6259459853172302)]"
      ]
     },
     "execution_count": 52,
     "metadata": {},
     "output_type": "execute_result"
    }
   ],
   "source": [
    "pretrained_vectors.most_similar('treatment')"
   ]
  },
  {
   "cell_type": "code",
   "execution_count": 48,
   "id": "b3c2d295-c8c0-4f3d-8f08-6dbcd78fe495",
   "metadata": {},
   "outputs": [
    {
     "data": {
      "image/png": "[encoded data removed]",
      "text/plain": [
       "<Figure size 432x288 with 1 Axes>"
      ]
     },
     "metadata": {
      "needs_background": "light"
     },
     "output_type": "display_data"
    }
   ],
   "source": [
    "show_similarity_for_single_word(model_tune, 'varicose')"
   ]
  },
  {
   "cell_type": "code",
   "execution_count": 49,
   "id": "20459037-c878-49ce-88bf-e8f699c2f966",
   "metadata": {},
   "outputs": [
    {
     "data": {
      "image/png": "[encoded data removed]",
      "text/plain": [
       "<Figure size 432x288 with 1 Axes>"
      ]
     },
     "metadata": {
      "needs_background": "light"
     },
     "output_type": "display_data"
    }
   ],
   "source": [
    "show_similarity_for_single_word(model_tune, 'cardiology')"
   ]
  },
  {
   "cell_type": "code",
   "execution_count": 50,
   "id": "d82bf884-6277-451a-b267-5910849c88e9",
   "metadata": {},
   "outputs": [
    {
     "data": {
      "image/png": "[encoded data removed]",
      "text/plain": [
       "<Figure size 432x288 with 1 Axes>"
      ]
     },
     "metadata": {
      "needs_background": "light"
     },
     "output_type": "display_data"
    }
   ],
   "source": [
    "show_similarity_for_single_word(model_tune, 'treatment')"
   ]
  },
  {
   "cell_type": "code",
   "execution_count": null,
   "id": "eca790e3-0954-4ba4-93ab-98036aafc425",
   "metadata": {},
   "outputs": [],
   "source": []
  }
 ],
 "metadata": {
  "kernelspec": {
   "display_name": "Python 3",
   "language": "python",
   "name": "python3"
  },
  "language_info": {
   "codemirror_mode": {
    "name": "ipython",
    "version": 3
   },
   "file_extension": ".py",
   "mimetype": "text/x-python",
   "name": "python",
   "nbconvert_exporter": "python",
   "pygments_lexer": "ipython3",
   "version": "3.8.10"
  }
 },
 "nbformat": 4,
 "nbformat_minor": 5
}
