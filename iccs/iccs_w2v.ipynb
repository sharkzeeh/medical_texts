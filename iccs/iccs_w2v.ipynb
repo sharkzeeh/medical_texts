{
 "cells": [
  {
   "cell_type": "code",
   "execution_count": 1,
   "id": "2f5a6465-9493-4833-b891-857d7e1349af",
   "metadata": {},
   "outputs": [],
   "source": [
    "%config Completer.use_jedi = False"
   ]
  },
  {
   "cell_type": "code",
   "execution_count": 19,
   "id": "d2d7d8a4-2489-458a-b948-0191e360be29",
   "metadata": {},
   "outputs": [],
   "source": [
    "import pandas as pd\n",
    "from tqdm.notebook import tqdm\n",
    "import re\n",
    "from typing import List\n",
    "import os\n",
    "import matplotlib.pyplot as plt"
   ]
  },
  {
   "cell_type": "code",
   "execution_count": 24,
   "id": "9be851c8-2899-4450-97f4-844373a28e5d",
   "metadata": {},
   "outputs": [],
   "source": [
    "from gensim.models import Word2Vec\n",
    "\n",
    "model_w2v = Word2Vec(\n",
    "    vector_size=100,\n",
    "    window=10, \n",
    "    min_count=2,\n",
    "    sg=0,\n",
    "    workers=1,\n",
    "    seed=42\n",
    ")"
   ]
  },
  {
   "cell_type": "code",
   "execution_count": 25,
   "id": "95c413de-27f7-4683-b101-44939e83a59f",
   "metadata": {},
   "outputs": [],
   "source": [
    "def load_docs(source_dir: str) -> List[List[str]]:\n",
    "    docs = []\n",
    "    for doc_name in os.listdir(source_dir):\n",
    "        if os.path.isdir(doc_name):\n",
    "            continue\n",
    "        with open(f'{source_dir}/{doc_name}') as fh:\n",
    "            doc = fh.readlines()\n",
    "            docs.append(doc)\n",
    "    return docs"
   ]
  },
  {
   "cell_type": "code",
   "execution_count": 26,
   "id": "8b75a571-1920-4a97-96c8-111a278f1f2c",
   "metadata": {},
   "outputs": [],
   "source": [
    "docs = load_docs('clean_txt')"
   ]
  },
  {
   "cell_type": "code",
   "execution_count": 27,
   "id": "84acb0c2-a3b0-4057-aa1c-4c2889853301",
   "metadata": {},
   "outputs": [],
   "source": [
    "docs_tokenized = [sent.split() for doc in docs for sent in doc]"
   ]
  },
  {
   "cell_type": "markdown",
   "id": "b1219a4f-1118-4b19-ae87-9e3f9cb47d74",
   "metadata": {},
   "source": [
    "### Word2Vec модель"
   ]
  },
  {
   "cell_type": "code",
   "execution_count": 28,
   "id": "e3aa38cd-57f4-49c6-96d7-80f9311132c2",
   "metadata": {},
   "outputs": [
    {
     "name": "stdout",
     "output_type": "stream",
     "text": [
      "CPU times: user 2.31 s, sys: 3.63 ms, total: 2.31 s\n",
      "Wall time: 2.29 s\n"
     ]
    },
    {
     "data": {
      "text/plain": [
       "(1511270, 1641140)"
      ]
     },
     "execution_count": 28,
     "metadata": {},
     "output_type": "execute_result"
    }
   ],
   "source": [
    "%%time\n",
    "model_w2v.epochs = 10\n",
    "\n",
    "model_w2v.build_vocab(docs_tokenized)\n",
    "\n",
    "model_w2v.train(docs_tokenized,\n",
    "                total_examples=model_w2v.corpus_count,\n",
    "                epochs=model_w2v.epochs)"
   ]
  },
  {
   "cell_type": "code",
   "execution_count": 29,
   "id": "8c4669e6-7fa3-423b-80b5-914b23263de8",
   "metadata": {},
   "outputs": [
    {
     "data": {
      "text/plain": [
       "[('recurrent', 0.9876729846000671),\n",
       " ('connectionist', 0.9597651362419128),\n",
       " ('neural', 0.952626645565033),\n",
       " ('crnn', 0.9449397921562195),\n",
       " ('vkcom', 0.9411120414733887),\n",
       " ('stn', 0.9392105340957642),\n",
       " ('rnns', 0.9372844696044922),\n",
       " ('sdf', 0.936269998550415),\n",
       " ('shortterm', 0.9356644153594971),\n",
       " ('coexpression', 0.9333829283714294)]"
      ]
     },
     "execution_count": 29,
     "metadata": {},
     "output_type": "execute_result"
    }
   ],
   "source": [
    "model_w2v.wv.most_similar('convolutional')"
   ]
  },
  {
   "cell_type": "code",
   "execution_count": 32,
   "id": "66525091-083d-413b-8031-dc8a381fe272",
   "metadata": {},
   "outputs": [
    {
     "data": {
      "text/plain": [
       "[('hidden', 0.9640159606933594),\n",
       " ('cnn', 0.9523435831069946),\n",
       " ('crnn', 0.938872754573822),\n",
       " ('ctc', 0.9336230158805847),\n",
       " ('convolutional', 0.927346408367157),\n",
       " ('forest', 0.9247416853904724),\n",
       " ('trained', 0.921256422996521),\n",
       " ('layer', 0.9156723022460938),\n",
       " ('training', 0.91310054063797),\n",
       " ('backpropagation', 0.9014157056808472)]"
      ]
     },
     "execution_count": 32,
     "metadata": {},
     "output_type": "execute_result"
    }
   ],
   "source": [
    "model_w2v.wv.most_similar('lstm')"
   ]
  },
  {
   "cell_type": "code",
   "execution_count": 37,
   "id": "03704684-598a-403e-b837-e9d393f37bbc",
   "metadata": {},
   "outputs": [
    {
     "data": {
      "text/plain": [
       "[('slave', 0.9045748114585876),\n",
       " ('oversubscription', 0.8913692831993103),\n",
       " ('loading', 0.8679844737052917),\n",
       " ('suer', 0.8375047445297241),\n",
       " ('pai', 0.8204786777496338),\n",
       " ('gini', 0.8202564716339111),\n",
       " ('blockrow', 0.8190667629241943),\n",
       " ('worker', 0.8182411193847656),\n",
       " ('multiindex', 0.8141867518424988),\n",
       " ('stop', 0.809397280216217)]"
      ]
     },
     "execution_count": 37,
     "metadata": {},
     "output_type": "execute_result"
    }
   ],
   "source": [
    "model_w2v.wv.most_similar('node')"
   ]
  },
  {
   "cell_type": "code",
   "execution_count": 30,
   "id": "018a4b52-537e-4d8a-979e-3bd14e482822",
   "metadata": {},
   "outputs": [],
   "source": [
    "from sklearn.metrics.pairwise import cosine_similarity\n",
    "\n",
    "def show_similarity_for_single_word(model, word):\n",
    "    matrix = cosine_similarity(model.wv[word].reshape(1, -1), model.wv.vectors)\n",
    "    plt.hist(matrix.squeeze(0), bins='rice', edgecolor='k')\n",
    "    plt.title(f'Распределение схожести для слова {word}')"
   ]
  },
  {
   "cell_type": "code",
   "execution_count": 31,
   "id": "22d7a155-b356-4a28-a75c-577556de2a0c",
   "metadata": {},
   "outputs": [
    {
     "data": {
      "image/png": "[encoded data removed]",
      "text/plain": [
       "<Figure size 432x288 with 1 Axes>"
      ]
     },
     "metadata": {
      "needs_background": "light"
     },
     "output_type": "display_data"
    }
   ],
   "source": [
    "show_similarity_for_single_word(model_w2v, 'lstm')"
   ]
  },
  {
   "cell_type": "code",
   "execution_count": 36,
   "id": "f009bfaa-0e1b-455a-a7bb-3327e3386ce2",
   "metadata": {},
   "outputs": [
    {
     "data": {
      "image/png": "[encoded data removed]",
      "text/plain": [
       "<Figure size 432x288 with 1 Axes>"
      ]
     },
     "metadata": {
      "needs_background": "light"
     },
     "output_type": "display_data"
    }
   ],
   "source": [
    "show_similarity_for_single_word(model_w2v, 'node')"
   ]
  },
  {
   "cell_type": "code",
   "execution_count": null,
   "id": "5ddcccce-f3bf-4743-973f-720dc63e07ae",
   "metadata": {},
   "outputs": [],
   "source": []
  }
 ],
 "metadata": {
  "kernelspec": {
   "display_name": "Python 3",
   "language": "python",
   "name": "python3"
  },
  "language_info": {
   "codemirror_mode": {
    "name": "ipython",
    "version": 3
   },
   "file_extension": ".py",
   "mimetype": "text/x-python",
   "name": "python",
   "nbconvert_exporter": "python",
   "pygments_lexer": "ipython3",
   "version": "3.8.10"
  }
 },
 "nbformat": 4,
 "nbformat_minor": 5
}
