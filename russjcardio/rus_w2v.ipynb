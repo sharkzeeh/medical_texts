{
 "cells": [
  {
   "cell_type": "code",
   "execution_count": 1,
   "id": "2f5a6465-9493-4833-b891-857d7e1349af",
   "metadata": {},
   "outputs": [],
   "source": [
    "%config Completer.use_jedi = False"
   ]
  },
  {
   "cell_type": "code",
   "execution_count": 4,
   "id": "d2d7d8a4-2489-458a-b948-0191e360be29",
   "metadata": {},
   "outputs": [],
   "source": [
    "import pandas as pd\n",
    "from tqdm.notebook import tqdm\n",
    "import re\n",
    "\n",
    "from typing import List\n",
    "import os\n",
    "import matplotlib.pyplot as plt"
   ]
  },
  {
   "cell_type": "code",
   "execution_count": 76,
   "id": "9be851c8-2899-4450-97f4-844373a28e5d",
   "metadata": {},
   "outputs": [],
   "source": [
    "from gensim.models import Word2Vec\n",
    "\n",
    "model_w2v = Word2Vec(\n",
    "    vector_size=100,\n",
    "    window=10, \n",
    "    min_count=2,\n",
    "    sg=0,\n",
    "    workers=1,\n",
    "    seed=42\n",
    ")"
   ]
  },
  {
   "cell_type": "code",
   "execution_count": 77,
   "id": "95c413de-27f7-4683-b101-44939e83a59f",
   "metadata": {},
   "outputs": [],
   "source": [
    "def load_docs(source_dir: str) -> List[List[str]]:\n",
    "    docs = load_docs\n",
    "    for doc_name in os.listdir(source_dir):\n",
    "        if os.path.isdir(doc_name):\n",
    "            continue\n",
    "        with open(f'{source_dir}/{doc_name}') as fh:\n",
    "            doc = fh.readlines()\n",
    "            docs.append(doc)\n",
    "    return docs"
   ]
  },
  {
   "cell_type": "code",
   "execution_count": 78,
   "id": "8b75a571-1920-4a97-96c8-111a278f1f2c",
   "metadata": {},
   "outputs": [],
   "source": [
    "docs = load_docs('clean_txt')"
   ]
  },
  {
   "cell_type": "code",
   "execution_count": 79,
   "id": "84acb0c2-a3b0-4057-aa1c-4c2889853301",
   "metadata": {},
   "outputs": [],
   "source": [
    "docs_tokenized = [sent.split() for doc in docs for sent in doc]"
   ]
  },
  {
   "cell_type": "markdown",
   "id": "b1219a4f-1118-4b19-ae87-9e3f9cb47d74",
   "metadata": {},
   "source": [
    "### Word2Vec модель"
   ]
  },
  {
   "cell_type": "code",
   "execution_count": 80,
   "id": "e3aa38cd-57f4-49c6-96d7-80f9311132c2",
   "metadata": {},
   "outputs": [
    {
     "name": "stdout",
     "output_type": "stream",
     "text": [
      "CPU times: user 1min 9s, sys: 176 ms, total: 1min 9s\n",
      "Wall time: 1min 8s\n"
     ]
    },
    {
     "data": {
      "text/plain": [
       "(42969242, 45933760)"
      ]
     },
     "execution_count": 80,
     "metadata": {},
     "output_type": "execute_result"
    }
   ],
   "source": [
    "%%time\n",
    "model_w2v.epochs = 10\n",
    "\n",
    "model_w2v.build_vocab(docs_tokenized)\n",
    "\n",
    "model_w2v.train(docs_tokenized,\n",
    "                total_examples=model_w2v.corpus_count,\n",
    "                epochs=model_w2v.epochs)"
   ]
  },
  {
   "cell_type": "code",
   "execution_count": 81,
   "id": "8c4669e6-7fa3-423b-80b5-914b23263de8",
   "metadata": {},
   "outputs": [
    {
     "data": {
      "text/plain": [
       "[('больной', 0.8669501543045044),\n",
       " ('лицо', 0.6264879703521729),\n",
       " ('циент', 0.5577524304389954),\n",
       " ('пациентка', 0.5300016403198242),\n",
       " ('паци', 0.47800737619400024),\n",
       " ('табла', 0.4687282145023346),\n",
       " ('человек', 0.4636669456958771),\n",
       " ('инсультомтранзиторный', 0.4513360559940338),\n",
       " ('тот', 0.44570407271385193),\n",
       " ('случай', 0.44215628504753113)]"
      ]
     },
     "execution_count": 81,
     "metadata": {},
     "output_type": "execute_result"
    }
   ],
   "source": [
    "model_w2v.wv.most_similar('пациент')"
   ]
  },
  {
   "cell_type": "code",
   "execution_count": 82,
   "id": "018a4b52-537e-4d8a-979e-3bd14e482822",
   "metadata": {},
   "outputs": [],
   "source": [
    "from sklearn.metrics.pairwise import cosine_similarity\n",
    "\n",
    "def show_similarity_for_single_word(model, word):\n",
    "    matrix = cosine_similarity(model.wv[word].reshape(1, -1), model.wv.vectors)\n",
    "    plt.hist(matrix.squeeze(0), bins='rice', edgecolor='k')\n",
    "    plt.title(f'Распределение схожести для слова {word}')"
   ]
  },
  {
   "cell_type": "code",
   "execution_count": 83,
   "id": "22d7a155-b356-4a28-a75c-577556de2a0c",
   "metadata": {},
   "outputs": [
    {
     "data": {
      "image/png": "[encoded data removed]",
      "text/plain": [
       "<Figure size 432x288 with 1 Axes>"
      ]
     },
     "metadata": {
      "needs_background": "light"
     },
     "output_type": "display_data"
    }
   ],
   "source": [
    "show_similarity_for_single_word(model_w2v, 'эпизод')"
   ]
  },
  {
   "cell_type": "code",
   "execution_count": 84,
   "id": "f009bfaa-0e1b-455a-a7bb-3327e3386ce2",
   "metadata": {},
   "outputs": [
    {
     "data": {
      "image/png": "[encoded data removed]",
      "text/plain": [
       "<Figure size 432x288 with 1 Axes>"
      ]
     },
     "metadata": {
      "needs_background": "light"
     },
     "output_type": "display_data"
    }
   ],
   "source": [
    "show_similarity_for_single_word(model_w2v, 'миокард')"
   ]
  },
  {
   "cell_type": "code",
   "execution_count": null,
   "id": "53e175ee-f325-475e-8805-1448104f488e",
   "metadata": {},
   "outputs": [],
   "source": []
  }
 ],
 "metadata": {
  "kernelspec": {
   "display_name": "Python 3",
   "language": "python",
   "name": "python3"
  },
  "language_info": {
   "codemirror_mode": {
    "name": "ipython",
    "version": 3
   },
   "file_extension": ".py",
   "mimetype": "text/x-python",
   "name": "python",
   "nbconvert_exporter": "python",
   "pygments_lexer": "ipython3",
   "version": "3.8.10"
  }
 },
 "nbformat": 4,
 "nbformat_minor": 5
}
