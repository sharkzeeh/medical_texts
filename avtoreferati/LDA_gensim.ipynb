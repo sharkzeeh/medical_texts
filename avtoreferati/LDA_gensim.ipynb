{
 "cells": [
  {
   "cell_type": "code",
   "execution_count": 1,
   "id": "64587d31",
   "metadata": {},
   "outputs": [],
   "source": [
    "from gensim import corpora, models"
   ]
  },
  {
   "cell_type": "code",
   "execution_count": 2,
   "id": "5ccc9323",
   "metadata": {},
   "outputs": [],
   "source": [
    "with open('saved_content/vocab_filtered.txt') as fh:\n",
    "    vocab = [word.strip() for word in fh.readlines()]\n",
    "\n",
    "with open('saved_content/procced_texts_tfidf_filtered_vocab.txt') as fh:\n",
    "    tokens = [text.strip().split() for text in fh.readlines()]"
   ]
  },
  {
   "cell_type": "markdown",
   "id": "b01a9c01",
   "metadata": {},
   "source": [
    "Смотрел гайд [здесь](https://pythonru.com/biblioteki/gensim)"
   ]
  },
  {
   "cell_type": "code",
   "execution_count": 3,
   "id": "54e48152",
   "metadata": {},
   "outputs": [],
   "source": [
    "dictionary = corpora.Dictionary(tokens)\n",
    "corpus = [dictionary.doc2bow(l) for l in tokens]"
   ]
  },
  {
   "cell_type": "markdown",
   "id": "f2a63e7c",
   "metadata": {},
   "source": [
    "[Настройка параметров](http://ethen8181.github.io/machine-learning/clustering/topic_model/LDA.html#:~:text=Understanding%20the%20role%20of%20LDA%20model%20hyperparameters%C2%B6)"
   ]
  },
  {
   "cell_type": "code",
   "execution_count": 4,
   "id": "13ce57dd",
   "metadata": {},
   "outputs": [
    {
     "name": "stdout",
     "output_type": "stream",
     "text": [
      "CPU times: user 24.3 s, sys: 0 ns, total: 24.3 s\n",
      "Wall time: 24.3 s\n"
     ]
    }
   ],
   "source": [
    "%%time\n",
    "\n",
    "num_topics = 5\n",
    "\n",
    "# обучение модель\n",
    "ldamodel_0 = models.ldamodel.LdaModel(corpus=corpus,\n",
    "                                    id2word=dictionary,\n",
    "                                    num_topics=num_topics,\n",
    "                                    passes=20,\n",
    "                                    alpha=0.1,\n",
    "                                    eta=0.1)"
   ]
  },
  {
   "cell_type": "code",
   "execution_count": 5,
   "id": "b820f962",
   "metadata": {},
   "outputs": [],
   "source": [
    "# # Сохранение модели\n",
    "# ldamodel.save(\"gensim_models/ldamodel\")"
   ]
  },
  {
   "cell_type": "code",
   "execution_count": 6,
   "id": "cdf223b7",
   "metadata": {},
   "outputs": [],
   "source": [
    "def print_topics(model):\n",
    "    for t, top_words in model.print_topics(num_topics=10, num_words=10):\n",
    "        print(\"Topic\", t, \":\", top_words)\n",
    "        print()"
   ]
  },
  {
   "cell_type": "code",
   "execution_count": 7,
   "id": "59082b78",
   "metadata": {},
   "outputs": [
    {
     "name": "stdout",
     "output_type": "stream",
     "text": [
      "Topic 0 : 0.005*\"положение\" + 0.005*\"угол\" + 0.005*\"передний\" + 0.004*\"прикус\" + 0.004*\"отдел\" + 0.004*\"размер\" + 0.004*\"высота\" + 0.004*\"височный\" + 0.004*\"моляр\" + 0.004*\"отросток\"\n",
      "\n",
      "Topic 1 : 0.006*\"сплав\" + 0.004*\"титан\" + 0.004*\"коронка\" + 0.004*\"канал\" + 0.004*\"свойство\" + 0.003*\"металлокерамический\" + 0.003*\"основа\" + 0.003*\"мостовидный\" + 0.003*\"прочность\" + 0.003*\"нагрузка\"\n",
      "\n",
      "Topic 2 : 0.006*\"клетка\" + 0.005*\"пульпа\" + 0.005*\"железа\" + 0.005*\"фон\" + 0.004*\"рана\" + 0.004*\"реакция\" + 0.004*\"слюнный\" + 0.004*\"десна\" + 0.004*\"воспаление\" + 0.003*\"тяжелый\"\n",
      "\n",
      "Topic 3 : 0.006*\"небо\" + 0.006*\"раствор\" + 0.005*\"расщелина\" + 0.005*\"врожденный\" + 0.004*\"губа\" + 0.004*\"твердый\" + 0.004*\"диабет\" + 0.003*\"кальций\" + 0.003*\"сахарный\" + 0.003*\"цемент\"\n",
      "\n",
      "Topic 4 : 0.008*\"врач\" + 0.006*\"профилактический\" + 0.006*\"население\" + 0.006*\"стоматолог\" + 0.005*\"работа\" + 0.005*\"медицинский\" + 0.005*\"среди\" + 0.005*\"мероприятие\" + 0.005*\"профилактика\" + 0.004*\"составить\"\n",
      "\n"
     ]
    }
   ],
   "source": [
    "print_topics(ldamodel_0)"
   ]
  },
  {
   "cell_type": "code",
   "execution_count": 8,
   "id": "9eebe4fe",
   "metadata": {},
   "outputs": [
    {
     "name": "stdout",
     "output_type": "stream",
     "text": [
      "CPU times: user 26 s, sys: 52 µs, total: 26 s\n",
      "Wall time: 26 s\n"
     ]
    }
   ],
   "source": [
    "%%time\n",
    "\n",
    "num_topics = 5\n",
    "\n",
    "# обучение модель\n",
    "ldamodel_1 = models.ldamodel.LdaModel(corpus=corpus,\n",
    "                                    id2word=dictionary,\n",
    "                                    num_topics=num_topics,\n",
    "                                    passes=20,\n",
    "                                    alpha=1,\n",
    "                                    eta=1e-4)"
   ]
  },
  {
   "cell_type": "code",
   "execution_count": 9,
   "id": "60d7ea6b",
   "metadata": {
    "scrolled": true
   },
   "outputs": [
    {
     "name": "stdout",
     "output_type": "stream",
     "text": [
      "Topic 0 : 0.010*\"врач\" + 0.007*\"медицинский\" + 0.007*\"стоматолог\" + 0.006*\"работа\" + 0.005*\"технология\" + 0.005*\"население\" + 0.005*\"оказание\" + 0.004*\"среди\" + 0.004*\"учреждение\" + 0.004*\"этап\"\n",
      "\n",
      "Topic 1 : 0.006*\"отросток\" + 0.005*\"угол\" + 0.005*\"положение\" + 0.005*\"отдел\" + 0.005*\"передний\" + 0.005*\"высота\" + 0.005*\"размер\" + 0.004*\"височный\" + 0.004*\"сустав\" + 0.004*\"прикус\"\n",
      "\n",
      "Topic 2 : 0.006*\"канал\" + 0.005*\"воспаление\" + 0.005*\"рана\" + 0.005*\"лазерный\" + 0.004*\"обработка\" + 0.004*\"день\" + 0.004*\"клетка\" + 0.004*\"гнойный\" + 0.004*\"челюстный\" + 0.004*\"острый\"\n",
      "\n",
      "Topic 3 : 0.006*\"профилактический\" + 0.005*\"твердый\" + 0.005*\"составить\" + 0.005*\"кариозный\" + 0.005*\"профилактика\" + 0.005*\"низкий\" + 0.005*\"пломба\" + 0.004*\"коронка\" + 0.004*\"летний\" + 0.004*\"гигиена\"\n",
      "\n",
      "Topic 4 : 0.005*\"концентрация\" + 0.005*\"железа\" + 0.005*\"фон\" + 0.004*\"тяжелый\" + 0.004*\"слюнный\" + 0.004*\"иммунитет\" + 0.004*\"стадия\" + 0.004*\"генерализовать\" + 0.003*\"диабет\" + 0.003*\"влияние\"\n",
      "\n"
     ]
    }
   ],
   "source": [
    "print_topics(ldamodel_1)"
   ]
  },
  {
   "cell_type": "code",
   "execution_count": 10,
   "id": "e86e9938",
   "metadata": {},
   "outputs": [
    {
     "name": "stdout",
     "output_type": "stream",
     "text": [
      "CPU times: user 25.1 s, sys: 3.99 ms, total: 25.1 s\n",
      "Wall time: 25.1 s\n"
     ]
    }
   ],
   "source": [
    "%%time\n",
    "\n",
    "num_topics = 5\n",
    "\n",
    "# обучение модель\n",
    "ldamodel_2 = models.ldamodel.LdaModel(corpus=corpus,\n",
    "                                    id2word=dictionary,\n",
    "                                    num_topics=num_topics,\n",
    "                                    passes=20,\n",
    "                                    alpha=0.01,\n",
    "                                    eta=1)"
   ]
  },
  {
   "cell_type": "code",
   "execution_count": 11,
   "id": "e5041665",
   "metadata": {},
   "outputs": [
    {
     "name": "stdout",
     "output_type": "stream",
     "text": [
      "Topic 0 : 0.005*\"профилактический\" + 0.005*\"врач\" + 0.004*\"население\" + 0.004*\"профилактика\" + 0.004*\"стоматолог\" + 0.004*\"мероприятие\" + 0.003*\"среди\" + 0.003*\"работа\" + 0.003*\"составить\" + 0.003*\"низкий\"\n",
      "\n",
      "Topic 1 : 0.003*\"военнослужащий\" + 0.002*\"фторид\" + 0.002*\"военный\" + 0.002*\"медицинский\" + 0.002*\"лпу\" + 0.001*\"учреждение\" + 0.001*\"врач\" + 0.001*\"стоматолог\" + 0.001*\"нсо\" + 0.001*\"услуга\"\n",
      "\n",
      "Topic 2 : 0.003*\"положение\" + 0.003*\"угол\" + 0.003*\"отросток\" + 0.003*\"передний\" + 0.003*\"отдел\" + 0.003*\"размер\" + 0.003*\"прикус\" + 0.003*\"высота\" + 0.003*\"часть\" + 0.003*\"височный\"\n",
      "\n",
      "Topic 3 : 0.003*\"канал\" + 0.003*\"дентин\" + 0.003*\"пломба\" + 0.003*\"цемент\" + 0.003*\"обработка\" + 0.002*\"твердый\" + 0.002*\"рана\" + 0.002*\"пломбирование\" + 0.002*\"кальций\" + 0.002*\"фиссура\"\n",
      "\n",
      "Topic 4 : 0.004*\"воспаление\" + 0.003*\"клетка\" + 0.003*\"концентрация\" + 0.003*\"раствор\" + 0.003*\"фон\" + 0.003*\"пульпа\" + 0.003*\"гнойный\" + 0.003*\"железа\" + 0.003*\"реакция\" + 0.003*\"десна\"\n",
      "\n"
     ]
    }
   ],
   "source": [
    "print_topics(ldamodel_2)"
   ]
  }
 ],
 "metadata": {
  "kernelspec": {
   "display_name": "Python 3",
   "language": "python",
   "name": "python3"
  },
  "language_info": {
   "codemirror_mode": {
    "name": "ipython",
    "version": 3
   },
   "file_extension": ".py",
   "mimetype": "text/x-python",
   "name": "python",
   "nbconvert_exporter": "python",
   "pygments_lexer": "ipython3",
   "version": "3.8.13"
  }
 },
 "nbformat": 4,
 "nbformat_minor": 5
}
