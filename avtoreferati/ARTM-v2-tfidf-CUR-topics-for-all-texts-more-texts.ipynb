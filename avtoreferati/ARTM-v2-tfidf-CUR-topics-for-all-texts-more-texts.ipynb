{
 "cells": [
  {
   "cell_type": "code",
   "execution_count": 1,
   "id": "82559e37",
   "metadata": {},
   "outputs": [],
   "source": [
    "%load_ext autoreload\n",
    "%autoreload 2"
   ]
  },
  {
   "cell_type": "code",
   "execution_count": 2,
   "id": "f4a94535",
   "metadata": {},
   "outputs": [],
   "source": [
    "import warnings\n",
    "warnings.filterwarnings('ignore')"
   ]
  },
  {
   "cell_type": "code",
   "execution_count": 3,
   "id": "d5ae26e4",
   "metadata": {},
   "outputs": [],
   "source": [
    "from helper_functions import *"
   ]
  },
  {
   "cell_type": "code",
   "execution_count": 4,
   "id": "59493d83",
   "metadata": {},
   "outputs": [],
   "source": [
    "import pandas as pd\n",
    "from tqdm.notebook import tqdm\n",
    "import re\n",
    "from typing import List\n",
    "import os\n",
    "import matplotlib.pyplot as plt\n",
    "import numpy as np\n",
    "import artm\n",
    "from collections import defaultdict"
   ]
  },
  {
   "cell_type": "code",
   "execution_count": 5,
   "id": "4eeb512a",
   "metadata": {},
   "outputs": [
    {
     "name": "stdout",
     "output_type": "stream",
     "text": [
      "CPU times: user 4.06 s, sys: 47.3 ms, total: 4.11 s\n",
      "Wall time: 4.11 s\n"
     ]
    }
   ],
   "source": [
    "%%time\n",
    "df = pd.read_excel('../data/avtoreferati.xlsx', sheet_name='Итог', header=0)"
   ]
  },
  {
   "cell_type": "code",
   "execution_count": 6,
   "id": "8ee7f43d",
   "metadata": {},
   "outputs": [],
   "source": [
    "# df.columns"
   ]
  },
  {
   "cell_type": "code",
   "execution_count": 7,
   "id": "cd19d3f5",
   "metadata": {},
   "outputs": [
    {
     "data": {
      "text/plain": [
       "0      2.5\n",
       "1        3\n",
       "2    3,4,5\n",
       "Name: Пункты паспорта специальности (области исследования) 1-ой специальности, dtype: object"
      ]
     },
     "execution_count": 7,
     "metadata": {},
     "output_type": "execute_result"
    }
   ],
   "source": [
    "df['Пункты паспорта специальности (области исследования) 1-ой специальности'].head(3)"
   ]
  },
  {
   "cell_type": "code",
   "execution_count": 8,
   "id": "b2537738",
   "metadata": {},
   "outputs": [],
   "source": [
    "tasks_aux = {k: f't{k}' for k in range(1, 14)}\n",
    "# 1: 't1', 2: 't2', 3: 't3', 4: 't4', 5: 't5', 6: 't6', 7: 't7', 8: 't8', 9: 't9', 10: 't10', 11: 't11', 12: 't12', 13: 't13'\n",
    "res_aux = {f'{k}.1' : f'r{k}' for k in range(1, 14)}\n",
    "\n",
    "res_aux.update({k: f'r{k}' for k in range(14, 21)})"
   ]
  },
  {
   "cell_type": "code",
   "execution_count": 9,
   "id": "3e818f46",
   "metadata": {},
   "outputs": [],
   "source": [
    "df.rename(\n",
    "    columns={'Годзащиты': 'year', 'Unnamed: 29': 'title', \n",
    "             'Пункты паспорта специальности (области исследования) 1-ой специальности': 'code',\n",
    "            **tasks_aux,\n",
    "            **res_aux,}, \n",
    "    inplace=True\n",
    ")"
   ]
  },
  {
   "cell_type": "code",
   "execution_count": 10,
   "id": "e0a2be07",
   "metadata": {},
   "outputs": [
    {
     "data": {
      "text/plain": [
       "((5793,), (5798, 64))"
      ]
     },
     "execution_count": 10,
     "metadata": {},
     "output_type": "execute_result"
    }
   ],
   "source": [
    "df.year[~df.year.isna()].shape, df.shape"
   ]
  },
  {
   "cell_type": "code",
   "execution_count": 11,
   "id": "3c96b11d",
   "metadata": {},
   "outputs": [],
   "source": [
    "df = df[['year', 'code', *list(res_aux.values())]]"
   ]
  },
  {
   "cell_type": "code",
   "execution_count": 12,
   "id": "eecc5146",
   "metadata": {},
   "outputs": [],
   "source": [
    "df = df[~df.year.isna()]\n",
    "df['year'] = df.year.astype(int)\n",
    "df['code'] = df.code.replace('?', np.nan)"
   ]
  },
  {
   "cell_type": "markdown",
   "id": "cba2ebaf",
   "metadata": {},
   "source": [
    "### Работа с колонкой `code`"
   ]
  },
  {
   "cell_type": "code",
   "execution_count": 14,
   "id": "0feed6ad",
   "metadata": {},
   "outputs": [],
   "source": [
    "def preprocess_code_column(values: list) -> pd.Series:\n",
    "    res = []\n",
    "    comp = re.compile(r'[.,]')\n",
    "    chars = re.compile(r'[^0-9.,]')\n",
    "    str2int = lambda lst: list(map(int, lst))\n",
    "    for i, val_ in enumerate(values):\n",
    "        val = str(val_)\n",
    "        val = re.sub(chars, '', val)\n",
    "        codes = comp.split(val)\n",
    "        codes = [c.strip() for c in codes if c.strip()]\n",
    "        codes = str2int(codes)\n",
    "        res.append(codes)\n",
    "    return res"
   ]
  },
  {
   "cell_type": "code",
   "execution_count": 16,
   "id": "7cc2fcc5",
   "metadata": {},
   "outputs": [],
   "source": [
    "df = df.dropna(subset=[f'r{i}' for i in range(1, 21)], how='all')"
   ]
  },
  {
   "cell_type": "code",
   "execution_count": 17,
   "id": "1c49a1a0",
   "metadata": {},
   "outputs": [
    {
     "data": {
      "text/plain": [
       "(2724, 22)"
      ]
     },
     "execution_count": 17,
     "metadata": {},
     "output_type": "execute_result"
    }
   ],
   "source": [
    "df.shape"
   ]
  },
  {
   "cell_type": "markdown",
   "id": "26d65646",
   "metadata": {},
   "source": [
    "https://stackoverflow.com/questions/66821858/pandas-dataframe-isnull-multiple-columns-at-once"
   ]
  },
  {
   "cell_type": "code",
   "execution_count": 19,
   "id": "d111db4f",
   "metadata": {},
   "outputs": [],
   "source": [
    "code = df.code.astype('str').tolist()\n",
    "assert len(code) == df.shape[0]"
   ]
  },
  {
   "cell_type": "code",
   "execution_count": 20,
   "id": "2a1fb6b8",
   "metadata": {},
   "outputs": [],
   "source": [
    "df['code'] = preprocess_code_column(code)"
   ]
  },
  {
   "cell_type": "markdown",
   "id": "32cecd6d",
   "metadata": {},
   "source": [
    "### рассматриваем только результаты (без задач)"
   ]
  },
  {
   "cell_type": "code",
   "execution_count": 21,
   "id": "b4b11464",
   "metadata": {},
   "outputs": [],
   "source": [
    "df['text'] = df.apply(lambda row: \\\n",
    "    '. '.join([row[f'r{i}'] for i in range(1, 21) if isinstance(row[f'r{i}'], str)]),\n",
    "    axis=1\n",
    ")"
   ]
  },
  {
   "cell_type": "code",
   "execution_count": 22,
   "id": "015b13af",
   "metadata": {},
   "outputs": [
    {
     "data": {
      "text/plain": [
       "(2724, 23)"
      ]
     },
     "execution_count": 22,
     "metadata": {},
     "output_type": "execute_result"
    }
   ],
   "source": [
    "df.shape"
   ]
  },
  {
   "cell_type": "markdown",
   "id": "4a09fd7c",
   "metadata": {},
   "source": [
    "### Preprocessing"
   ]
  },
  {
   "cell_type": "code",
   "execution_count": 23,
   "id": "6ae40903",
   "metadata": {},
   "outputs": [
    {
     "name": "stderr",
     "output_type": "stream",
     "text": [
      "[nltk_data] Downloading package stopwords to /home/robez/nltk_data...\n",
      "[nltk_data]   Package stopwords is already up-to-date!\n",
      "/home/robez/ds_venv2/lib/python3.8/site-packages/pymorphy2/units/base.py:70: DeprecationWarning: inspect.getargspec() is deprecated since Python 3.0, use inspect.signature() or inspect.getfullargspec()\n",
      "  args, varargs, kw, default = inspect.getargspec(cls.__init__)\n"
     ]
    }
   ],
   "source": [
    "import pymorphy2\n",
    "import os\n",
    "from typing import List\n",
    "import razdel\n",
    "\n",
    "import nltk\n",
    "nltk.download(\"stopwords\")\n",
    "stopwords = nltk.corpus.stopwords.words('russian')\n",
    "\n",
    "cyrillic = re.compile(r'[^а-я ]')\n",
    "mult_ws = re.compile(r'\\s+')\n",
    "fix_punct = re.compile(r'\\s+(\\?|\\.|,|!|:)')\n",
    "\n",
    "morph = pymorphy2.MorphAnalyzer()"
   ]
  },
  {
   "cell_type": "code",
   "execution_count": 24,
   "id": "b92bd8a6",
   "metadata": {},
   "outputs": [],
   "source": [
    "def process_regex(re_words_to_remove,\n",
    "                  re_mult_ws,\n",
    "                  text: str) -> str:\n",
    "    '''\n",
    "    строковый предпроцессинг предложения\n",
    "    '''\n",
    "    text = text.lower()\n",
    "    text = re.sub(re_words_to_remove, ' ', text)\n",
    "    text = re.sub(re_mult_ws, ' ', text)\n",
    "    text = text.strip()\n",
    "    return text\n",
    "\n",
    "def lemmatize(text: str, lemmatizer, min_word_size: int = 5) -> List[str]:\n",
    "    words = [token.text for token in razdel.tokenize(text)]\n",
    "    res = []\n",
    "    for word in words:\n",
    "        if word not in stopwords:# and len(word) > 1:\n",
    "            p = lemmatizer.parse(word)[0]\n",
    "            word_normal_form = p.normal_form\n",
    "            if len(word_normal_form) < min_word_size:\n",
    "                continue\n",
    "            res.append(word_normal_form.replace('ё', 'е'))\n",
    "    return res\n",
    "\n",
    "def process_doc(doc: List[str], lemmatizer, min_word_size=3, min_sent_size=10) -> List[str]:\n",
    "    proc_doc = []\n",
    "    if not isinstance(doc, list):\n",
    "        doc = [doc]\n",
    "    for sent in doc:\n",
    "        proc_sent = process_regex(\n",
    "            cyrillic,\n",
    "            mult_ws,\n",
    "            text=sent\n",
    "        )\n",
    "        proc_sent_tokens = lemmatize(proc_sent, lemmatizer, min_word_size)\n",
    "        # порог по длине предложения\n",
    "        if len(proc_sent_tokens) < min_sent_size:\n",
    "            continue\n",
    "        proc_sent = ' '.join(proc_sent_tokens)\n",
    "        proc_doc.append(proc_sent)\n",
    "    return proc_doc\n",
    "\n",
    "def sentenize_doc(doc: str) -> List[str]:\n",
    "    return [sent.text for sent in razdel.sentenize(doc) if sent.text]"
   ]
  },
  {
   "cell_type": "code",
   "execution_count": 25,
   "id": "cbf8c1f8",
   "metadata": {},
   "outputs": [],
   "source": [
    "df['text_sent'] = df.text.apply(lambda row: sentenize_doc(row))"
   ]
  },
  {
   "cell_type": "code",
   "execution_count": 26,
   "id": "a57b1b24",
   "metadata": {},
   "outputs": [
    {
     "name": "stdout",
     "output_type": "stream",
     "text": [
      "CPU times: user 1min 22s, sys: 35 ms, total: 1min 22s\n",
      "Wall time: 1min 22s\n"
     ]
    }
   ],
   "source": [
    "%%time\n",
    "df['text_sent_proc'] = df.text_sent.apply(\n",
    "    lambda row: process_doc(\n",
    "                            row,\n",
    "                            lemmatizer=morph,\n",
    "                            min_word_size=2,\n",
    "                            min_sent_size=5\n",
    "    )\n",
    ")"
   ]
  },
  {
   "cell_type": "code",
   "execution_count": 28,
   "id": "53fad856",
   "metadata": {},
   "outputs": [
    {
     "name": "stdout",
     "output_type": "stream",
     "text": [
      "CPU times: user 7.91 ms, sys: 8 ms, total: 15.9 ms\n",
      "Wall time: 15.6 ms\n"
     ]
    }
   ],
   "source": [
    "%%time\n",
    "df['text_clean'] = df.text_sent_proc.apply(lambda row:\n",
    "                                           ' '.join(row)\n",
    "                                          )"
   ]
  },
  {
   "cell_type": "code",
   "execution_count": 29,
   "id": "b8a83d32",
   "metadata": {},
   "outputs": [
    {
     "data": {
      "text/plain": [
       "24      NaN\n",
       "64      NaN\n",
       "73      NaN\n",
       "85      NaN\n",
       "159     NaN\n",
       "301     NaN\n",
       "432     NaN\n",
       "528     NaN\n",
       "647     NaN\n",
       "800     NaN\n",
       "1168    NaN\n",
       "1379    NaN\n",
       "3355    NaN\n",
       "Name: text_clean, dtype: object"
      ]
     },
     "execution_count": 29,
     "metadata": {},
     "output_type": "execute_result"
    }
   ],
   "source": [
    "# проверяем пустые тексты после обработкиы\n",
    "df.text_clean = df.text_clean.replace('', np.nan) #.replace('\\n', np.nan)\n",
    "df.text_clean[df.text_clean.isna()]"
   ]
  },
  {
   "cell_type": "code",
   "execution_count": 30,
   "id": "0f13cea7",
   "metadata": {},
   "outputs": [
    {
     "data": {
      "text/plain": [
       "(13,)"
      ]
     },
     "execution_count": 30,
     "metadata": {},
     "output_type": "execute_result"
    }
   ],
   "source": [
    "df.text_clean[df.text_clean.isna()].shape"
   ]
  },
  {
   "cell_type": "code",
   "execution_count": 31,
   "id": "41d77057",
   "metadata": {},
   "outputs": [],
   "source": [
    "df = df[~df.text_clean.isna()]"
   ]
  },
  {
   "cell_type": "code",
   "execution_count": 32,
   "id": "fa63d0f3",
   "metadata": {},
   "outputs": [],
   "source": [
    "# df.dropna(inplace=True)"
   ]
  },
  {
   "cell_type": "markdown",
   "id": "14f9d5cc",
   "metadata": {},
   "source": [
    "#### Сохранение текста, годов и кодов после препроцессинга, но до TF-IDF"
   ]
  },
  {
   "cell_type": "code",
   "execution_count": 33,
   "id": "a60dc772",
   "metadata": {},
   "outputs": [],
   "source": [
    "texts = df.text_clean.tolist()\n",
    "years = df.year.tolist()\n",
    "codes = df.code.tolist()"
   ]
  },
  {
   "cell_type": "code",
   "execution_count": 34,
   "id": "7e62710e",
   "metadata": {
    "scrolled": true
   },
   "outputs": [
    {
     "data": {
      "text/plain": [
       "2711"
      ]
     },
     "execution_count": 34,
     "metadata": {},
     "output_type": "execute_result"
    }
   ],
   "source": [
    "len(texts)"
   ]
  },
  {
   "cell_type": "markdown",
   "id": "2469277a",
   "metadata": {},
   "source": [
    "#### сохранение текстов для классификации"
   ]
  },
  {
   "cell_type": "code",
   "execution_count": 35,
   "id": "930e462a",
   "metadata": {},
   "outputs": [],
   "source": [
    "import json\n",
    "\n",
    "with open('saved_content/procced_texts_full_vocab.txt', 'w') as fh:\n",
    "    fh.writelines([f'{text}\\n' for text in texts])\n",
    "\n",
    "with open('saved_content/metadata.json', 'w') as fh:\n",
    "    json.dump({'codes': codes, 'years': years}, fh)"
   ]
  },
  {
   "cell_type": "code",
   "execution_count": 36,
   "id": "b9028203",
   "metadata": {},
   "outputs": [],
   "source": [
    "# with open('texts.txt') as fh:\n",
    "#     texts = fh.readlines()"
   ]
  },
  {
   "cell_type": "code",
   "execution_count": 37,
   "id": "e45eb9c2",
   "metadata": {},
   "outputs": [],
   "source": [
    "def convert_texts_to_tokens(texts):\n",
    "    return [text.split() for text in texts]"
   ]
  },
  {
   "cell_type": "code",
   "execution_count": 38,
   "id": "88da7301",
   "metadata": {},
   "outputs": [],
   "source": [
    "tokens = convert_texts_to_tokens(texts)"
   ]
  },
  {
   "cell_type": "code",
   "execution_count": 39,
   "id": "4446d7d7",
   "metadata": {},
   "outputs": [
    {
     "name": "stdout",
     "output_type": "stream",
     "text": [
      "Размер исходного словаря = 20533\n"
     ]
    }
   ],
   "source": [
    "vocab_source = set()\n",
    "for row in tokens:\n",
    "    for token in row:\n",
    "        if token not in vocab_source:\n",
    "            vocab_source.add(token)\n",
    "\n",
    "print(f'Размер исходного словаря = {len(vocab_source)}')"
   ]
  },
  {
   "cell_type": "markdown",
   "id": "43c2148b",
   "metadata": {},
   "source": [
    "### Применение TF-IDF для исключения часто встречающихся терминов"
   ]
  },
  {
   "cell_type": "code",
   "execution_count": 40,
   "id": "dc818bcd",
   "metadata": {},
   "outputs": [],
   "source": [
    "from sklearn.feature_extraction.text import TfidfVectorizer\n",
    "\n",
    "tfidf = TfidfVectorizer(ngram_range=(1, 1),\n",
    "                        lowercase=True,\n",
    "                        max_df=0.2,\n",
    "                        analyzer='word')"
   ]
  },
  {
   "cell_type": "code",
   "execution_count": 41,
   "id": "4c7a08f2",
   "metadata": {},
   "outputs": [],
   "source": [
    "tfidf_matrix = tfidf.fit_transform(texts)"
   ]
  },
  {
   "cell_type": "code",
   "execution_count": 42,
   "id": "6a3a10a8",
   "metadata": {},
   "outputs": [],
   "source": [
    "features = tfidf.get_feature_names_out()"
   ]
  },
  {
   "cell_type": "code",
   "execution_count": 43,
   "id": "ee380bce",
   "metadata": {},
   "outputs": [],
   "source": [
    "df_tfidf = pd.DataFrame(tfidf_matrix.toarray(), columns=features)"
   ]
  },
  {
   "cell_type": "code",
   "execution_count": 44,
   "id": "c46975b4",
   "metadata": {},
   "outputs": [],
   "source": [
    "df_tfidf_sum = df_tfidf.sum(axis=0)\n",
    "res = pd.DataFrame({'Vocab': df_tfidf_sum.index, 'Frequency': df_tfidf_sum.values})\\\n",
    "    .sort_values(by='Frequency', ascending=False)"
   ]
  },
  {
   "cell_type": "code",
   "execution_count": 45,
   "id": "b72b24e4",
   "metadata": {},
   "outputs": [
    {
     "data": {
      "text/html": [
       "<div>\n",
       "<style scoped>\n",
       "    .dataframe tbody tr th:only-of-type {\n",
       "        vertical-align: middle;\n",
       "    }\n",
       "\n",
       "    .dataframe tbody tr th {\n",
       "        vertical-align: top;\n",
       "    }\n",
       "\n",
       "    .dataframe thead th {\n",
       "        text-align: right;\n",
       "    }\n",
       "</style>\n",
       "<table border=\"1\" class=\"dataframe\">\n",
       "  <thead>\n",
       "    <tr style=\"text-align: right;\">\n",
       "      <th></th>\n",
       "      <th>Vocab</th>\n",
       "      <th>Frequency</th>\n",
       "    </tr>\n",
       "  </thead>\n",
       "  <tbody>\n",
       "  </tbody>\n",
       "</table>\n",
       "</div>"
      ],
      "text/plain": [
       "Empty DataFrame\n",
       "Columns: [Vocab, Frequency]\n",
       "Index: []"
      ]
     },
     "execution_count": 45,
     "metadata": {},
     "output_type": "execute_result"
    }
   ],
   "source": [
    "res[res.Vocab == 'зуб'] # видим, что \"зуб\" будет отфильтрован"
   ]
  },
  {
   "cell_type": "code",
   "execution_count": 46,
   "id": "808c905d",
   "metadata": {},
   "outputs": [],
   "source": [
    "TFIDF_SUM_THRESH = 5.0"
   ]
  },
  {
   "cell_type": "markdown",
   "id": "1392accc",
   "metadata": {},
   "source": [
    "### Словарь после фильтрации по $\\sum$ TFIDF"
   ]
  },
  {
   "cell_type": "code",
   "execution_count": 47,
   "id": "c580de5e",
   "metadata": {},
   "outputs": [],
   "source": [
    "vocab_filtered = res.Vocab[res.Frequency < TFIDF_SUM_THRESH].values.tolist()"
   ]
  },
  {
   "cell_type": "markdown",
   "id": "c7948503",
   "metadata": {},
   "source": [
    "#### Удаленный словарь"
   ]
  },
  {
   "cell_type": "code",
   "execution_count": 48,
   "id": "2a6ac94e",
   "metadata": {},
   "outputs": [],
   "source": [
    "# res.Vocab[res.Frequency >= TFIDF_SUM_THRESH].values.tolist()"
   ]
  },
  {
   "cell_type": "markdown",
   "id": "f3d526f6",
   "metadata": {},
   "source": [
    "#### Размер словаря до и после применения TF-IDF"
   ]
  },
  {
   "cell_type": "code",
   "execution_count": 49,
   "id": "b9e23bdb",
   "metadata": {},
   "outputs": [
    {
     "data": {
      "text/plain": [
       "(20533, 19546)"
      ]
     },
     "execution_count": 49,
     "metadata": {},
     "output_type": "execute_result"
    }
   ],
   "source": [
    "len(vocab_source), len(vocab_filtered)"
   ]
  },
  {
   "cell_type": "markdown",
   "id": "5907afcd",
   "metadata": {},
   "source": [
    "### Фильтрация текста по новому словарю"
   ]
  },
  {
   "cell_type": "code",
   "execution_count": 50,
   "id": "96fd9644",
   "metadata": {},
   "outputs": [
    {
     "data": {
      "application/vnd.jupyter.widget-view+json": {
       "model_id": "444e9e2e558643609f0c77f3a900073c",
       "version_major": 2,
       "version_minor": 0
      },
      "text/plain": [
       "0it [00:00, ?it/s]"
      ]
     },
     "metadata": {},
     "output_type": "display_data"
    }
   ],
   "source": [
    "texts_filtered = []\n",
    "for i, row in tqdm(enumerate(tokens)):\n",
    "    cur_text_tokens = []\n",
    "    for token in row:\n",
    "        if token in vocab_filtered:\n",
    "            cur_text_tokens.append(token)\n",
    "    if cur_text_tokens:\n",
    "        cur_text = ' '.join(cur_text_tokens)\n",
    "        texts_filtered.append(cur_text)\n",
    "    else:\n",
    "        print(i)"
   ]
  },
  {
   "cell_type": "code",
   "execution_count": 51,
   "id": "302a3ad4",
   "metadata": {},
   "outputs": [],
   "source": [
    "# сохранение новых текстов\n",
    "with open('saved_content/procced_texts_tfidf_filtered_vocab.txt', 'w') as fh:\n",
    "    fh.writelines([f'{text}\\n' for text in texts_filtered])"
   ]
  },
  {
   "cell_type": "markdown",
   "id": "f91d359d",
   "metadata": {},
   "source": [
    "### Количество авторефератов по годам"
   ]
  },
  {
   "cell_type": "code",
   "execution_count": 52,
   "id": "fa2b600f",
   "metadata": {},
   "outputs": [],
   "source": [
    "timeline = defaultdict(list)\n",
    "for year, text in zip(years, texts_filtered):\n",
    "    timeline[year].append(text) \n",
    "\n",
    "timeline_count = {}\n",
    "for year in timeline:\n",
    "    timeline_count[year] = len(timeline[year])\n",
    "#     print(f'{year}: {len(timeline[year]):<10}')"
   ]
  },
  {
   "cell_type": "code",
   "execution_count": 80,
   "id": "6fcbecf7",
   "metadata": {},
   "outputs": [
    {
     "data": {
      "text/plain": [
       "''"
      ]
     },
     "execution_count": 80,
     "metadata": {},
     "output_type": "execute_result"
    },
    {
     "data": {
      "image/png": "[encoded data removed]",
      "text/plain": [
       "<Figure size 720x360 with 1 Axes>"
      ]
     },
     "metadata": {
      "needs_background": "light"
     },
     "output_type": "display_data"
    }
   ],
   "source": [
    "fig, ax = plt.subplots(figsize=(10, 5))\n",
    "ax.bar(range(len(timeline_count)), timeline_count.values(), edgecolor='k')\n",
    "ax.set_xticks(\n",
    "    ticks=np.arange(0, len(list(timeline_count.keys()))),\n",
    "    labels=list(timeline_count.keys())\n",
    ")\n",
    "ax.set_title('Количество текстов по годам')\n",
    ";"
   ]
  },
  {
   "cell_type": "markdown",
   "id": "f7b3e0fa",
   "metadata": {},
   "source": [
    "# Тематическое моделирование"
   ]
  },
  {
   "cell_type": "code",
   "execution_count": 56,
   "id": "b0d63fe5",
   "metadata": {},
   "outputs": [],
   "source": [
    "!rm -rf batches\n",
    "!rm -f cv_wabbit*.vw vocab.txt"
   ]
  },
  {
   "cell_type": "code",
   "execution_count": 57,
   "id": "f5b9bf4c",
   "metadata": {},
   "outputs": [],
   "source": [
    "@check_path\n",
    "def vocabulary_prep(text, vocab):\n",
    "     with open(vocab, 'w') as fh:\n",
    "        for sent in text:\n",
    "            fh.write(' |text ' + sent + '\\n')"
   ]
  },
  {
   "cell_type": "code",
   "execution_count": 58,
   "id": "0408c13d",
   "metadata": {},
   "outputs": [],
   "source": [
    "# для всех текстов сразу\n",
    "cv_vocab_path = 'cv_wabbit_v2.vw'\n",
    "vocabulary_prep(texts_filtered, cv_vocab_path)"
   ]
  },
  {
   "cell_type": "markdown",
   "id": "d71d1dae",
   "metadata": {},
   "source": [
    "#### Подготовка бачтей"
   ]
  },
  {
   "cell_type": "code",
   "execution_count": 59,
   "id": "9dfa611c",
   "metadata": {},
   "outputs": [],
   "source": [
    "batch_vectorizer = batching(data_path=cv_vocab_path)"
   ]
  },
  {
   "cell_type": "markdown",
   "id": "b1b0ac03",
   "metadata": {},
   "source": [
    "### Create an ARTM dictionary"
   ]
  },
  {
   "cell_type": "code",
   "execution_count": 60,
   "id": "d8276256",
   "metadata": {},
   "outputs": [],
   "source": [
    "dictionary = artm.Dictionary()\n",
    "dictionary.gather(batch_vectorizer.data_path)"
   ]
  },
  {
   "cell_type": "markdown",
   "id": "91778d68",
   "metadata": {},
   "source": [
    "### Save / load dictionary"
   ]
  },
  {
   "cell_type": "code",
   "execution_count": 61,
   "id": "48114908",
   "metadata": {},
   "outputs": [],
   "source": [
    "# !rm -f vocab.txt\n",
    "dictionary.save_text('vocab_all_texts.txt')\n",
    "# dictionary.load_text(dictionary_path='vocab_all_texts.txt')"
   ]
  },
  {
   "cell_type": "markdown",
   "id": "5106ca25",
   "metadata": {},
   "source": [
    "### ARTM model initialization\n",
    "\n",
    "[пример](https://www.coursera.org/learn/unsupervised-learning/supplement/suSWG/noutbuk-iz-diemonstratsii-ispol-zovaniia-bigartm)"
   ]
  },
  {
   "cell_type": "code",
   "execution_count": 62,
   "id": "8aa5eb43",
   "metadata": {},
   "outputs": [],
   "source": [
    "T = 5  # число тем\n",
    "tokens_per_T = 10 # число токенов в теме\n",
    "num_collection_passes = 10  # число проходов по коллекции"
   ]
  },
  {
   "cell_type": "code",
   "execution_count": 63,
   "id": "8a559045",
   "metadata": {},
   "outputs": [],
   "source": [
    "def init_model_artm(dictionary=dictionary):\n",
    "    model_artm = artm.ARTM(num_topics=T,\n",
    "                           topic_names=[str(i + 1) for i in range(T)],\n",
    "                           class_ids={\"text\":1},\n",
    "                           reuse_theta=True, \n",
    "                           cache_theta=True,\n",
    "                           num_document_passes=5,\n",
    "                           seed=0)\n",
    "    \n",
    "    # add scorers\n",
    "    model_artm.scores.add(artm.PerplexityScore(name='PerplexityScore', dictionary=dictionary))\n",
    "    model_artm.scores.add(artm.SparsityPhiScore(name='SparsityPhiScore', class_id='text'))\n",
    "    model_artm.scores.add(artm.SparsityThetaScore(name='SparsityThetaScore'))\n",
    "    model_artm.scores.add(artm.TopTokensScore(name='top_words', num_tokens=tokens_per_T, class_id='text'))\n",
    "    \n",
    "    model_artm.initialize(dictionary=dictionary)\n",
    "    return model_artm\n",
    "\n",
    "# model_artm = init_model_artm(dictionary)"
   ]
  },
  {
   "cell_type": "markdown",
   "id": "209f9ffa",
   "metadata": {},
   "source": [
    "`phi score`: разреженность матрицы распределения терминов в теме\n",
    "\n",
    "`theta score`: разреженность матрицы распределения тем в документах\n",
    "\n",
    "\n",
    "$\\Phi$: `model_artm.get_phi()`\n",
    "по столбцам стоят отдельные темы, по строкам - слова в коллекции, значение = P(w|t)\n",
    "\n",
    "$\\Theta$: `model_artm.get_theta()`\n",
    "по столбцам - документы, по строкам - темы, значение = P(t|d)\n"
   ]
  },
  {
   "cell_type": "markdown",
   "id": "8f119dbf",
   "metadata": {},
   "source": [
    "### 0. Модель без регуляризаторов"
   ]
  },
  {
   "cell_type": "code",
   "execution_count": 64,
   "id": "90877d80",
   "metadata": {},
   "outputs": [
    {
     "name": "stdout",
     "output_type": "stream",
     "text": [
      "1: военнослужащий, память, перегрузка, вывих, стираемость, амплитуда, поле, мкв, металл, мыщелковый\n",
      "\n",
      "2: дизокклюзия, подгруппа, мезиальна, асимметрия, дыхание, истирание, экологический, секстант, вестибулярный, ротация\n",
      "\n",
      "3: небный, недостаток, питание, респондент, специалист, уранопластик, фтор, карта, замена, вопрос\n",
      "\n",
      "4: платный, кабинет, работать, государственный, финансирование, труд, специалист, удельный, стандарт, вес\n",
      "\n",
      "5: лимфатический, волокно, вокруг, деминерализация, желудок, пятно, фиброзный, гриб, мощность, проницаемость\n",
      "\n",
      "Phi sparsity: 0.414\n",
      "Theta sparsity: 0.171\n"
     ]
    }
   ],
   "source": [
    "model_artm = init_model_artm()\n",
    "model_artm.fit_offline(batch_vectorizer=batch_vectorizer,\n",
    "                       num_collection_passes=num_collection_passes)\n",
    "\n",
    "tokens_printer(model_artm)\n",
    "\n",
    "show_matrices_sparsity(model_artm)"
   ]
  },
  {
   "cell_type": "markdown",
   "id": "facd7271",
   "metadata": {},
   "source": [
    "### Regularizers: 1\n",
    "\n",
    "[Decorrelator Phi](https://bigartm.readthedocs.io/en/stable/tutorials/regularizers_descr.html#decorrelator-phi)\n",
    "* $\\tau > 0 \\rightarrow$ токены различаются сильные в разных темах\n",
    "* $\\tau < 0 \\rightarrow$ токены в разных темах становятся более похожими друг на друга"
   ]
  },
  {
   "cell_type": "code",
   "execution_count": 72,
   "id": "6ba4ed68",
   "metadata": {},
   "outputs": [
    {
     "name": "stdout",
     "output_type": "stream",
     "text": [
      "1: военнослужащий, память, перегрузка, вывих, стираемость, амплитуда, поле, мкв, металл, мыщелковый\n",
      "\n",
      "2: дизокклюзия, подгруппа, мезиальна, асимметрия, дыхание, истирание, экологический, секстант, вестибулярный, ротация\n",
      "\n",
      "3: небный, недостаток, питание, респондент, специалист, уранопластик, фтор, карта, замена, вопрос\n",
      "\n",
      "4: платный, кабинет, работать, государственный, финансирование, труд, специалист, удельный, стандарт, вес\n",
      "\n",
      "5: лимфатический, волокно, вокруг, деминерализация, желудок, пятно, фиброзный, гриб, мощность, проницаемость\n",
      "\n",
      "Phi sparsity: 0.415\n",
      "Theta sparsity: 0.171\n",
      "CPU times: user 5.46 s, sys: 145 ms, total: 5.6 s\n",
      "Wall time: 1.94 s\n"
     ]
    }
   ],
   "source": [
    "%%time\n",
    "model_artm = init_model_artm()\n",
    "model_artm.regularizers.add(artm.DecorrelatorPhiRegularizer(name='DecorrPhi', tau=+1e3))\n",
    "model_artm.fit_offline(batch_vectorizer=batch_vectorizer,\n",
    "                      num_collection_passes=num_collection_passes)\n",
    "\n",
    "tokens_printer(model_artm)\n",
    "\n",
    "show_matrices_sparsity(model_artm)"
   ]
  },
  {
   "cell_type": "code",
   "execution_count": 73,
   "id": "69ed334b",
   "metadata": {},
   "outputs": [],
   "source": [
    "# theta_0 = model_artm.get_theta()\n",
    "# theta_bins_0 = count_topics_in_collection(theta_0, TOPIC_PROBA_THRESHOLD)\n",
    "# plot_collection_topic_distribution(theta_bins_0)"
   ]
  },
  {
   "cell_type": "markdown",
   "id": "9e94704b",
   "metadata": {},
   "source": [
    "### Regularizers: 2\n",
    "[SmoothSparsePhiRegularizer](http://docs.bigartm.org/en/stable/tutorials/regularizers_descr.html#decorrelator-phi)\n",
    "* $\\tau > 0 \\rightarrow$ сглаживает матрицу $\\Phi$\n",
    "* $\\tau < 0 \\rightarrow$ разрежает матрицу $\\Phi$"
   ]
  },
  {
   "cell_type": "markdown",
   "id": "2ba3aed3",
   "metadata": {},
   "source": [
    "* можно задавать `tau` без `dictionary` - тогда регуляризация для каждого слова в словаре будет одинаковой (разумные значения -2.5, -5)\n",
    "* если задан `tau (<0) & dictionary` - чем более вероятно слово во всей коллекции (чем большую частоту оно имеет), тем менее вероятно оно будет входить в отдельные темы\n",
    "* для применения регуляризатора к отдельным модальностям\n",
    "```python\n",
    "class_ids=['text']\n",
    "```"
   ]
  },
  {
   "cell_type": "code",
   "execution_count": 74,
   "id": "25f51176",
   "metadata": {},
   "outputs": [
    {
     "name": "stdout",
     "output_type": "stream",
     "text": [
      "1: амплитуда, задний, металл, использоваться, секстант, лимфатический, интоксикация, поле, разрушение, память\n",
      "\n",
      "2: категория, дыхание, затрата, подгруппа, синус, артерия, диспансерный, экологический, вестибулярный, укорочение\n",
      "\n",
      "3: небный, недостаток, фтор, медико, щель, расширение, пространство, республика, центр, проекция\n",
      "\n",
      "4: кабинет, платный, контактный, государственный, удельный, труд, технический, специалист, личностный, нуждаемость\n",
      "\n",
      "5: волокно, специфический, мощность, консервативный, носить, созревание, фиброзный, деминерализация, ион, эпителизация\n",
      "\n",
      "Phi sparsity: 0.761\n",
      "Theta sparsity: 0.113\n"
     ]
    }
   ],
   "source": [
    "model_artm = init_model_artm()\n",
    "model_artm.regularizers.add(artm.SmoothSparsePhiRegularizer(name='SparsePhi', tau=-1e4, dictionary=dictionary))\n",
    "# tau = -1e5: слово будет домножаться на его частоту во всей коллекции\n",
    "# dictionary: str or reference to Dictionary object\n",
    "\n",
    "model_artm.fit_offline(batch_vectorizer=batch_vectorizer,\n",
    "                      num_collection_passes=num_collection_passes)\n",
    "\n",
    "tokens_printer(model_artm)\n",
    "\n",
    "show_matrices_sparsity(model_artm)"
   ]
  },
  {
   "cell_type": "markdown",
   "id": "1cc566ba",
   "metadata": {},
   "source": [
    "### Regularizers: 3\n",
    "\n",
    "[SmoothThetaRegularizer](http://docs.bigartm.org/en/stable/tutorials/regularizers_descr.html#smooth-sparse-theta)\n",
    "\n",
    "* $\\tau > 0 \\rightarrow$ сглаживает матрицу $\\Theta$\n",
    "* $\\tau < 0 \\rightarrow$ разрежает матрицу $\\Theta$"
   ]
  },
  {
   "cell_type": "markdown",
   "id": "bc07ef8d",
   "metadata": {},
   "source": [
    "Видно, что даже небольшое значение для регуляризатора [SmoothThetaRegularizer](http://docs.bigartm.org/en/stable/tutorials/regularizers_descr.html#smooth-sparse-theta) приводит к удалению некоторых тем"
   ]
  },
  {
   "cell_type": "code",
   "execution_count": 75,
   "id": "b4df59ad",
   "metadata": {},
   "outputs": [
    {
     "name": "stdout",
     "output_type": "stream",
     "text": [
      "1: фиссура, небный, созревание, пятно, перегрузка, поле, память, фтор, металл, питание\n",
      "\n",
      "3: подгруппа, руб, вахтовый, старческий, стоимость, пища, личностный, диспансерный, пожилое, артерия\n",
      "\n",
      "5: штифтовой, лимфатический, литовить, винтовой, гсу, начинать, расширение, узел, нсо, инфракрасный\n",
      "\n",
      "Phi sparsity: 0.869\n",
      "Theta sparsity: 0.915\n"
     ]
    }
   ],
   "source": [
    "model_artm = init_model_artm()\n",
    "model_artm.regularizers.add(artm.SmoothSparseThetaRegularizer(name='SparseTheta', tau=-10))\n",
    "model_artm.fit_offline(batch_vectorizer=batch_vectorizer,\n",
    "                      num_collection_passes=num_collection_passes)\n",
    "\n",
    "tokens_printer(model_artm)\n",
    "show_matrices_sparsity(model_artm)"
   ]
  },
  {
   "cell_type": "markdown",
   "id": "97119828",
   "metadata": {},
   "source": [
    "### Regularizers: 4\n",
    "[TopicSelectionThetaRegularizer](http://docs.bigartm.org/en/stable/tutorials/regularizers_descr.html#topic-selection-theta)\n",
    "\n",
    "Читать(p.13) - ARTM_examples/4-1.Tematicheskoe_modelirovanie-_1.pdf"
   ]
  },
  {
   "cell_type": "code",
   "execution_count": 76,
   "id": "5fd658ef",
   "metadata": {},
   "outputs": [],
   "source": [
    "# model_artm.regularizers.add(artm.TopicSelectionThetaRegularizer(name='TopicSelectionTheta', tau=1))\n",
    "# model_artm.regularizers['TopicSelectionTheta'].tau = 1"
   ]
  },
  {
   "cell_type": "code",
   "execution_count": 77,
   "id": "e9bc24e5",
   "metadata": {},
   "outputs": [],
   "source": [
    "# model_artm.fit_offline(batch_vectorizer=batch_vectorizer,\n",
    "#                       num_collection_passes=num_collection_passes)"
   ]
  },
  {
   "cell_type": "code",
   "execution_count": 78,
   "id": "6992511c",
   "metadata": {},
   "outputs": [],
   "source": [
    "# tokens_printer(model_artm)"
   ]
  },
  {
   "cell_type": "code",
   "execution_count": 79,
   "id": "cb43180f",
   "metadata": {},
   "outputs": [],
   "source": [
    "# show_matrices_sparsity(model_artm)"
   ]
  }
 ],
 "metadata": {
  "kernelspec": {
   "display_name": "Python 3",
   "language": "python",
   "name": "python3"
  },
  "language_info": {
   "codemirror_mode": {
    "name": "ipython",
    "version": 3
   },
   "file_extension": ".py",
   "mimetype": "text/x-python",
   "name": "python",
   "nbconvert_exporter": "python",
   "pygments_lexer": "ipython3",
   "version": "3.8.13"
  }
 },
 "nbformat": 4,
 "nbformat_minor": 5
}
