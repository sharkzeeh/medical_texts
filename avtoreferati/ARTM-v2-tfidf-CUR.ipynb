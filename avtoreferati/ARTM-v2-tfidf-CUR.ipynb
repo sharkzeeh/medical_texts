{
 "cells": [
  {
   "cell_type": "code",
   "execution_count": 1,
   "id": "25127af2",
   "metadata": {},
   "outputs": [],
   "source": [
    "%load_ext autoreload\n",
    "%autoreload 2"
   ]
  },
  {
   "cell_type": "code",
   "execution_count": 2,
   "id": "f4a94535",
   "metadata": {},
   "outputs": [],
   "source": [
    "import warnings\n",
    "warnings.filterwarnings('ignore')"
   ]
  },
  {
   "cell_type": "code",
   "execution_count": 3,
   "id": "fb50bcd5",
   "metadata": {},
   "outputs": [],
   "source": [
    "from helper_functions import *"
   ]
  },
  {
   "cell_type": "code",
   "execution_count": 4,
   "id": "59493d83",
   "metadata": {},
   "outputs": [],
   "source": [
    "import pandas as pd\n",
    "from tqdm.notebook import tqdm\n",
    "import re\n",
    "from typing import List\n",
    "import os\n",
    "import matplotlib.pyplot as plt\n",
    "import numpy as np\n",
    "import artm\n",
    "from collections import defaultdict"
   ]
  },
  {
   "cell_type": "code",
   "execution_count": 5,
   "id": "4eeb512a",
   "metadata": {},
   "outputs": [
    {
     "name": "stdout",
     "output_type": "stream",
     "text": [
      "CPU times: user 6.64 s, sys: 136 ms, total: 6.78 s\n",
      "Wall time: 6.78 s\n"
     ]
    }
   ],
   "source": [
    "%%time\n",
    "df = pd.read_excel('../data/avtoreferati.xlsx', sheet_name='Итог', header=0)"
   ]
  },
  {
   "cell_type": "code",
   "execution_count": 6,
   "id": "cd19d3f5",
   "metadata": {},
   "outputs": [
    {
     "data": {
      "text/plain": [
       "0      2.5\n",
       "1        3\n",
       "2    3,4,5\n",
       "Name: Пункты паспорта специальности (области исследования) 1-ой специальности, dtype: object"
      ]
     },
     "execution_count": 6,
     "metadata": {},
     "output_type": "execute_result"
    }
   ],
   "source": [
    "df['Пункты паспорта специальности (области исследования) 1-ой специальности'].head(3)"
   ]
  },
  {
   "cell_type": "code",
   "execution_count": 7,
   "id": "b2537738",
   "metadata": {},
   "outputs": [],
   "source": [
    "tasks_aux = {k: f't{k}' for k in range(1, 14)}\n",
    "# 1: 't1', 2: 't2', 3: 't3', 4: 't4', 5: 't5', 6: 't6', 7: 't7', 8: 't8', 9: 't9', 10: 't10', 11: 't11', 12: 't12', 13: 't13'\n",
    "res_aux = {f'{k}.1' : f'r{k}' for k in range(1, 14)}\n",
    "\n",
    "res_aux.update({k: f'r{k}' for k in range(14, 21)})"
   ]
  },
  {
   "cell_type": "code",
   "execution_count": 8,
   "id": "3e818f46",
   "metadata": {},
   "outputs": [],
   "source": [
    "df.rename(\n",
    "    columns={'Годзащиты': 'year', 'Unnamed: 29': 'title', \n",
    "             'Пункты паспорта специальности (области исследования) 1-ой специальности': 'code',\n",
    "            **tasks_aux,\n",
    "            **res_aux,}, \n",
    "    inplace=True\n",
    ")"
   ]
  },
  {
   "cell_type": "code",
   "execution_count": 9,
   "id": "eecc5146",
   "metadata": {},
   "outputs": [],
   "source": [
    "df = df[['year', 'code', *list(res_aux.values())]]"
   ]
  },
  {
   "cell_type": "markdown",
   "id": "cba2ebaf",
   "metadata": {},
   "source": [
    "### Работа с колонкой `code`"
   ]
  },
  {
   "cell_type": "code",
   "execution_count": 10,
   "id": "75ef28a9",
   "metadata": {},
   "outputs": [
    {
     "data": {
      "text/plain": [
       "(5798, 22)"
      ]
     },
     "execution_count": 10,
     "metadata": {},
     "output_type": "execute_result"
    }
   ],
   "source": [
    "df.shape"
   ]
  },
  {
   "cell_type": "code",
   "execution_count": 11,
   "id": "0feed6ad",
   "metadata": {},
   "outputs": [],
   "source": [
    "def preprocess_code_column(values: list) -> pd.Series:\n",
    "    res = []\n",
    "    comp = re.compile(r'[.,]')\n",
    "    chars = re.compile(r'[^0-9.,]')\n",
    "    str2int = lambda lst: list(map(int, lst))\n",
    "    for i, val_ in enumerate(values):\n",
    "        val = str(val_)\n",
    "        val = re.sub(chars, '', val)\n",
    "        codes = comp.split(val)\n",
    "        codes = str2int(codes)\n",
    "        res.append(codes)\n",
    "    return res"
   ]
  },
  {
   "cell_type": "code",
   "execution_count": 12,
   "id": "8092a447",
   "metadata": {},
   "outputs": [],
   "source": [
    "df['code'] = df.code.replace('?', np.nan)"
   ]
  },
  {
   "cell_type": "code",
   "execution_count": 13,
   "id": "7d3199b4",
   "metadata": {
    "tags": []
   },
   "outputs": [
    {
     "data": {
      "text/plain": [
       "(1254, 22)"
      ]
     },
     "execution_count": 13,
     "metadata": {},
     "output_type": "execute_result"
    }
   ],
   "source": [
    "df = df.dropna()\n",
    "df.shape"
   ]
  },
  {
   "cell_type": "code",
   "execution_count": 14,
   "id": "d111db4f",
   "metadata": {},
   "outputs": [],
   "source": [
    "code = df.code.astype('str').tolist()\n",
    "assert len(code) == df.shape[0]"
   ]
  },
  {
   "cell_type": "code",
   "execution_count": 15,
   "id": "1a537b6e",
   "metadata": {},
   "outputs": [],
   "source": [
    "df['year'] = df.year.astype(int)"
   ]
  },
  {
   "cell_type": "code",
   "execution_count": 16,
   "id": "2a1fb6b8",
   "metadata": {},
   "outputs": [],
   "source": [
    "df['code'] = preprocess_code_column(code)"
   ]
  },
  {
   "cell_type": "markdown",
   "id": "32cecd6d",
   "metadata": {},
   "source": [
    "### рассматриваем только результаты (без задач)"
   ]
  },
  {
   "cell_type": "code",
   "execution_count": 17,
   "id": "2bf7dd28",
   "metadata": {},
   "outputs": [],
   "source": [
    "df['text'] = df.apply(lambda row: \n",
    "                        row['r1'] + '. ' + row['r2'] + '. ' + row['r3'] + '. ' + \\\n",
    "                        row['r4'] + '. ' + row['r5'] + '. ' + row['r6'] + '. ' + \\\n",
    "                        row['r7'] + '. ' + row['r8'] + '. ' + row['r9'] + '. ' + \\\n",
    "                        row['r10'] + '. ' + row['r11'] + '. ' + row['r12'] + '. ' + \\\n",
    "                        row['r13'] + '. ' + row['r14'] + '. ' + row['r15'] + '. ' + \\\n",
    "                        row['r16'] + '. ' + row['r17'] + '. ' + row['r18'] + '. ' + \\\n",
    "                        row['r19'] + '. ' + row['r20'],\n",
    "                        axis=1)"
   ]
  },
  {
   "cell_type": "markdown",
   "id": "4a09fd7c",
   "metadata": {},
   "source": [
    "### Preprocessing"
   ]
  },
  {
   "cell_type": "code",
   "execution_count": 18,
   "id": "6ae40903",
   "metadata": {},
   "outputs": [
    {
     "name": "stderr",
     "output_type": "stream",
     "text": [
      "[nltk_data] Downloading package stopwords to /home/robez/nltk_data...\n",
      "[nltk_data]   Package stopwords is already up-to-date!\n",
      "/home/robez/ds_venv2/lib/python3.8/site-packages/pymorphy2/units/base.py:70: DeprecationWarning: inspect.getargspec() is deprecated since Python 3.0, use inspect.signature() or inspect.getfullargspec()\n",
      "  args, varargs, kw, default = inspect.getargspec(cls.__init__)\n"
     ]
    }
   ],
   "source": [
    "import pymorphy2\n",
    "import os\n",
    "from typing import List\n",
    "import razdel\n",
    "\n",
    "import nltk\n",
    "nltk.download(\"stopwords\")\n",
    "stopwords = nltk.corpus.stopwords.words('russian')\n",
    "\n",
    "cyrillic = re.compile(r'[^а-я ]')\n",
    "mult_ws = re.compile(r'\\s+')\n",
    "fix_punct = re.compile(r'\\s+(\\?|\\.|,|!|:)')\n",
    "\n",
    "morph = pymorphy2.MorphAnalyzer()"
   ]
  },
  {
   "cell_type": "code",
   "execution_count": 19,
   "id": "b92bd8a6",
   "metadata": {},
   "outputs": [],
   "source": [
    "def process_regex(re_words_to_remove,\n",
    "                  re_mult_ws,\n",
    "                  text: str) -> str:\n",
    "    '''\n",
    "    строковый предпроцессинг предложения\n",
    "    '''\n",
    "    text = text.lower()\n",
    "    text = re.sub(re_words_to_remove, ' ', text)\n",
    "    text = re.sub(re_mult_ws, ' ', text)\n",
    "    text = text.strip()\n",
    "    return text\n",
    "\n",
    "def lemmatize(text: str, lemmatizer, min_word_size: int = 5) -> List[str]:\n",
    "    words = [token.text for token in razdel.tokenize(text)]\n",
    "    res = []\n",
    "    for word in words:\n",
    "        if word not in stopwords:# and len(word) > 1:\n",
    "            p = lemmatizer.parse(word)[0]\n",
    "            word_normal_form = p.normal_form\n",
    "            if len(word_normal_form) < min_word_size:\n",
    "                continue\n",
    "            res.append(word_normal_form.replace('ё', 'е'))\n",
    "    return res\n",
    "\n",
    "def process_doc(doc: List[str], lemmatizer, min_word_size=3, min_sent_size=10) -> List[str]:\n",
    "    proc_doc = []\n",
    "    if not isinstance(doc, list):\n",
    "        doc = [doc]\n",
    "    for sent in doc:\n",
    "        proc_sent = process_regex(\n",
    "            cyrillic,\n",
    "            mult_ws,\n",
    "            text=sent\n",
    "        )\n",
    "        proc_sent_tokens = lemmatize(proc_sent, lemmatizer, min_word_size)\n",
    "        # порог по длине предложения\n",
    "        if len(proc_sent_tokens) < min_sent_size:\n",
    "            continue\n",
    "        proc_sent = ' '.join(proc_sent_tokens)\n",
    "        proc_doc.append(proc_sent)\n",
    "    return proc_doc\n",
    "\n",
    "def sentenize_doc(doc: str) -> List[str]:\n",
    "    return [sent.text for sent in razdel.sentenize(doc) if sent.text]"
   ]
  },
  {
   "cell_type": "code",
   "execution_count": 20,
   "id": "cbf8c1f8",
   "metadata": {},
   "outputs": [],
   "source": [
    "df['text_sent'] = df.text.apply(lambda row: sentenize_doc(row))"
   ]
  },
  {
   "cell_type": "code",
   "execution_count": 21,
   "id": "a57b1b24",
   "metadata": {},
   "outputs": [
    {
     "name": "stdout",
     "output_type": "stream",
     "text": [
      "CPU times: user 1min 23s, sys: 299 ms, total: 1min 23s\n",
      "Wall time: 1min 23s\n"
     ]
    }
   ],
   "source": [
    "%%time\n",
    "df['text_sent_proc'] = df.text_sent.apply(\n",
    "    lambda row: process_doc(\n",
    "                            row,\n",
    "                            lemmatizer=morph,\n",
    "                            min_word_size=2,\n",
    "                            min_sent_size=5\n",
    "    )\n",
    ")"
   ]
  },
  {
   "cell_type": "code",
   "execution_count": 22,
   "id": "53fad856",
   "metadata": {},
   "outputs": [
    {
     "name": "stdout",
     "output_type": "stream",
     "text": [
      "CPU times: user 12.1 ms, sys: 2 µs, total: 12.1 ms\n",
      "Wall time: 11.9 ms\n"
     ]
    }
   ],
   "source": [
    "%%time\n",
    "df['text_clean'] = df.text_sent_proc.apply(lambda row:\n",
    "                                           ' '.join(row)\n",
    "                                          )"
   ]
  },
  {
   "cell_type": "code",
   "execution_count": 23,
   "id": "b8a83d32",
   "metadata": {},
   "outputs": [
    {
     "data": {
      "text/plain": [
       "528    NaN\n",
       "Name: text_clean, dtype: object"
      ]
     },
     "execution_count": 23,
     "metadata": {},
     "output_type": "execute_result"
    }
   ],
   "source": [
    "# проверяем пустые тексты после обработкиы\n",
    "df.text_clean = df.text_clean.replace('', np.nan)\n",
    "df.text_clean[df.text_clean.isna()]"
   ]
  },
  {
   "cell_type": "code",
   "execution_count": 24,
   "id": "fa63d0f3",
   "metadata": {},
   "outputs": [],
   "source": [
    "df.dropna(inplace=True)"
   ]
  },
  {
   "cell_type": "code",
   "execution_count": 25,
   "id": "e34e34ad",
   "metadata": {},
   "outputs": [],
   "source": [
    "texts = df.text_clean.tolist()\n",
    "years = df.year.tolist()"
   ]
  },
  {
   "cell_type": "code",
   "execution_count": 26,
   "id": "930e462a",
   "metadata": {},
   "outputs": [],
   "source": [
    "# сохраняем тексты\n",
    "with open('texts.txt', 'w') as fh:\n",
    "    fh.writelines([f'{text}\\n' for text in texts])"
   ]
  },
  {
   "cell_type": "code",
   "execution_count": 27,
   "id": "b9028203",
   "metadata": {},
   "outputs": [],
   "source": [
    "with open('texts.txt') as fh:\n",
    "    texts = fh.readlines()"
   ]
  },
  {
   "cell_type": "code",
   "execution_count": 28,
   "id": "e45eb9c2",
   "metadata": {},
   "outputs": [],
   "source": [
    "def convert_texts_to_tokens(texts):\n",
    "    return [text.split() for text in texts]"
   ]
  },
  {
   "cell_type": "code",
   "execution_count": 29,
   "id": "88da7301",
   "metadata": {},
   "outputs": [],
   "source": [
    "tokens = convert_texts_to_tokens(texts)"
   ]
  },
  {
   "cell_type": "code",
   "execution_count": 30,
   "id": "4446d7d7",
   "metadata": {},
   "outputs": [
    {
     "name": "stdout",
     "output_type": "stream",
     "text": [
      "Размер исходного словаря = 14959\n"
     ]
    }
   ],
   "source": [
    "vocab_source = set()\n",
    "for row in tokens:\n",
    "    for token in row:\n",
    "        if token not in vocab_source:\n",
    "            vocab_source.add(token)\n",
    "\n",
    "print(f'Размер исходного словаря = {len(vocab_source)}')"
   ]
  },
  {
   "cell_type": "markdown",
   "id": "43c2148b",
   "metadata": {},
   "source": [
    "### Применение TF-IDF для исключения часто встречающихся терминов"
   ]
  },
  {
   "cell_type": "code",
   "execution_count": 31,
   "id": "dc818bcd",
   "metadata": {},
   "outputs": [],
   "source": [
    "from sklearn.feature_extraction.text import TfidfVectorizer\n",
    "\n",
    "tfidf = TfidfVectorizer(ngram_range=(1, 1),\n",
    "                        lowercase=True,\n",
    "                        max_df=0.2,\n",
    "                        analyzer='word')"
   ]
  },
  {
   "cell_type": "code",
   "execution_count": 32,
   "id": "4c7a08f2",
   "metadata": {},
   "outputs": [],
   "source": [
    "tfidf_matrix = tfidf.fit_transform(texts)"
   ]
  },
  {
   "cell_type": "code",
   "execution_count": 33,
   "id": "6a3a10a8",
   "metadata": {},
   "outputs": [],
   "source": [
    "features = tfidf.get_feature_names()"
   ]
  },
  {
   "cell_type": "code",
   "execution_count": 34,
   "id": "ee380bce",
   "metadata": {},
   "outputs": [],
   "source": [
    "df_tfidf = pd.DataFrame(tfidf_matrix.toarray(), columns = features)"
   ]
  },
  {
   "cell_type": "code",
   "execution_count": 35,
   "id": "c46975b4",
   "metadata": {},
   "outputs": [],
   "source": [
    "df_tfidf_sum = df_tfidf.sum(axis=0)\n",
    "res = pd.DataFrame({'Vocab': df_tfidf_sum.index, 'Frequency': df_tfidf_sum.values})\\\n",
    "    .sort_values(by='Frequency', ascending=False)"
   ]
  },
  {
   "cell_type": "code",
   "execution_count": 36,
   "id": "b72b24e4",
   "metadata": {},
   "outputs": [
    {
     "data": {
      "text/html": [
       "<div>\n",
       "<style scoped>\n",
       "    .dataframe tbody tr th:only-of-type {\n",
       "        vertical-align: middle;\n",
       "    }\n",
       "\n",
       "    .dataframe tbody tr th {\n",
       "        vertical-align: top;\n",
       "    }\n",
       "\n",
       "    .dataframe thead th {\n",
       "        text-align: right;\n",
       "    }\n",
       "</style>\n",
       "<table border=\"1\" class=\"dataframe\">\n",
       "  <thead>\n",
       "    <tr style=\"text-align: right;\">\n",
       "      <th></th>\n",
       "      <th>Vocab</th>\n",
       "      <th>Frequency</th>\n",
       "    </tr>\n",
       "  </thead>\n",
       "  <tbody>\n",
       "  </tbody>\n",
       "</table>\n",
       "</div>"
      ],
      "text/plain": [
       "Empty DataFrame\n",
       "Columns: [Vocab, Frequency]\n",
       "Index: []"
      ]
     },
     "execution_count": 36,
     "metadata": {},
     "output_type": "execute_result"
    }
   ],
   "source": [
    "res[res.Vocab == 'зуб'] # видим, что \"зуб\" будет отфильтрован"
   ]
  },
  {
   "cell_type": "code",
   "execution_count": 37,
   "id": "808c905d",
   "metadata": {},
   "outputs": [],
   "source": [
    "TFIDF_SUM_THRESH = 10.0"
   ]
  },
  {
   "cell_type": "markdown",
   "id": "1392accc",
   "metadata": {},
   "source": [
    "### Словарь после фильтрации по $\\sum$ TFIDF"
   ]
  },
  {
   "cell_type": "code",
   "execution_count": 38,
   "id": "c580de5e",
   "metadata": {},
   "outputs": [],
   "source": [
    "vocab_filtered = res.Vocab[res.Frequency < TFIDF_SUM_THRESH].values.tolist()"
   ]
  },
  {
   "cell_type": "markdown",
   "id": "c7948503",
   "metadata": {},
   "source": [
    "#### Удаленный словарь"
   ]
  },
  {
   "cell_type": "code",
   "execution_count": 39,
   "id": "2a6ac94e",
   "metadata": {},
   "outputs": [],
   "source": [
    "# res.Vocab[res.Frequency >= TFIDF_SUM_THRESH].values.tolist()"
   ]
  },
  {
   "cell_type": "markdown",
   "id": "f3d526f6",
   "metadata": {},
   "source": [
    "#### Размер словаря до и после применения TF-IDF"
   ]
  },
  {
   "cell_type": "code",
   "execution_count": 40,
   "id": "b9e23bdb",
   "metadata": {},
   "outputs": [
    {
     "data": {
      "text/plain": [
       "(14959, 14810)"
      ]
     },
     "execution_count": 40,
     "metadata": {},
     "output_type": "execute_result"
    }
   ],
   "source": [
    "len(vocab_source), len(vocab_filtered)"
   ]
  },
  {
   "cell_type": "markdown",
   "id": "283ac517",
   "metadata": {},
   "source": [
    "### Фильтрация текста по новому словарю"
   ]
  },
  {
   "cell_type": "code",
   "execution_count": 41,
   "id": "96fd9644",
   "metadata": {},
   "outputs": [
    {
     "data": {
      "application/vnd.jupyter.widget-view+json": {
       "model_id": "34ecd8b2298d4cb0b85f2f2658f36018",
       "version_major": 2,
       "version_minor": 0
      },
      "text/plain": [
       "0it [00:00, ?it/s]"
      ]
     },
     "metadata": {},
     "output_type": "display_data"
    }
   ],
   "source": [
    "texts_filtered = []\n",
    "for i, row in tqdm(enumerate(tokens)):\n",
    "    cur_text_tokens = []\n",
    "    for token in row:\n",
    "        if token in vocab_filtered:\n",
    "            cur_text_tokens.append(token)\n",
    "    if cur_text_tokens:\n",
    "        cur_text = ' '.join(cur_text_tokens)\n",
    "        texts_filtered.append(cur_text)\n",
    "    else:\n",
    "        print(i)\n",
    "        print(row)"
   ]
  },
  {
   "cell_type": "markdown",
   "id": "2a275b82",
   "metadata": {},
   "source": [
    "### Количество авторефератов по годам"
   ]
  },
  {
   "cell_type": "code",
   "execution_count": 42,
   "id": "6fcbecf7",
   "metadata": {},
   "outputs": [
    {
     "data": {
      "text/plain": [
       "''"
      ]
     },
     "execution_count": 42,
     "metadata": {},
     "output_type": "execute_result"
    },
    {
     "data": {
      "image/png": "[encoded data removed]",
      "text/plain": [
       "<Figure size 360x360 with 1 Axes>"
      ]
     },
     "metadata": {
      "needs_background": "light"
     },
     "output_type": "display_data"
    }
   ],
   "source": [
    "timeline = defaultdict(list)\n",
    "for year, text in zip(years, texts_filtered):\n",
    "    timeline[year].append(text) \n",
    "\n",
    "timeline_count = {}\n",
    "for year in timeline:\n",
    "    timeline_count[year] = len(timeline[year])\n",
    "#     print(f'{year}: {len(timeline[year]):<10}')\n",
    "\n",
    "fig, ax = plt.subplots(figsize=(5, 5))\n",
    "ax.bar(range(len(timeline_count)), timeline_count.values(), edgecolor='k')\n",
    "ax.set_xticks(\n",
    "    ticks=np.arange(0, len(list(timeline_count.keys()))),\n",
    "    labels=list(timeline_count.keys())\n",
    ")\n",
    "ax.set_title('Количество текстов по годам')\n",
    ";"
   ]
  },
  {
   "cell_type": "markdown",
   "id": "995d2fc4",
   "metadata": {},
   "source": [
    "функция снизу для инференса [SO](https://stackoverflow.com/questions/34449127/sklearn-tfidf-transformer-how-to-get-tf-idf-values-of-given-words-in-documen#:~:text=3-,Finding,-tfidf%20score%20per)"
   ]
  },
  {
   "cell_type": "code",
   "execution_count": 43,
   "id": "29d2e69e",
   "metadata": {},
   "outputs": [],
   "source": [
    "# def get_ifidf_for_words(text):\n",
    "#     tfidf_matrix= tfidf.transform([text]).todense()\n",
    "#     feature_index = tfidf_matrix[0,:].nonzero()[1]\n",
    "#     tfidf_scores = zip([feature_names[i] for i in feature_index], [tfidf_matrix[0, x] for x in feature_index])\n",
    "#     return dict(tfidf_scores)"
   ]
  },
  {
   "cell_type": "markdown",
   "id": "f7b3e0fa",
   "metadata": {},
   "source": [
    "# Тематическое моделирование"
   ]
  },
  {
   "cell_type": "code",
   "execution_count": 44,
   "id": "b0d63fe5",
   "metadata": {},
   "outputs": [],
   "source": [
    "!rm -rf batches\n",
    "!rm -f cv_wabbit*.vw vocab.txt"
   ]
  },
  {
   "cell_type": "code",
   "execution_count": 45,
   "id": "f5b9bf4c",
   "metadata": {},
   "outputs": [],
   "source": [
    "@check_path\n",
    "def vocabulary_prep(text, vocab):\n",
    "     with open(vocab, 'w') as fh:\n",
    "        for sent in text:\n",
    "            fh.write(' |text ' + sent + '\\n')"
   ]
  },
  {
   "cell_type": "code",
   "execution_count": 46,
   "id": "0408c13d",
   "metadata": {},
   "outputs": [],
   "source": [
    "## для всех текстов сразу\n",
    "# cv_vocab_path = 'cv_wabbit_v2.vw'\n",
    "# vocabulary_prep(texts_filtered, cv_vocab_path)"
   ]
  },
  {
   "cell_type": "code",
   "execution_count": 47,
   "id": "4b8f8c9b",
   "metadata": {},
   "outputs": [],
   "source": [
    "## динамика по годам\n",
    "for year in timeline:\n",
    "    vocabulary_prep(timeline[year], f'cv_wabbit_{year}.vw')"
   ]
  },
  {
   "cell_type": "markdown",
   "id": "d71d1dae",
   "metadata": {},
   "source": [
    "#### Подготовка бачтей"
   ]
  },
  {
   "cell_type": "code",
   "execution_count": 48,
   "id": "ae1d87f9",
   "metadata": {},
   "outputs": [],
   "source": [
    "batch_vectorizers = {}\n",
    "dictionaries = {}\n",
    "for year in timeline:\n",
    "    batch_vectorizers[year] = batching(data_path=f'cv_wabbit_{year}.vw',\n",
    "                                      batch_path=f'batches/{year}')\n",
    "    \n",
    "    dictionary = artm.Dictionary()\n",
    "    dictionary.gather(batch_vectorizers[year].data_path)\n",
    "    \n",
    "    dictionaries[year] = dictionary"
   ]
  },
  {
   "cell_type": "code",
   "execution_count": 49,
   "id": "9dfa611c",
   "metadata": {},
   "outputs": [],
   "source": [
    "# batch_vectorizer = batching(data_path=cv_vocab_path)"
   ]
  },
  {
   "cell_type": "markdown",
   "id": "b1b0ac03",
   "metadata": {},
   "source": [
    "### Create an ARTM dictionary"
   ]
  },
  {
   "cell_type": "code",
   "execution_count": 50,
   "id": "d8276256",
   "metadata": {},
   "outputs": [],
   "source": [
    "# dictionary = artm.Dictionary()\n",
    "# dictionary.gather(batch_vectorizer.data_path)"
   ]
  },
  {
   "cell_type": "markdown",
   "id": "91778d68",
   "metadata": {},
   "source": [
    "### Save / load dictionary"
   ]
  },
  {
   "cell_type": "code",
   "execution_count": 51,
   "id": "48114908",
   "metadata": {},
   "outputs": [],
   "source": [
    "## !rm -f vocab.txt\n",
    "# dictionary.save_text('vocab.txt')\n",
    "# dictionary.load_text(dictionary_path='vocab.txt')"
   ]
  },
  {
   "cell_type": "markdown",
   "id": "5106ca25",
   "metadata": {},
   "source": [
    "### ARTM model initialization\n",
    "\n",
    "[пример](https://www.coursera.org/learn/unsupervised-learning/supplement/suSWG/noutbuk-iz-diemonstratsii-ispol-zovaniia-bigartm)"
   ]
  },
  {
   "cell_type": "code",
   "execution_count": 52,
   "id": "63a89f78",
   "metadata": {},
   "outputs": [],
   "source": [
    "T = 5  # число тем\n",
    "num_collection_passes = 10  # число проходов по коллекции"
   ]
  },
  {
   "cell_type": "code",
   "execution_count": 53,
   "id": "8a559045",
   "metadata": {},
   "outputs": [],
   "source": [
    "def init_model_artm(dictionary):\n",
    "    model_artm = artm.ARTM(num_topics=T,\n",
    "                           topic_names=[str(i + 1) for i in range(T)],\n",
    "                           class_ids={\"text\":1},\n",
    "                           reuse_theta=True, \n",
    "                           cache_theta=True,\n",
    "                           num_document_passes=3,\n",
    "                           seed=0)\n",
    "    \n",
    "    # add scorers\n",
    "    model_artm.scores.add(artm.PerplexityScore(name='PerplexityScore', dictionary=dictionary))\n",
    "    model_artm.scores.add(artm.SparsityPhiScore(name='SparsityPhiScore', class_id='text'))\n",
    "    model_artm.scores.add(artm.SparsityThetaScore(name='SparsityThetaScore'))\n",
    "    model_artm.scores.add(artm.TopTokensScore(name='top_words', num_tokens=T, class_id='text'))\n",
    "    \n",
    "    model_artm.initialize(dictionary=dictionary)\n",
    "    return model_artm\n",
    "\n",
    "# model_artm = init_model_artm(dictionary)"
   ]
  },
  {
   "cell_type": "markdown",
   "id": "209f9ffa",
   "metadata": {},
   "source": [
    "`phi score`: разреженность матрицы распределения терминов в теме\n",
    "\n",
    "`theta score`: разреженность матрицы распределения тем в документах\n",
    "\n",
    "\n",
    "$\\Phi$: `model_artm.get_phi()`\n",
    "по столбцам стоят отдельные темы, по строкам - слова в коллекции, значение = P(w|t)\n",
    "\n",
    "$\\Theta$: `model_artm.get_theta()`\n",
    "по столбцам - документы, по строкам - темы, значение = P(t|d)\n"
   ]
  },
  {
   "cell_type": "markdown",
   "id": "8f119dbf",
   "metadata": {},
   "source": [
    "### 0. Модель без регуляризаторов"
   ]
  },
  {
   "cell_type": "code",
   "execution_count": 54,
   "id": "8033403c",
   "metadata": {
    "scrolled": false
   },
   "outputs": [
    {
     "data": {
      "application/vnd.jupyter.widget-view+json": {
       "model_id": "335aa6e8886849e7885a04c2c332e897",
       "version_major": 2,
       "version_minor": 0
      },
      "text/plain": [
       "  0%|          | 0/8 [00:00<?, ?it/s]"
      ]
     },
     "metadata": {},
     "output_type": "display_data"
    },
    {
     "name": "stdout",
     "output_type": "stream",
     "text": [
      "                            1993                            \n",
      "\n",
      "1: железа, передний, отросток, сиаладенит, язык\n",
      "\n",
      "2: животное, титан, удаление, свойство, профилактический\n",
      "\n",
      "3: фтор, корень, кислота, твердый, кариозный\n",
      "\n",
      "4: размер, лпу, резистентность, гнойный, схп\n",
      "\n",
      "5: раствор, оттиск, вт, минута, орбитальный\n",
      "\n",
      "\n",
      "############################################################\n",
      "\n",
      "                            1994                            \n",
      "\n",
      "1: прикус, предложить, положение, вмешательство, нагрузка\n",
      "\n",
      "2: физический, работоспособность, диабет, сахарный, опухоль\n",
      "\n",
      "3: дуга, яремный, постоянный, размер, исходный\n",
      "\n",
      "4: эпулис, профилактика, паста, болезнь, минеральный\n",
      "\n",
      "5: ширина, отдел, височный, дистальный, губа\n",
      "\n",
      "\n",
      "############################################################\n",
      "\n",
      "                            1995                            \n",
      "\n",
      "1: сужение, постоянный, клетка, кпу, летний\n",
      "\n",
      "2: железа, слюнный, околоушный, паротит, болезнь\n",
      "\n",
      "3: женщина, летний, профилактический, кхс, масса\n",
      "\n",
      "4: лазерный, свет, пятно, миофасциальный, стомалгия\n",
      "\n",
      "5: функция, обеспечивать, аппарат, характер, сустав\n",
      "\n",
      "\n",
      "############################################################\n",
      "\n",
      "                            1996                            \n",
      "\n",
      "1: корень, клык, мягкий, штифтовой, реагирование\n",
      "\n",
      "2: фиссура, созревание, суставный, моляр, внчс\n",
      "\n",
      "3: пломбирование, возможность, движение, амальгама, деятельность\n",
      "\n",
      "4: стадия, пятно, резистентность, кариозный, школьник\n",
      "\n",
      "5: губа, излучение, длина, обработка, остеосинтез\n",
      "\n",
      "\n",
      "############################################################\n",
      "\n",
      "                            1997                            \n",
      "\n",
      "1: пульпа, расщелина, небо, положение, острый\n",
      "\n",
      "2: сопра, кпл, обмен, реставрация, реакция\n",
      "\n",
      "3: кальций, противокариозный, лимфатический, профилактика, стадия\n",
      "\n",
      "4: точка, вода, фторид, параметр, лазерный\n",
      "\n",
      "5: напряжение, коронка, внчс, отросток, нагрузка\n",
      "\n",
      "\n",
      "############################################################\n",
      "\n",
      "                            1998                            \n",
      "\n",
      "1: летный, состав, пульпа, анестезия, кровоток\n",
      "\n",
      "2: истирание, титан, пористый, никелида, повышенный\n",
      "\n",
      "3: коронка, так, пазуха, верхнечелюстной, мембрана\n",
      "\n",
      "4: угол, челюстный, височный, высота, сустав\n",
      "\n",
      "5: работать, сплав, металлокерамический, экспериментальный, обезболивание\n",
      "\n",
      "\n",
      "############################################################\n",
      "\n",
      "                            2008                            \n",
      "\n",
      "1: врач, стоматолог, работа, медицинский, оказание\n",
      "\n",
      "2: имплантация, дентальный, отросток, моляр, верхнечелюстной\n",
      "\n",
      "3: пломба, ширина, реставрация, головка, кровоток\n",
      "\n",
      "4: концентрация, фон, высота, достоверно, десна\n",
      "\n",
      "5: канал, обработка, сплав, раствор, корнев\n",
      "\n",
      "\n",
      "############################################################\n",
      "\n",
      "                            2009                            \n",
      "\n",
      "1: врач, летний, военнослужащий, стоматолог, медицинский\n",
      "\n",
      "2: мягкий, винир, район, трансплантат, небо\n",
      "\n",
      "3: пульпа, сегмент, десна, часть, реакция\n",
      "\n",
      "4: население, заболеваемость, врач, составить, доля\n",
      "\n",
      "5: фон, десна, канал, достоверный, отсутствие\n",
      "\n",
      "\n",
      "############################################################\n",
      "\n"
     ]
    }
   ],
   "source": [
    "for year in tqdm(timeline):\n",
    "    model_artm = init_model_artm(dictionaries[year])\n",
    "    model_artm.fit_offline(batch_vectorizer=batch_vectorizers[year],\n",
    "                           num_collection_passes=num_collection_passes)\n",
    "    \n",
    "    print(f'{year:^60}\\n')\n",
    "    tokens_printer(model_artm)\n",
    "    \n",
    "    print(f'\\n{\"#\"*60}\\n')"
   ]
  },
  {
   "cell_type": "markdown",
   "id": "338aba37",
   "metadata": {},
   "source": [
    "### Подсчет тем в документах\n",
    "\n",
    "NB: пример дан для модели, построенной на текстах по последнему году, поэтому текстов всего 319"
   ]
  },
  {
   "cell_type": "code",
   "execution_count": 55,
   "id": "b2eec00e",
   "metadata": {},
   "outputs": [],
   "source": [
    "theta = model_artm.get_theta()\n",
    "TOPIC_PROBA_THRESHOLD = 0.1"
   ]
  },
  {
   "cell_type": "code",
   "execution_count": 56,
   "id": "8f7cf1ce",
   "metadata": {},
   "outputs": [],
   "source": [
    "# сортировка колонок в таблице по возрастанию\n",
    "# колонка = id документа в коллекции\n",
    "theta = theta.reindex(sorted(theta.columns), axis=1)"
   ]
  },
  {
   "cell_type": "code",
   "execution_count": 57,
   "id": "71788073",
   "metadata": {},
   "outputs": [
    {
     "data": {
      "text/plain": [
       "(5, 319)"
      ]
     },
     "execution_count": 57,
     "metadata": {},
     "output_type": "execute_result"
    }
   ],
   "source": [
    "theta.shape"
   ]
  },
  {
   "cell_type": "markdown",
   "id": "c603eeee",
   "metadata": {},
   "source": [
    "### Подсчет значений вероятностей для каждого документа\n",
    "\n",
    "Документ $\\rightarrow$ n тем"
   ]
  },
  {
   "cell_type": "code",
   "execution_count": null,
   "id": "ff3eab9d",
   "metadata": {},
   "outputs": [],
   "source": [
    "# %%time\n",
    "\n",
    "# doc_index_to_topics_dict = defaultdict(list)\n",
    "# for col in theta:\n",
    "#     above_thresh = theta[col][theta[col] > TOPIC_PROBA_THRESHOLD]\n",
    "#     topic_names = above_thresh.index.tolist()\n",
    "#     topic_probas = above_thresh.tolist()\n",
    "    \n",
    "#     for name, proba in zip(topic_names, topic_probas):\n",
    "#         doc_index_to_topics_dict[col].append((name, proba))\n",
    "        \n",
    "        \n",
    "# # doc_index_to_topics_dict[2]"
   ]
  },
  {
   "cell_type": "code",
   "execution_count": 58,
   "id": "fd808c6c",
   "metadata": {},
   "outputs": [],
   "source": [
    "sort_theta_bins = lambda bins: dict(sorted(list(bins.items()), key=lambda x: int(x[0])))\n",
    "\n",
    "def count_topics_in_collection(df_theta, min_proba=TOPIC_PROBA_THRESHOLD):\n",
    "    theta_bins = defaultdict(int)\n",
    "    for col in df_theta:\n",
    "        above_thresh = df_theta[col][df_theta[col] > min_proba]\n",
    "        topic_names = above_thresh.index.tolist()\n",
    "        for name in topic_names:\n",
    "            theta_bins[name] += 1 \n",
    "\n",
    "    theta_bins = sort_theta_bins(theta_bins)\n",
    "\n",
    "    return theta_bins"
   ]
  },
  {
   "cell_type": "code",
   "execution_count": 59,
   "id": "376b3490",
   "metadata": {},
   "outputs": [],
   "source": [
    "theta_bins = count_topics_in_collection(theta, TOPIC_PROBA_THRESHOLD)"
   ]
  },
  {
   "cell_type": "code",
   "execution_count": 61,
   "id": "f72bc2c2",
   "metadata": {},
   "outputs": [
    {
     "data": {
      "image/png": "[encoded data removed]",
      "text/plain": [
       "<Figure size 360x216 with 1 Axes>"
      ]
     },
     "metadata": {
      "needs_background": "light"
     },
     "output_type": "display_data"
    }
   ],
   "source": [
    "plot_collection_topic_distribution(theta_bins)"
   ]
  },
  {
   "cell_type": "markdown",
   "id": "facd7271",
   "metadata": {},
   "source": [
    "### Regularizers: 1\n",
    "\n",
    "[Decorrelator Phi](https://bigartm.readthedocs.io/en/stable/tutorials/regularizers_descr.html#decorrelator-phi)\n",
    "* $\\tau > 0 \\rightarrow$ токены различаются сильные в разных темах\n",
    "* $\\tau < 0 \\rightarrow$ токены в разных темах становятся более похожими друг на друга"
   ]
  },
  {
   "cell_type": "code",
   "execution_count": 68,
   "id": "d18f6e1c",
   "metadata": {},
   "outputs": [
    {
     "data": {
      "application/vnd.jupyter.widget-view+json": {
       "model_id": "9d410328610940a9818259d8803d4992",
       "version_major": 2,
       "version_minor": 0
      },
      "text/plain": [
       "  0%|          | 0/8 [00:00<?, ?it/s]"
      ]
     },
     "metadata": {},
     "output_type": "display_data"
    },
    {
     "name": "stdout",
     "output_type": "stream",
     "text": [
      "                            1993                            \n",
      "\n",
      "1: железа, передний, отросток, сиаладенит, язык\n",
      "\n",
      "2: животное, титан, удаление, свойство, профилактический\n",
      "\n",
      "3: фтор, корень, кислота, твердый, кислотный\n",
      "\n",
      "4: размер, лпу, резистентность, гнойный, ск\n",
      "\n",
      "5: раствор, оттиск, вт, орбитальный, минута\n",
      "\n",
      "\n",
      "############################################################\n",
      "\n",
      "                            1994                            \n",
      "\n",
      "1: прикус, предложить, положение, вмешательство, нагрузка\n",
      "\n",
      "2: физический, работоспособность, диабет, сахарный, опухоль\n",
      "\n",
      "3: дуга, яремный, постоянный, размер, исходный\n",
      "\n",
      "4: эпулис, профилактика, паста, болезнь, минеральный\n",
      "\n",
      "5: ширина, отдел, височный, дистальный, губа\n",
      "\n",
      "\n",
      "############################################################\n",
      "\n",
      "                            1995                            \n",
      "\n",
      "1: сужение, постоянный, клетка, кпу, летний\n",
      "\n",
      "2: железа, слюнный, околоушный, паротит, болезнь\n",
      "\n",
      "3: женщина, летний, профилактический, кхс, масса\n",
      "\n",
      "4: лазерный, свет, пятно, миофасциальный, стомалгия\n",
      "\n",
      "5: функция, обеспечивать, аппарат, характер, сустав\n",
      "\n",
      "\n",
      "############################################################\n",
      "\n",
      "                            1996                            \n",
      "\n",
      "1: корень, клык, мягкий, штифтовой, реагирование\n",
      "\n",
      "2: фиссура, созревание, суставный, моляр, внчс\n",
      "\n",
      "3: пломбирование, возможность, движение, амальгама, деятельность\n",
      "\n",
      "4: стадия, пятно, резистентность, кариозный, школьник\n",
      "\n",
      "5: губа, излучение, длина, обработка, остеосинтез\n",
      "\n",
      "\n",
      "############################################################\n",
      "\n",
      "                            1997                            \n",
      "\n",
      "1: пульпа, расщелина, небо, положение, острый\n",
      "\n",
      "2: сопра, кпл, реставрация, обмен, реакция\n",
      "\n",
      "3: кальций, противокариозный, лимфатический, профилактика, стадия\n",
      "\n",
      "4: точка, вода, фторид, параметр, лазерный\n",
      "\n",
      "5: напряжение, коронка, внчс, отросток, нагрузка\n",
      "\n",
      "\n",
      "############################################################\n",
      "\n",
      "                            1998                            \n",
      "\n",
      "1: летный, состав, пульпа, анестезия, кровоток\n",
      "\n",
      "2: истирание, титан, пористый, никелида, повышенный\n",
      "\n",
      "3: коронка, так, пазуха, верхнечелюстной, мембрана\n",
      "\n",
      "4: угол, челюстный, височный, высота, сустав\n",
      "\n",
      "5: работать, металлокерамический, сплав, экспериментальный, обезболивание\n",
      "\n",
      "\n",
      "############################################################\n",
      "\n",
      "                            2008                            \n",
      "\n",
      "1: врач, стоматолог, работа, медицинский, оказание\n",
      "\n",
      "2: имплантация, дентальный, отросток, моляр, верхнечелюстной\n",
      "\n",
      "3: пломба, ширина, реставрация, головка, кровоток\n",
      "\n",
      "4: концентрация, фон, высота, достоверно, десна\n",
      "\n",
      "5: канал, обработка, сплав, раствор, корнев\n",
      "\n",
      "\n",
      "############################################################\n",
      "\n",
      "                            2009                            \n",
      "\n",
      "1: врач, летний, военнослужащий, стоматолог, медицинский\n",
      "\n",
      "2: мягкий, винир, район, трансплантат, небо\n",
      "\n",
      "3: пульпа, сегмент, десна, часть, реакция\n",
      "\n",
      "4: население, заболеваемость, врач, составить, доля\n",
      "\n",
      "5: фон, десна, канал, достоверный, отсутствие\n",
      "\n",
      "\n",
      "############################################################\n",
      "\n"
     ]
    }
   ],
   "source": [
    "for year in tqdm(timeline):\n",
    "    model_artm = init_model_artm(dictionaries[year])\n",
    "    model_artm.regularizers.add(artm.DecorrelatorPhiRegularizer(name='DecorrPhi', tau=+1e3))\n",
    "    model_artm.fit_offline(batch_vectorizer=batch_vectorizers[year],\n",
    "                           num_collection_passes=num_collection_passes)\n",
    "    \n",
    "    print(f'{year:^60}\\n')\n",
    "    tokens_printer(model_artm)\n",
    "    \n",
    "    print(f'\\n{\"#\"*60}\\n')"
   ]
  },
  {
   "cell_type": "code",
   "execution_count": 69,
   "id": "6ba4ed68",
   "metadata": {},
   "outputs": [],
   "source": [
    "# %%time\n",
    "# model_artm = init_model_artm()\n",
    "# model_artm.regularizers.add(artm.DecorrelatorPhiRegularizer(name='DecorrPhi', tau=+1e3))\n",
    "# model_artm.fit_offline(batch_vectorizer=batch_vectorizer,\n",
    "#                       num_collection_passes=num_collection_passes)\n",
    "# tokens_printer(model_artm)\n",
    "# show_matrices_sparsity(model_artm)"
   ]
  },
  {
   "cell_type": "code",
   "execution_count": 70,
   "id": "69ed334b",
   "metadata": {},
   "outputs": [],
   "source": [
    "# theta_0 = model_artm.get_theta()\n",
    "# theta_bins_0 = count_topics_in_collection(theta_0, TOPIC_PROBA_THRESHOLD)\n",
    "# plot_collection_topic_distribution(theta_bins_0)"
   ]
  },
  {
   "cell_type": "markdown",
   "id": "9e94704b",
   "metadata": {},
   "source": [
    "### Regularizers: 2\n",
    "[SmoothSparsePhiRegularizer](http://docs.bigartm.org/en/stable/tutorials/regularizers_descr.html#decorrelator-phi)\n",
    "* $\\tau > 0 \\rightarrow$ сглаживает матрицу $\\Phi$\n",
    "* $\\tau < 0 \\rightarrow$ разрежает матрицу $\\Phi$"
   ]
  },
  {
   "cell_type": "markdown",
   "id": "2ba3aed3",
   "metadata": {},
   "source": [
    "* можно задавать `tau` без `dictionary` - тогда регуляризация для каждого слова в словаре будет одинаковой (разумные значения -2.5, -5)\n",
    "* если задан `tau (<0) & dictionary` - чем более вероятно слово во всей коллекции (чем большую частоту оно имеет), тем менее вероятно оно будет входить в отдельные темы\n",
    "* для применения регуляризатора к отдельным модальностям\n",
    "```python\n",
    "class_ids=['text']\n",
    "```"
   ]
  },
  {
   "cell_type": "code",
   "execution_count": 76,
   "id": "6cf7ef22",
   "metadata": {},
   "outputs": [
    {
     "data": {
      "application/vnd.jupyter.widget-view+json": {
       "model_id": "b90aa069c43d4c18bd0f3f46df7e02a0",
       "version_major": 2,
       "version_minor": 0
      },
      "text/plain": [
       "  0%|          | 0/8 [00:00<?, ?it/s]"
      ]
     },
     "metadata": {},
     "output_type": "display_data"
    },
    {
     "name": "stdout",
     "output_type": "stream",
     "text": [
      "                            1993                            \n",
      "\n",
      "1: железа, отросток, передний, это, время\n",
      "\n",
      "2: титан, удаление, трансплантат, имплантация, свойство\n",
      "\n",
      "3: корень, твердый, кариозный, травма, фтор\n",
      "\n",
      "4: концентрация, гнойный, резистентность, возникновение, размер\n",
      "\n",
      "5: раствор, оттиск, вт, минута, ран\n",
      "\n",
      "\n",
      "############################################################\n",
      "\n",
      "                            1994                            \n",
      "\n",
      "1: прикус, нагрузка, положение, мка, воспаление\n",
      "\n",
      "3: постоянный, дуга, коронка, мышечный, исходный\n",
      "\n",
      "4: влияние, профилактика, взрослый, наблюдаться, основный\n",
      "\n",
      "5: обеспечивать, физический, дистальный, первый, ширина\n",
      "\n",
      "\n",
      "############################################################\n",
      "\n",
      "                            1995                            \n",
      "\n",
      "1: прикус, среди, положение, обследовать, твердый\n",
      "\n",
      "2: железа, слюнный, болезнь, околоушный, часть\n",
      "\n",
      "3: женщина, летний, профилактический, постоянный, проявление\n",
      "\n",
      "4: лазерный, частота, реакция, воспаление, повреждение\n",
      "\n",
      "5: функция, обеспечивать, патологический, характер, аппарат\n",
      "\n",
      "\n",
      "############################################################\n",
      "\n",
      "                            1996                            \n",
      "\n",
      "1: центральный, корень, лоскут, клык, соотношение\n",
      "\n",
      "2: фиссура, созревание, моляр, начальный, прорезывание\n",
      "\n",
      "3: возможность, пломбирование, тяжелый, достоверный, десна\n",
      "\n",
      "4: стадия, кариозный, летний, резистентность, пятно\n",
      "\n",
      "5: прикус, губа, остеосинтез, фиксация, длина\n",
      "\n",
      "\n",
      "############################################################\n",
      "\n",
      "                            1997                            \n",
      "\n",
      "1: пульпа, день, небо, положение, функция\n",
      "\n",
      "2: сопра, кпл, пластмасса, свойство, сплав\n",
      "\n",
      "3: постоянный, кальций, стадия, так, твердый\n",
      "\n",
      "4: сторона, связь, точка, параметр, шея\n",
      "\n",
      "5: отросток, напряжение, коронка, внчс, сочетание\n",
      "\n",
      "\n",
      "############################################################\n",
      "\n",
      "                            1998                            \n",
      "\n",
      "1: пульпа, состав, летный, ложа, протезный\n",
      "\n",
      "2: истирание, железа, пористый, диабет, слюнный\n",
      "\n",
      "3: получить, так, воспаление, мероприятие, отмечаться\n",
      "\n",
      "4: угол, челюстный, сустав, височный, высота\n",
      "\n",
      "5: коронка, сплав, контрольный, каркас, мембрана\n",
      "\n",
      "\n",
      "############################################################\n",
      "\n",
      "                            2008                            \n",
      "\n",
      "1: врач, стоматолог, работа, среднее, медицинский\n",
      "\n",
      "2: имплантация, моляр, отросток, генерализовать, часть\n",
      "\n",
      "3: положение, пломба, твердый, получить, ширина\n",
      "\n",
      "4: концентрация, высота, достоверно, наблюдаться, влияние\n",
      "\n",
      "5: канал, обработка, сплав, раствор, корнев\n",
      "\n",
      "\n",
      "############################################################\n",
      "\n",
      "                            2009                            \n",
      "\n",
      "1: врач, стоматолог, среди, положение, болевой\n",
      "\n",
      "2: мягкий, пульпа, напряжение, небо, прочность\n",
      "\n",
      "3: покрытие, медицинский, твердый, услуга, руб\n",
      "\n",
      "4: достоверно, влияние, население, зависимость, традиционный\n",
      "\n",
      "5: фон, десна, рана, канал, генерализовать\n",
      "\n",
      "\n",
      "############################################################\n",
      "\n"
     ]
    }
   ],
   "source": [
    "for year in tqdm(timeline):\n",
    "    model_artm = init_model_artm(dictionaries[year])\n",
    "    model_artm.regularizers.add(artm.DecorrelatorPhiRegularizer(name='DecorrPhi', tau=+1e3))\n",
    "    model_artm.regularizers.add(artm.SmoothSparsePhiRegularizer(name='SparsePhi', tau=-1e3,\n",
    "                                                                dictionary=dictionary))\n",
    "    model_artm.fit_offline(batch_vectorizer=batch_vectorizers[year],\n",
    "                           num_collection_passes=num_collection_passes)\n",
    "    \n",
    "    print(f'{year:^60}\\n')\n",
    "    tokens_printer(model_artm)\n",
    "    \n",
    "    print(f'\\n{\"#\"*60}\\n')"
   ]
  },
  {
   "cell_type": "code",
   "execution_count": 72,
   "id": "25f51176",
   "metadata": {},
   "outputs": [],
   "source": [
    "# model_artm = init_model_artm()\n",
    "# model_artm.regularizers.add(artm.SmoothSparsePhiRegularizer(name='SparsePhi', tau=-1e4, dictionary=dictionary))\n",
    "# # tau = -1e5: слово будет домножаться на его частоту во всей коллекции\n",
    "# # dictionary: str or reference to Dictionary object"
   ]
  },
  {
   "cell_type": "code",
   "execution_count": 73,
   "id": "4dd5e0e2",
   "metadata": {},
   "outputs": [],
   "source": [
    "# %%time\n",
    "# model_artm.fit_offline(batch_vectorizer=batch_vectorizer,\n",
    "#                       num_collection_passes=num_collection_passes)\n",
    "\n",
    "# tokens_printer(model_artm)\n",
    "\n",
    "# show_matrices_sparsity(model_artm)"
   ]
  },
  {
   "cell_type": "markdown",
   "id": "1cc566ba",
   "metadata": {},
   "source": [
    "### Regularizers: 3\n",
    "\n",
    "[SmoothThetaRegularizer](http://docs.bigartm.org/en/stable/tutorials/regularizers_descr.html#smooth-sparse-theta)\n",
    "\n",
    "* $\\tau > 0 \\rightarrow$ сглаживает матрицу $\\Theta$\n",
    "* $\\tau < 0 \\rightarrow$ разрежает матрицу $\\Theta$"
   ]
  },
  {
   "cell_type": "code",
   "execution_count": 79,
   "id": "8d46723a",
   "metadata": {},
   "outputs": [
    {
     "data": {
      "application/vnd.jupyter.widget-view+json": {
       "model_id": "e3d59211667547ef868473332d55c277",
       "version_major": 2,
       "version_minor": 0
      },
      "text/plain": [
       "  0%|          | 0/8 [00:00<?, ?it/s]"
      ]
     },
     "metadata": {},
     "output_type": "display_data"
    },
    {
     "name": "stdout",
     "output_type": "stream",
     "text": [
      "                            1993                            \n",
      "\n",
      "1: железа, отросток, оттиск, передний, это\n",
      "\n",
      "2: раствор, титан, удаление, трансплантат, имплантация\n",
      "\n",
      "3: корень, твердый, кариозный, вт, скорость\n",
      "\n",
      "4: концентрация, диагностика, гнойный, резистентность, реакция\n",
      "\n",
      "\n",
      "############################################################\n",
      "\n",
      "                            1994                            \n",
      "\n",
      "1: прикус, нагрузка, положение, воспаление, челюстный\n",
      "\n",
      "5: предложить, постоянный, новый, состав, обеспечивать\n",
      "\n",
      "\n",
      "############################################################\n",
      "\n",
      "                            1995                            \n",
      "\n",
      "1: женщина, прикус, летний, среди, обследовать\n",
      "\n",
      "2: железа, слюнный, тяжелый, околоушный, болезнь\n",
      "\n",
      "4: лазерный, профилактический, наблюдаться, частота, реакция\n",
      "\n",
      "5: функция, патологический, обеспечивать, постоянный, характер\n",
      "\n",
      "\n",
      "############################################################\n",
      "\n",
      "                            1996                            \n",
      "\n",
      "2: фиссура, созревание, обеспечивать, суставный, мероприятие\n",
      "\n",
      "4: губа, кариозный, стадия, использовать, резистентность\n",
      "\n",
      "\n",
      "############################################################\n",
      "\n",
      "                            1997                            \n",
      "\n",
      "1: пульпа, день, небо, сопра, твердый\n",
      "\n",
      "3: постоянный, фторид, так, сплав, свойство\n",
      "\n",
      "5: отросток, напряжение, коронка, внчс, сочетание\n",
      "\n",
      "\n",
      "############################################################\n",
      "\n",
      "                            1998                            \n",
      "\n",
      "3: так, коронка, сплав, получить, воспаление\n",
      "\n",
      "4: угол, челюстный, организм, сустав, первый\n",
      "\n",
      "\n",
      "############################################################\n",
      "\n",
      "                            2008                            \n",
      "\n",
      "1: врач, стоматолог, среднее, работа, моляр\n",
      "\n",
      "3: сплав, пломба, положение, имплантация, дентин\n",
      "\n",
      "4: концентрация, фон, традиционный, высота, частота\n",
      "\n",
      "\n",
      "############################################################\n",
      "\n",
      "                            2009                            \n",
      "\n",
      "1: болевой, смещение, резец, сегмент, моляр\n",
      "\n",
      "3: пульпа, десна, наблюдаться, покрытие, твердый\n",
      "\n",
      "4: население, достоверно, стоматолог, выше, составить\n",
      "\n",
      "5: фон, особенность, среднее, достоверный, десна\n",
      "\n",
      "\n",
      "############################################################\n",
      "\n"
     ]
    }
   ],
   "source": [
    "for year in tqdm(timeline):\n",
    "    model_artm = init_model_artm(dictionaries[year])\n",
    "    model_artm.regularizers.add(artm.DecorrelatorPhiRegularizer(name='DecorrPhi', tau=+1e3))\n",
    "    model_artm.regularizers.add(artm.SmoothSparsePhiRegularizer(name='SparsePhi', tau=-1e3,   \n",
    "                                                                dictionary=dictionary))\n",
    "    model_artm.regularizers.add(artm.SmoothSparseThetaRegularizer(name='SparseTheta', tau=-1))\n",
    "    model_artm.fit_offline(batch_vectorizer=batch_vectorizers[year],\n",
    "                           num_collection_passes=num_collection_passes)\n",
    "    \n",
    "    print(f'{year:^60}\\n')\n",
    "    tokens_printer(model_artm)\n",
    "    \n",
    "    print(f'\\n{\"#\"*60}\\n')"
   ]
  },
  {
   "cell_type": "markdown",
   "id": "187dabe7",
   "metadata": {},
   "source": [
    "Видно, что даже небольшое значение для регуляризатора [SmoothThetaRegularizer](http://docs.bigartm.org/en/stable/tutorials/regularizers_descr.html#smooth-sparse-theta) приводит к удалению некоторых тем"
   ]
  },
  {
   "cell_type": "code",
   "execution_count": 75,
   "id": "b4df59ad",
   "metadata": {},
   "outputs": [],
   "source": [
    "# model_artm = init_model_artm()\n",
    "# model_artm.regularizers.add(artm.SmoothSparseThetaRegularizer(name='SparseTheta', tau=-100))\n",
    "# model_artm.fit_offline(batch_vectorizer=batch_vectorizer,\n",
    "#                       num_collection_passes=num_collection_passes)\n",
    "# tokens_printer(model_artm)\n",
    "# show_matrices_sparsity(model_artm)"
   ]
  },
  {
   "cell_type": "markdown",
   "id": "ab766e55",
   "metadata": {},
   "source": [
    "### Regularizers: 4\n",
    "[TopicSelectionThetaRegularizer](http://docs.bigartm.org/en/stable/tutorials/regularizers_descr.html#topic-selection-theta)\n",
    "\n",
    "Читать(p.13) - ARTM_examples/4-1.Tematicheskoe_modelirovanie-_1.pdf"
   ]
  },
  {
   "cell_type": "code",
   "execution_count": null,
   "id": "5fd658ef",
   "metadata": {},
   "outputs": [],
   "source": [
    "# model_artm.regularizers.add(artm.TopicSelectionThetaRegularizer(name='TopicSelectionTheta', tau=1))\n",
    "# model_artm.regularizers['TopicSelectionTheta'].tau = 1"
   ]
  },
  {
   "cell_type": "code",
   "execution_count": null,
   "id": "e9bc24e5",
   "metadata": {},
   "outputs": [],
   "source": [
    "# model_artm.fit_offline(batch_vectorizer=batch_vectorizer,\n",
    "#                       num_collection_passes=num_collection_passes)"
   ]
  },
  {
   "cell_type": "code",
   "execution_count": null,
   "id": "6992511c",
   "metadata": {},
   "outputs": [],
   "source": [
    "# tokens_printer(model_artm)"
   ]
  },
  {
   "cell_type": "code",
   "execution_count": null,
   "id": "cb43180f",
   "metadata": {},
   "outputs": [],
   "source": [
    "# show_matrices_sparsity(model_artm)"
   ]
  }
 ],
 "metadata": {
  "kernelspec": {
   "display_name": "Python 3",
   "language": "python",
   "name": "python3"
  },
  "language_info": {
   "codemirror_mode": {
    "name": "ipython",
    "version": 3
   },
   "file_extension": ".py",
   "mimetype": "text/x-python",
   "name": "python",
   "nbconvert_exporter": "python",
   "pygments_lexer": "ipython3",
   "version": "3.8.13"
  }
 },
 "nbformat": 4,
 "nbformat_minor": 5
}
