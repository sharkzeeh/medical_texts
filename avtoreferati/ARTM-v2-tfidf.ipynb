{
 "cells": [
  {
   "cell_type": "markdown",
   "id": "1f5c601d-8857-42ac-a3ea-6659cccb564d",
   "metadata": {},
   "source": [
    "* как соотносятся темы с пунктом специальности\n",
    "\n",
    "паспорт специальности ВАК стоматология\n",
    "\n",
    "* посчитать количество документов для каждой темы"
   ]
  },
  {
   "cell_type": "code",
   "execution_count": 81,
   "id": "a69f88ae-4d13-4115-9866-d00145dbdae1",
   "metadata": {},
   "outputs": [],
   "source": [
    "%config Completer.use_jedi = False"
   ]
  },
  {
   "cell_type": "code",
   "execution_count": 82,
   "id": "5431e1df-e341-4b63-bb5f-847c174df56b",
   "metadata": {},
   "outputs": [],
   "source": [
    "import warnings\n",
    "warnings.filterwarnings('ignore')"
   ]
  },
  {
   "cell_type": "code",
   "execution_count": 83,
   "id": "04cf53d3-2578-40d5-b538-9dc4425322a8",
   "metadata": {},
   "outputs": [],
   "source": [
    "import pandas as pd\n",
    "from tqdm.notebook import tqdm\n",
    "import re\n",
    "from typing import List\n",
    "import os\n",
    "import matplotlib.pyplot as plt\n",
    "import numpy as np"
   ]
  },
  {
   "cell_type": "code",
   "execution_count": 84,
   "id": "786b5c41-3262-4a0b-ab88-29483ce7ce0b",
   "metadata": {},
   "outputs": [],
   "source": [
    "import os\n",
    "import functools"
   ]
  },
  {
   "cell_type": "code",
   "execution_count": 160,
   "id": "5577a68f-d927-4b41-9559-a2e2efa7afa1",
   "metadata": {},
   "outputs": [
    {
     "name": "stdout",
     "output_type": "stream",
     "text": [
      "CPU times: user 3.64 s, sys: 0 ns, total: 3.64 s\n",
      "Wall time: 3.5 s\n"
     ]
    }
   ],
   "source": [
    "%%time\n",
    "df = pd.read_excel('../data/avtoreferati.xlsx', sheet_name='Итог', header=0)"
   ]
  },
  {
   "cell_type": "code",
   "execution_count": 163,
   "id": "53776db6-d778-49e5-930f-504c53c7f5dc",
   "metadata": {},
   "outputs": [
    {
     "data": {
      "text/plain": [
       "0         2.5\n",
       "1           3\n",
       "2       3,4,5\n",
       "3           3\n",
       "4         3.4\n",
       "        ...  \n",
       "5793      NaN\n",
       "5794      NaN\n",
       "5795      NaN\n",
       "5796      NaN\n",
       "5797      NaN\n",
       "Name: Пункты паспорта специальности (области исследования) 1-ой специальности, Length: 5798, dtype: object"
      ]
     },
     "execution_count": 163,
     "metadata": {},
     "output_type": "execute_result"
    }
   ],
   "source": [
    "df['Пункты паспорта специальности (области исследования) 1-ой специальности']"
   ]
  },
  {
   "cell_type": "code",
   "execution_count": 86,
   "id": "3d488298-3e00-4d5b-8c11-c38ffe174758",
   "metadata": {},
   "outputs": [],
   "source": [
    "tasks_aux = {k: f't{k}' for k in range(1, 14)}\n",
    "# 1: 't1', 2: 't2', 3: 't3', 4: 't4', 5: 't5', 6: 't6', 7: 't7', 8: 't8', 9: 't9', 10: 't10', 11: 't11', 12: 't12', 13: 't13'\n",
    "res_aux = {f'{k}.1' : f'r{k}' for k in range(1, 14)}\n",
    "res_aux\n",
    "\n",
    "res_aux.update({k: f'r{k}' for k in range(14, 21)})"
   ]
  },
  {
   "cell_type": "code",
   "execution_count": 87,
   "id": "91e47d13-c049-4311-9f2f-c63c1dd523e2",
   "metadata": {},
   "outputs": [],
   "source": [
    "df.rename(\n",
    "    columns={'Годзащиты': 'year', 'Unnamed: 29': 'title', \n",
    "            **tasks_aux,\n",
    "            **res_aux,}, \n",
    "    inplace=True\n",
    ")"
   ]
  },
  {
   "cell_type": "code",
   "execution_count": 88,
   "id": "cff81eb6-fd78-4b2f-a77c-ccb8e82b3267",
   "metadata": {},
   "outputs": [],
   "source": [
    "df = df[['year', *list(res_aux.values())]]"
   ]
  },
  {
   "cell_type": "code",
   "execution_count": 89,
   "id": "f7a90efd-9af7-4a77-9c93-29f176149d5c",
   "metadata": {},
   "outputs": [],
   "source": [
    "df = df.dropna()"
   ]
  },
  {
   "cell_type": "code",
   "execution_count": 90,
   "id": "e4b89ff8-12b2-42da-8f13-6b46ea1bcf4c",
   "metadata": {},
   "outputs": [],
   "source": [
    "df['year'] = df.year.astype(int)"
   ]
  },
  {
   "cell_type": "code",
   "execution_count": 91,
   "id": "26a102e3-f56d-42ff-8afd-125e3bab94e1",
   "metadata": {},
   "outputs": [
    {
     "data": {
      "text/plain": [
       "(1263, 21)"
      ]
     },
     "execution_count": 91,
     "metadata": {},
     "output_type": "execute_result"
    }
   ],
   "source": [
    "df.shape"
   ]
  },
  {
   "cell_type": "markdown",
   "id": "a3dd4d00-52bd-43a1-9c78-6a9419f8b380",
   "metadata": {},
   "source": [
    "### рассматриваем только результаты (без задач)"
   ]
  },
  {
   "cell_type": "code",
   "execution_count": 92,
   "id": "524efe1c-ee35-4e00-90b0-b7a89c487412",
   "metadata": {},
   "outputs": [],
   "source": [
    "df['text'] = df.apply(lambda row: \n",
    "                        row['r1'] + '. ' + row['r2'] + '. ' + row['r3'] + '. ' + \\\n",
    "                        row['r4'] + '. ' + row['r5'] + '. ' + row['r6'] + '. ' + \\\n",
    "                        row['r7'] + '. ' + row['r8'] + '. ' + row['r9'] + '. ' + \\\n",
    "                        row['r10'] + '. ' + row['r11'] + '. ' + row['r12'] + '. ' + \\\n",
    "                        row['r13'] + '. ' + row['r14'] + '. ' + row['r15'] + '. ' + \\\n",
    "                        row['r16'] + '. ' + row['r17'] + '. ' + row['r18'] + '. ' + \\\n",
    "                        row['r19'] + '. ' + row['r20'],\n",
    "                        axis=1)"
   ]
  },
  {
   "cell_type": "markdown",
   "id": "b53ae143-ccbe-4c22-8295-289eb9b3faef",
   "metadata": {},
   "source": [
    "### Preprocessing"
   ]
  },
  {
   "cell_type": "code",
   "execution_count": 93,
   "id": "7ec105ae-2eb3-4f16-8207-1cab5feabbf3",
   "metadata": {},
   "outputs": [
    {
     "name": "stderr",
     "output_type": "stream",
     "text": [
      "[nltk_data] Downloading package stopwords to /home/uadmin/nltk_data...\n",
      "[nltk_data]   Package stopwords is already up-to-date!\n"
     ]
    }
   ],
   "source": [
    "import pymorphy2\n",
    "import os\n",
    "from typing import List\n",
    "import razdel\n",
    "\n",
    "import nltk\n",
    "nltk.download(\"stopwords\")\n",
    "stopwords = nltk.corpus.stopwords.words('russian')\n",
    "\n",
    "cyrillic = re.compile(r'[^а-я ]')\n",
    "mult_ws = re.compile(r'\\s+')\n",
    "fix_punct = re.compile(r'\\s+(\\?|\\.|,|!|:)')\n",
    "\n",
    "morph = pymorphy2.MorphAnalyzer()"
   ]
  },
  {
   "cell_type": "code",
   "execution_count": 94,
   "id": "d06b8b22-892d-404a-845b-9e905811db6c",
   "metadata": {},
   "outputs": [],
   "source": [
    "def process_regex(re_words_to_remove,\n",
    "                  re_mult_ws,\n",
    "                  text: str) -> str:\n",
    "    '''\n",
    "    строковый предпроцессинг предложения\n",
    "    '''\n",
    "    text = text.lower()\n",
    "    text = re.sub(re_words_to_remove, ' ', text)\n",
    "    text = re.sub(re_mult_ws, ' ', text)\n",
    "    text = text.strip()\n",
    "    return text"
   ]
  },
  {
   "cell_type": "code",
   "execution_count": 95,
   "id": "37ce18eb-1dfd-4efc-a90f-417868718cc1",
   "metadata": {},
   "outputs": [],
   "source": [
    "def lemmatize(text: str, lemmatizer, min_word_size: int = 5) -> List[str]:\n",
    "    words = [token.text for token in razdel.tokenize(text)]\n",
    "    res = []\n",
    "    for word in words:\n",
    "        if word not in stopwords:# and len(word) > 1:\n",
    "            p = lemmatizer.parse(word)[0]\n",
    "            word_normal_form = p.normal_form\n",
    "            if len(word_normal_form) < min_word_size:\n",
    "                continue\n",
    "            res.append(word_normal_form.replace('ё', 'е'))\n",
    "    return res"
   ]
  },
  {
   "cell_type": "code",
   "execution_count": 96,
   "id": "fb45a7b6-b17c-4287-b7b6-4006bb664884",
   "metadata": {},
   "outputs": [],
   "source": [
    "def process_doc(doc: List[str], lemmatizer, min_word_size=3, min_sent_size=10) -> List[str]:\n",
    "    proc_doc = []\n",
    "    if not isinstance(doc, list):\n",
    "        doc = [doc]\n",
    "    for sent in doc:\n",
    "        proc_sent = process_regex(\n",
    "            cyrillic,\n",
    "            mult_ws,\n",
    "            text=sent\n",
    "        )\n",
    "        proc_sent_tokens = lemmatize(proc_sent, lemmatizer, min_word_size)\n",
    "        # порог по длине предложения\n",
    "        if len(proc_sent_tokens) < min_sent_size:\n",
    "            continue\n",
    "        proc_sent = ' '.join(proc_sent_tokens)\n",
    "        proc_doc.append(proc_sent)\n",
    "    return proc_doc"
   ]
  },
  {
   "cell_type": "code",
   "execution_count": 97,
   "id": "baaa6861-4fbd-4a3a-8b8a-b08c3039fdbe",
   "metadata": {},
   "outputs": [],
   "source": [
    "def sentenize_doc(doc: str) -> List[str]:\n",
    "    return [sent.text for sent in razdel.sentenize(doc) if sent.text]"
   ]
  },
  {
   "cell_type": "code",
   "execution_count": 98,
   "id": "72721cac-a3f8-40c0-b92c-39c4396ec894",
   "metadata": {},
   "outputs": [],
   "source": [
    "df['text_sent'] = df.text.apply(lambda row: sentenize_doc(row))"
   ]
  },
  {
   "cell_type": "code",
   "execution_count": 99,
   "id": "a48eb897-11bb-4997-a47e-ad087fef3693",
   "metadata": {},
   "outputs": [
    {
     "name": "stdout",
     "output_type": "stream",
     "text": [
      "CPU times: user 40.1 s, sys: 601 ms, total: 40.7 s\n",
      "Wall time: 38.4 s\n"
     ]
    }
   ],
   "source": [
    "%%time\n",
    "df['text_sent_proc'] = df.text_sent.apply(\n",
    "    lambda row: process_doc(\n",
    "                            row,\n",
    "                            lemmatizer=morph,\n",
    "                            min_word_size=2,\n",
    "                            min_sent_size=5\n",
    "    )\n",
    ")"
   ]
  },
  {
   "cell_type": "code",
   "execution_count": 100,
   "id": "b06607eb-21ce-4355-a7af-2ac3c0762af7",
   "metadata": {},
   "outputs": [
    {
     "name": "stdout",
     "output_type": "stream",
     "text": [
      "CPU times: user 2.26 ms, sys: 138 µs, total: 2.39 ms\n",
      "Wall time: 2.06 ms\n"
     ]
    }
   ],
   "source": [
    "%%time\n",
    "df['text_clean'] = df.text_sent_proc.apply(lambda row:\n",
    "                                           ' '.join(row)\n",
    "                                          )"
   ]
  },
  {
   "cell_type": "code",
   "execution_count": 101,
   "id": "d6aa8209-91e2-48b9-9823-a453ce283e91",
   "metadata": {},
   "outputs": [
    {
     "name": "stdout",
     "output_type": "stream",
     "text": [
      "\n"
     ]
    }
   ],
   "source": [
    "for row in df['text_clean']:\n",
    "    if not row:\n",
    "        print(row)"
   ]
  },
  {
   "cell_type": "code",
   "execution_count": 102,
   "id": "bb6d4d27-bcb1-4982-bcb4-2334e2967ab7",
   "metadata": {},
   "outputs": [],
   "source": [
    "texts = df.text_clean.tolist()"
   ]
  },
  {
   "cell_type": "code",
   "execution_count": 103,
   "id": "5bb7fdd5-80f5-45c7-b1f6-877a1cfa843a",
   "metadata": {},
   "outputs": [],
   "source": [
    "with open('texts.txt', 'w') as fh:\n",
    "    fh.writelines([f'{text}\\n' for text in texts])"
   ]
  },
  {
   "cell_type": "code",
   "execution_count": 104,
   "id": "61862907-0d67-4e08-b39a-5d7bca8b1e30",
   "metadata": {},
   "outputs": [],
   "source": [
    "with open('texts.txt', 'r') as fh:\n",
    "    texts = fh.readlines()"
   ]
  },
  {
   "cell_type": "code",
   "execution_count": 105,
   "id": "2f0c5cab-901c-4970-82aa-a2a90667f802",
   "metadata": {},
   "outputs": [],
   "source": [
    "def convert_texts_to_tokens(texts):\n",
    "    return [text.split() for text in texts]"
   ]
  },
  {
   "cell_type": "code",
   "execution_count": 106,
   "id": "242abee7-ee04-44d1-8883-2d22c73a74c7",
   "metadata": {},
   "outputs": [],
   "source": [
    "tokens = convert_texts_to_tokens(texts)"
   ]
  },
  {
   "cell_type": "markdown",
   "id": "d893a810-536a-41d0-99f9-925c4da6c4f1",
   "metadata": {},
   "source": [
    "#### Размер словаря"
   ]
  },
  {
   "cell_type": "code",
   "execution_count": 107,
   "id": "021e2f60-e08c-421f-96ea-08e6ff4dbc0f",
   "metadata": {},
   "outputs": [
    {
     "data": {
      "text/plain": [
       "15008"
      ]
     },
     "execution_count": 107,
     "metadata": {},
     "output_type": "execute_result"
    }
   ],
   "source": [
    "vocab_source = set()\n",
    "for row in tokens:\n",
    "    for token in row:\n",
    "        if token not in vocab_source:\n",
    "            vocab_source.add(token)\n",
    "len(vocab_source)"
   ]
  },
  {
   "cell_type": "markdown",
   "id": "d5451afe-2824-43e1-a82e-fb0538244bd9",
   "metadata": {},
   "source": [
    "### TF IDF"
   ]
  },
  {
   "cell_type": "markdown",
   "id": "d7144271-c1b9-4c31-a9a2-2a3bbe964a82",
   "metadata": {},
   "source": [
    "https://stackoverflow.com/questions/27697766/understanding-min-df-and-max-df-in-scikit-countvectorizer"
   ]
  },
  {
   "cell_type": "code",
   "execution_count": 108,
   "id": "7bf6d86a-8304-4691-93bf-58785a0d9f41",
   "metadata": {},
   "outputs": [],
   "source": [
    "from sklearn.feature_extraction.text import TfidfVectorizer\n",
    "\n",
    "tfidf = TfidfVectorizer(ngram_range=(1, 1),\n",
    "                        lowercase=True,\n",
    "                        max_df=0.2,\n",
    "                        analyzer='word')"
   ]
  },
  {
   "cell_type": "code",
   "execution_count": 109,
   "id": "2b511eb8-a5db-4433-b22b-4e280e52688f",
   "metadata": {},
   "outputs": [],
   "source": [
    "tfidf_matrix = tfidf.fit_transform(texts)"
   ]
  },
  {
   "cell_type": "code",
   "execution_count": 110,
   "id": "b7005782-441a-4c9c-8d71-bea5224677a5",
   "metadata": {},
   "outputs": [],
   "source": [
    "features = tfidf.get_feature_names()"
   ]
  },
  {
   "cell_type": "code",
   "execution_count": 111,
   "id": "aa3d776a-a080-47a7-9c7d-ea26cd9ac670",
   "metadata": {},
   "outputs": [],
   "source": [
    "df_tfidf = pd.DataFrame(tfidf_matrix.toarray(), columns = features)"
   ]
  },
  {
   "cell_type": "code",
   "execution_count": 112,
   "id": "256263bf-e213-47ec-8a20-5b6665cab029",
   "metadata": {},
   "outputs": [],
   "source": [
    "df_tfidf_sum = df_tfidf.sum(axis=0)\n",
    "res = pd.DataFrame({'Vocab': df_tfidf_sum.index, 'Frequency': df_tfidf_sum.values})\\\n",
    "    .sort_values(by='Frequency', ascending=False)"
   ]
  },
  {
   "cell_type": "code",
   "execution_count": 113,
   "id": "e2f4e585-193c-4d7d-9046-a1cc3569ad9a",
   "metadata": {},
   "outputs": [
    {
     "data": {
      "text/html": [
       "<div>\n",
       "<style scoped>\n",
       "    .dataframe tbody tr th:only-of-type {\n",
       "        vertical-align: middle;\n",
       "    }\n",
       "\n",
       "    .dataframe tbody tr th {\n",
       "        vertical-align: top;\n",
       "    }\n",
       "\n",
       "    .dataframe thead th {\n",
       "        text-align: right;\n",
       "    }\n",
       "</style>\n",
       "<table border=\"1\" class=\"dataframe\">\n",
       "  <thead>\n",
       "    <tr style=\"text-align: right;\">\n",
       "      <th></th>\n",
       "      <th>Vocab</th>\n",
       "      <th>Frequency</th>\n",
       "    </tr>\n",
       "  </thead>\n",
       "  <tbody>\n",
       "  </tbody>\n",
       "</table>\n",
       "</div>"
      ],
      "text/plain": [
       "Empty DataFrame\n",
       "Columns: [Vocab, Frequency]\n",
       "Index: []"
      ]
     },
     "execution_count": 113,
     "metadata": {},
     "output_type": "execute_result"
    }
   ],
   "source": [
    "res[res.Vocab == 'зуб']"
   ]
  },
  {
   "cell_type": "code",
   "execution_count": 114,
   "id": "d3c3b22a-2fb5-4dcf-8e2b-aadd18c12dfb",
   "metadata": {},
   "outputs": [],
   "source": [
    "TFIDF_SUM_THRESH = 10.0"
   ]
  },
  {
   "cell_type": "code",
   "execution_count": 115,
   "id": "3aecf69f-ff55-4cb6-ae1b-514fb4258f58",
   "metadata": {},
   "outputs": [],
   "source": [
    "vocab_filtered = res.Vocab[res.Frequency < TFIDF_SUM_THRESH].values.tolist()"
   ]
  },
  {
   "cell_type": "code",
   "execution_count": 164,
   "id": "96607066-7a13-4165-b4fd-2a8a2947ec85",
   "metadata": {},
   "outputs": [],
   "source": [
    "# res.Vocab[res.Frequency >= TFIDF_SUM_THRESH].values.tolist()"
   ]
  },
  {
   "cell_type": "code",
   "execution_count": 118,
   "id": "f6943c97-acf0-416a-94f1-89230e5329de",
   "metadata": {},
   "outputs": [
    {
     "data": {
      "text/plain": [
       "(15008, 14858)"
      ]
     },
     "execution_count": 118,
     "metadata": {},
     "output_type": "execute_result"
    }
   ],
   "source": [
    "# размер словаря до и после применения tf-idf\n",
    "len(vocab_source), len(vocab_filtered)"
   ]
  },
  {
   "cell_type": "code",
   "execution_count": 117,
   "id": "477529db-449c-4f15-8ef8-195a1c328b69",
   "metadata": {},
   "outputs": [
    {
     "data": {
      "application/vnd.jupyter.widget-view+json": {
       "model_id": "39d458ba04354415b8b8f853ae13cb41",
       "version_major": 2,
       "version_minor": 0
      },
      "text/plain": [
       "  0%|          | 0/1263 [00:00<?, ?it/s]"
      ]
     },
     "metadata": {},
     "output_type": "display_data"
    }
   ],
   "source": [
    "texts_filtered = []\n",
    "for row in tqdm(tokens):\n",
    "    cur_text_tokens = []\n",
    "    for token in row:\n",
    "        if token in vocab_filtered:\n",
    "            cur_text_tokens.append(token)\n",
    "    if cur_text_tokens:\n",
    "        cur_text = ' '.join(cur_text_tokens)\n",
    "        texts_filtered.append(cur_text)"
   ]
  },
  {
   "cell_type": "code",
   "execution_count": 38,
   "id": "4b890f96-d91c-4d73-a1d3-7d8c422938b0",
   "metadata": {},
   "outputs": [],
   "source": [
    "# texts[0]"
   ]
  },
  {
   "cell_type": "code",
   "execution_count": 39,
   "id": "da658b31-9e5e-4a75-8367-96e8244c8810",
   "metadata": {},
   "outputs": [],
   "source": [
    "# texts_filtered[0]"
   ]
  },
  {
   "cell_type": "markdown",
   "id": "6961c914-0cde-498e-98fd-ee4b44a14629",
   "metadata": {},
   "source": [
    "функция снизу для инференса взята с этого вопроса на [оверфлоу](https://stackoverflow.com/questions/34449127/sklearn-tfidf-transformer-how-to-get-tf-idf-values-of-given-words-in-documen#:~:text=3-,Finding,-tfidf%20score%20per)"
   ]
  },
  {
   "cell_type": "code",
   "execution_count": 40,
   "id": "d30322d9-c637-4f60-b2cf-bf7beb287799",
   "metadata": {},
   "outputs": [],
   "source": [
    "# def get_ifidf_for_words(text):\n",
    "#     tfidf_matrix= tfidf.transform([text]).todense()\n",
    "#     feature_index = tfidf_matrix[0,:].nonzero()[1]\n",
    "#     tfidf_scores = zip([feature_names[i] for i in feature_index], [tfidf_matrix[0, x] for x in feature_index])\n",
    "#     return dict(tfidf_scores)"
   ]
  },
  {
   "cell_type": "markdown",
   "id": "71073f9f-2dd6-43f2-b500-0f8b3e20fc33",
   "metadata": {},
   "source": [
    "# TM"
   ]
  },
  {
   "cell_type": "code",
   "execution_count": 119,
   "id": "1e6bbd94-a501-47e7-a49b-99a72e87b148",
   "metadata": {},
   "outputs": [],
   "source": [
    "!rm -rf batches\n",
    "!rm -f cv_wabbit*.vw vocab.txt"
   ]
  },
  {
   "cell_type": "code",
   "execution_count": 120,
   "id": "39784ea1-f37f-4663-a2e2-334037ee5c22",
   "metadata": {},
   "outputs": [],
   "source": [
    "cv_vocab_path = 'cv_wabbit_v2.vw'"
   ]
  },
  {
   "cell_type": "code",
   "execution_count": 121,
   "id": "61fe6213-7d6e-41ab-a227-4a03967078a5",
   "metadata": {},
   "outputs": [],
   "source": [
    "def check_path(fn=None, *, PATH=cv_vocab_path):\n",
    "    \n",
    "    if fn is None:\n",
    "        print('here')\n",
    "        return lambda fn: check_path(fn, PATH=PATH)\n",
    "\n",
    "    @functools.wraps(fn)\n",
    "    def func(*args, **kwargs):\n",
    "        if not os.path.exists(PATH) or not os.stat(PATH).st_size:\n",
    "            fn(*args, **kwargs)\n",
    "        else:\n",
    "            print(f'{PATH} already exists!')\n",
    "    return func\n",
    "\n",
    "@check_path\n",
    "def vocabulary_prep(text, vocab):\n",
    "     with open(vocab, 'w') as fh:\n",
    "        for sent in text:\n",
    "            fh.write(' |text ' + sent + '\\n')"
   ]
  },
  {
   "cell_type": "code",
   "execution_count": 122,
   "id": "255c4326-a205-41bb-b1d5-a632b6349cb8",
   "metadata": {},
   "outputs": [],
   "source": [
    "vocabulary_prep(texts_filtered, cv_vocab_path)\n",
    "# vocabulary_prep(texts, cv_vocab_path)"
   ]
  },
  {
   "cell_type": "code",
   "execution_count": 123,
   "id": "5cfd477e-0c16-4afb-aad5-08dec2f494d3",
   "metadata": {},
   "outputs": [],
   "source": [
    "# !head -n1 cv_wabbit_v2.vw "
   ]
  },
  {
   "cell_type": "markdown",
   "id": "a13f8a0e-101d-465e-9077-d7009a9ee39b",
   "metadata": {},
   "source": [
    "### Prepare batches with artm.BatchVectorizer"
   ]
  },
  {
   "cell_type": "code",
   "execution_count": 124,
   "id": "8e4f8947-69a4-439c-aaf1-f4665283832e",
   "metadata": {},
   "outputs": [],
   "source": [
    "import artm\n",
    "\n",
    "def batching(data_path=None, batch_path='batches', text_format='vowpal_wabbit', batches_format='batches', batch_size=256):\n",
    "    \n",
    "    if not os.path.exists(batch_path):\n",
    "        os.mkdir(batch_path)\n",
    "\n",
    "    if not os.listdir(path=batch_path):\n",
    "        batch_vectorizer = artm.BatchVectorizer(data_path=data_path,\n",
    "                                                data_format=text_format, \n",
    "                                                target_folder=batch_path, \n",
    "                                                batch_size=batch_size)\n",
    "    else:\n",
    "        batch_vectorizer = artm.BatchVectorizer(data_path=batch_path,\n",
    "                                                data_format=batches_format)\n",
    "        \n",
    "    return batch_vectorizer"
   ]
  },
  {
   "cell_type": "code",
   "execution_count": 125,
   "id": "ae7c234f-30af-42c0-a3b2-4889ea7def57",
   "metadata": {},
   "outputs": [],
   "source": [
    "batch_vectorizer = batching(data_path=cv_vocab_path)"
   ]
  },
  {
   "cell_type": "markdown",
   "id": "ac230bbf-e426-4c99-bcc2-c4f3937eb83a",
   "metadata": {},
   "source": [
    "### Create an ARTM dictionary"
   ]
  },
  {
   "cell_type": "code",
   "execution_count": 126,
   "id": "972f4614-0756-4f8b-ac48-dcd48d31707f",
   "metadata": {},
   "outputs": [],
   "source": [
    "dictionary = artm.Dictionary()\n",
    "dictionary.gather(batch_vectorizer.data_path)"
   ]
  },
  {
   "cell_type": "markdown",
   "id": "2100903a-aeb2-4637-9d99-19af9ecc0904",
   "metadata": {},
   "source": [
    "### Save / load dictionary"
   ]
  },
  {
   "cell_type": "code",
   "execution_count": 127,
   "id": "7c261ca0-5a85-45e3-9bb3-954d68068cd0",
   "metadata": {},
   "outputs": [],
   "source": [
    "# !rm -f vocab.txt\n",
    "dictionary.save_text('vocab.txt')"
   ]
  },
  {
   "cell_type": "code",
   "execution_count": 128,
   "id": "122d7f1b-10e9-46a8-be3b-5ae6854013c1",
   "metadata": {},
   "outputs": [],
   "source": [
    "# dictionary.load_text(dictionary_path='vocab.txt')"
   ]
  },
  {
   "cell_type": "markdown",
   "id": "155691dc-e1de-436c-a677-a2993748b0d2",
   "metadata": {},
   "source": [
    "### Helper functions"
   ]
  },
  {
   "cell_type": "code",
   "execution_count": 129,
   "id": "9f9c8c3a-59c9-4ba8-9b28-267c67641296",
   "metadata": {},
   "outputs": [],
   "source": [
    "def tokens_printer(model):\n",
    "    '''\n",
    "    shows top tokens for all T topics\n",
    "    '''\n",
    "    tokens = model.score_tracker['top_words'].last_tokens\n",
    "    for topic_name in model.topic_names:\n",
    "        try:\n",
    "            print(f'{topic_name}: {\", \".join(tokens[topic_name])}', end='\\n\\n')\n",
    "        except KeyError:\n",
    "            pass"
   ]
  },
  {
   "cell_type": "code",
   "execution_count": 130,
   "id": "8fb78b92-111e-4414-9690-5c12a740328f",
   "metadata": {},
   "outputs": [],
   "source": [
    "def show_matrices_sparsity(model):\n",
    "    print('Phi sparsity:', + round(model.score_tracker['SparsityPhiScore'].last_value, 3))\n",
    "    print('Theta sparsity:', + round(model.score_tracker['SparsityThetaScore'].last_value, 3))"
   ]
  },
  {
   "cell_type": "markdown",
   "id": "87fcee50-4fdc-40ba-a25b-80dee6e22fa8",
   "metadata": {},
   "source": [
    "### ARTM model"
   ]
  },
  {
   "cell_type": "code",
   "execution_count": 131,
   "id": "94517901-b156-4dba-afe7-9ee1aa5152b3",
   "metadata": {},
   "outputs": [],
   "source": [
    "T = 10  # initial number of topics\n",
    "\n",
    "model_artm = artm.ARTM(num_topics=T,\n",
    "                       topic_names=[\"topic\"+ str(i + 1) for i in range(T)],\n",
    "                       class_ids={\"text\":1},\n",
    "                       reuse_theta=True, \n",
    "                       cache_theta=True,\n",
    "                       num_document_passes=5,\n",
    "                       seed=0)"
   ]
  },
  {
   "cell_type": "code",
   "execution_count": 132,
   "id": "a5431f6b-1f54-4d58-a974-41c6e82a81e1",
   "metadata": {},
   "outputs": [],
   "source": [
    "model_artm.initialize(dictionary=dictionary)"
   ]
  },
  {
   "cell_type": "markdown",
   "id": "992f0178-09d3-4a83-858e-6bd358ed05ff",
   "metadata": {},
   "source": [
    "### Scorers"
   ]
  },
  {
   "cell_type": "code",
   "execution_count": 133,
   "id": "266fd229-e424-4b44-9978-74e8c4b9ea44",
   "metadata": {},
   "outputs": [],
   "source": [
    "model_artm.scores.add(artm.PerplexityScore(name='PerplexityScore', dictionary=dictionary))\n",
    "model_artm.scores.add(artm.SparsityPhiScore(name='SparsityPhiScore', class_id='text'))\n",
    "model_artm.scores.add(artm.SparsityThetaScore(name='SparsityThetaScore'))\n",
    "model_artm.scores.add(artm.TopTokensScore(name='top_words', num_tokens=T, class_id='text'))"
   ]
  },
  {
   "cell_type": "markdown",
   "id": "cef8a60d-3139-414d-aded-bfab410248aa",
   "metadata": {},
   "source": [
    "`phi score`: разреженность матрицы распределения терминов в теме\n",
    "\n",
    "`theta score`: разреженность матрицы распределения тем в документах"
   ]
  },
  {
   "cell_type": "markdown",
   "id": "842d1500-8813-483a-bb65-50ae747658cf",
   "metadata": {},
   "source": [
    "### No regularizers"
   ]
  },
  {
   "cell_type": "code",
   "execution_count": 134,
   "id": "3bb0d4c7-9779-422a-b9de-f8f6143062d6",
   "metadata": {},
   "outputs": [
    {
     "name": "stdout",
     "output_type": "stream",
     "text": [
      "CPU times: user 2.15 s, sys: 24.8 ms, total: 2.17 s\n",
      "Wall time: 749 ms\n"
     ]
    }
   ],
   "source": [
    "%%time\n",
    "\n",
    "num_collection_passes = 10\n",
    "\n",
    "model_artm.fit_offline(batch_vectorizer=batch_vectorizer,\n",
    "                      num_collection_passes=num_collection_passes)"
   ]
  },
  {
   "cell_type": "code",
   "execution_count": 135,
   "id": "c54928ea-3699-4fd8-9690-825fbf37f9e4",
   "metadata": {},
   "outputs": [
    {
     "data": {
      "image/png": "[encoded data removed]",
      "text/plain": [
       "<Figure size 360x360 with 1 Axes>"
      ]
     },
     "metadata": {
      "needs_background": "light"
     },
     "output_type": "display_data"
    }
   ],
   "source": [
    "import matplotlib.pyplot as plt\n",
    "\n",
    "fig, ax = plt.subplots(figsize=(5, 5))\n",
    "ax.plot(model_artm.score_tracker['PerplexityScore'].value)\n",
    "ax.set_xticks(np.arange(0, num_collection_passes+1))\n",
    "ax.set_xticklabels(np.arange(0, num_collection_passes+1))\n",
    "ax.set_xlim([0, num_collection_passes - 1])\n",
    "ax.set_xlabel('Num passes')\n",
    "ax.set_ylabel('Perplixity score');"
   ]
  },
  {
   "cell_type": "code",
   "execution_count": 136,
   "id": "47f42781-36af-4f50-af1e-7cae2873cde3",
   "metadata": {},
   "outputs": [
    {
     "name": "stdout",
     "output_type": "stream",
     "text": [
      "topic1: врач, стоматолог, работа, среди, население, медицинский, учреждение, военнослужащий, профилактический, оказание\n",
      "\n",
      "topic2: железа, отросток, имплантация, мягкий, слюнный, повреждение, губа, челюстный, характер, оперативный\n",
      "\n",
      "topic3: летний, профилактика, профилактический, фторид, кальций, женщина, гигиенический, покрытие, кариозный, мероприятие\n",
      "\n",
      "topic4: одонтогенный, флегмона, концентрация, челюстный, болевой, лазерный, гнойный, синдром, рана, боль\n",
      "\n",
      "topic5: канал, обработка, корнев, рана, корневой, сплав, анаэробный, раствор, микрофлора, бактерия\n",
      "\n",
      "topic6: сустав, височный, угол, отдел, передний, нижнечелюстной, сплав, смещение, дистальный, положение\n",
      "\n",
      "topic7: составить, врач, стоматолог, обследовать, среднее, угол, высота, профилактический, часть, среди\n",
      "\n",
      "topic8: пульпа, раствор, клетка, паста, пульпит, контрольный, эксперимент, реакция, дентин, оттиск\n",
      "\n",
      "topic9: коронка, корень, цемент, прикус, размер, фиксация, свойство, твердый, напряжение, новый\n",
      "\n",
      "topic10: фон, тяжелый, воспаление, стадия, достоверно, сопровождаться, десна, снижаться, легкий, генерализовать\n",
      "\n"
     ]
    }
   ],
   "source": [
    "tokens_printer(model_artm)"
   ]
  },
  {
   "cell_type": "code",
   "execution_count": 137,
   "id": "933f8d0d-44e0-4e5d-9834-0e580ebc3e37",
   "metadata": {},
   "outputs": [
    {
     "name": "stdout",
     "output_type": "stream",
     "text": [
      "Phi sparsity: 0.499\n",
      "Theta sparsity: 0.026\n"
     ]
    }
   ],
   "source": [
    "show_matrices_sparsity(model_artm)"
   ]
  },
  {
   "cell_type": "markdown",
   "id": "e1834acd-8b2f-48f8-936d-86a1075b6aa2",
   "metadata": {},
   "source": [
    "### Regularizers: 0\n",
    "\n",
    "[Decorrelator Phi](https://bigartm.readthedocs.io/en/stable/tutorials/regularizers_descr.html#decorrelator-phi)\n",
    "* positive tau value differentiates tokens in a topic\n",
    "* negative - makes tokens more common in different topics"
   ]
  },
  {
   "cell_type": "code",
   "execution_count": 138,
   "id": "d342367a-5a60-4fb6-b7dc-fb8800e1cd6b",
   "metadata": {},
   "outputs": [],
   "source": [
    "model_artm.regularizers.add(artm.DecorrelatorPhiRegularizer(name='DecorrPhi', tau=+1e5))"
   ]
  },
  {
   "cell_type": "code",
   "execution_count": 139,
   "id": "e2890e6d-73b0-45da-bca5-4fffde2e1fe5",
   "metadata": {},
   "outputs": [
    {
     "name": "stdout",
     "output_type": "stream",
     "text": [
      "CPU times: user 2.8 s, sys: 28 ms, total: 2.83 s\n",
      "Wall time: 1.21 s\n"
     ]
    }
   ],
   "source": [
    "%%time\n",
    "model_artm.fit_offline(batch_vectorizer=batch_vectorizer,\n",
    "                      num_collection_passes=num_collection_passes)"
   ]
  },
  {
   "cell_type": "code",
   "execution_count": 140,
   "id": "9a427e80-6200-4343-98fb-1f8d6be8612e",
   "metadata": {},
   "outputs": [
    {
     "data": {
      "image/png": "[encoded data removed]",
      "text/plain": [
       "<Figure size 360x360 with 1 Axes>"
      ]
     },
     "metadata": {
      "needs_background": "light"
     },
     "output_type": "display_data"
    }
   ],
   "source": [
    "import matplotlib.pyplot as plt\n",
    "\n",
    "fig, ax = plt.subplots(figsize=(5, 5))\n",
    "ax.plot(model_artm.score_tracker['PerplexityScore'].value)\n",
    "ax.set_xlabel('Num passes')\n",
    "ax.set_ylabel('Perplixity score');"
   ]
  },
  {
   "cell_type": "code",
   "execution_count": 141,
   "id": "34997a35-3d3e-4f26-ad7f-a1cc06c74e1a",
   "metadata": {},
   "outputs": [
    {
     "name": "stdout",
     "output_type": "stream",
     "text": [
      "topic1: прикус, положение, зубочелюстной, мероприятие, рост, болезнь, возрастной, составить, основание, гигиена\n",
      "\n",
      "topic2: повреждение, губа, мягкий, железа, врожденный, отросток, челюстный, расщелина, небо, внчс\n",
      "\n",
      "topic4: концентрация, болевой, синдром, одонтогенный, лазерный, рана, боль, население, челюстный, клетка\n",
      "\n",
      "topic5: рана, ран, канал, ранение, обработка, заживление, раневой, лазер, травма, лазерный\n",
      "\n",
      "topic6: сплав, отдел, угол, сустав, височный, передний, размер, коронка, моляр, положение\n",
      "\n",
      "topic7: врач, медицинский, стоматолог, канал, составить, профилактический, среднее, обследовать, оказание, низкий\n",
      "\n",
      "topic8: раствор, паста, пульпит, пульпа, оттиск, состав, дентин, население, канал, клетка\n",
      "\n",
      "topic9: постоянный, коронка, прикус, нагрузка, корень, свойство, твердый, моляр, размер, кариозный\n",
      "\n",
      "topic10: фон, профилактика, низкий, профилактический, контрольный, тяжелый, гигиена, влияние, воспаление, так\n",
      "\n"
     ]
    }
   ],
   "source": [
    "tokens_printer(model_artm)"
   ]
  },
  {
   "cell_type": "code",
   "execution_count": 142,
   "id": "53233095-d712-4da0-a19c-0ef715f8dd92",
   "metadata": {},
   "outputs": [
    {
     "name": "stdout",
     "output_type": "stream",
     "text": [
      "Phi sparsity: 0.723\n",
      "Theta sparsity: 0.502\n"
     ]
    }
   ],
   "source": [
    "show_matrices_sparsity(model_artm)"
   ]
  },
  {
   "cell_type": "markdown",
   "id": "e003f6bf-23d5-4c44-b85e-a396d01ecd64",
   "metadata": {},
   "source": [
    "### Regularizers: 1\n",
    "[SmoothSparsePhiRegularizer](http://docs.bigartm.org/en/stable/tutorials/regularizers_descr.html#decorrelator-phi)\n",
    "* positive tau value smoothes phi matrix\n",
    "* negative - sparses phi matrix"
   ]
  },
  {
   "cell_type": "code",
   "execution_count": 143,
   "id": "72649802-f1fe-47c7-aecb-f001c50d6854",
   "metadata": {},
   "outputs": [],
   "source": [
    "model_artm.regularizers.add(artm.SmoothSparsePhiRegularizer(name='SparsePhi', tau=-1e3, dictionary=dictionary))\n",
    "# tau = -1e5: слово будет домножаться на его частоту во всей коллекции"
   ]
  },
  {
   "cell_type": "code",
   "execution_count": 144,
   "id": "9167c2f6-455a-4279-84ba-aed6a83c3080",
   "metadata": {},
   "outputs": [
    {
     "name": "stdout",
     "output_type": "stream",
     "text": [
      "CPU times: user 2.75 s, sys: 39.2 ms, total: 2.79 s\n",
      "Wall time: 1.27 s\n"
     ]
    }
   ],
   "source": [
    "%%time\n",
    "model_artm.fit_offline(batch_vectorizer=batch_vectorizer,\n",
    "                      num_collection_passes=num_collection_passes)"
   ]
  },
  {
   "cell_type": "code",
   "execution_count": 145,
   "id": "6166af57-19b4-4ef6-bef8-f4fedff5c8d4",
   "metadata": {},
   "outputs": [
    {
     "name": "stdout",
     "output_type": "stream",
     "text": [
      "topic1: прикус, положение, стадия, зубочелюстной, рост, основание, язык, мероприятие, глоточный, болезнь\n",
      "\n",
      "topic2: челюстный, повреждение, мягкий, губа, отросток, рана, гнойный, вмешательство, врожденный, железа\n",
      "\n",
      "topic4: клетка, рана, концентрация, болевой, одонтогенный, синдром, фон, десна, медицинский, врач\n",
      "\n",
      "topic6: отдел, размер, угол, передний, височный, положение, коронка, сустав, часть, моляр\n",
      "\n",
      "topic7: составить, канал, врач, угол, высота, медицинский, часть, среднее, получить, стоматолог\n",
      "\n",
      "topic8: раствор, паста, клетка, пульпит, оттиск, пульпа, дентин, состав, обладать, корнев\n",
      "\n",
      "topic9: нагрузка, постоянный, коронка, корень, свойство, напряжение, твердый, кариозный, новый, прикус\n",
      "\n",
      "topic10: профилактический, профилактика, низкий, среди, контрольный, мероприятие, гигиена, стоматолог, тяжелый, влияние\n",
      "\n"
     ]
    }
   ],
   "source": [
    "tokens_printer(model_artm)"
   ]
  },
  {
   "cell_type": "code",
   "execution_count": 146,
   "id": "7227ff66-66ae-4261-96b5-ca233567dbab",
   "metadata": {},
   "outputs": [
    {
     "name": "stdout",
     "output_type": "stream",
     "text": [
      "Phi sparsity: 0.821\n",
      "Theta sparsity: 0.592\n"
     ]
    }
   ],
   "source": [
    "show_matrices_sparsity(model_artm)"
   ]
  },
  {
   "cell_type": "markdown",
   "id": "f99af21b-dbaf-492b-a274-bf5a49cd0a3c",
   "metadata": {},
   "source": [
    "### Regularizers: 2\n",
    "\n",
    "[SmoothThetaRegularizer](http://docs.bigartm.org/en/stable/tutorials/regularizers_descr.html#smooth-sparse-theta)\n",
    "\n",
    "* positive tau value smoothes theta matrix\n",
    "* negative - sparses theta matrix"
   ]
  },
  {
   "cell_type": "code",
   "execution_count": 147,
   "id": "05cd3f34-8703-4055-91c5-22c930e9ad28",
   "metadata": {},
   "outputs": [],
   "source": [
    "model_artm.regularizers.add(artm.SmoothSparseThetaRegularizer(name='SparseTheta', tau=-10))"
   ]
  },
  {
   "cell_type": "code",
   "execution_count": 148,
   "id": "842396fd-b655-4298-9905-1d48755fd05b",
   "metadata": {},
   "outputs": [],
   "source": [
    "model_artm.fit_offline(batch_vectorizer=batch_vectorizer,\n",
    "                      num_collection_passes=num_collection_passes)"
   ]
  },
  {
   "cell_type": "code",
   "execution_count": 149,
   "id": "bf0208de-de9b-4bab-900a-d3f7f7530d68",
   "metadata": {},
   "outputs": [
    {
     "name": "stdout",
     "output_type": "stream",
     "text": [
      "topic2: мягкий, день, сопровождаться, небо, губа, челюстный, повреждение, реакция, гнойный, отросток\n",
      "\n",
      "topic6: угол, врач, низкий, зубочелюстной, коронка, пульпа, моляр, работа, достоверно, пломба\n",
      "\n",
      "topic7: канал, составить, врач, концентрация, среднее, обработка, отсутствие, медицинский, стоматолог, зависимость\n",
      "\n",
      "topic9: прикус, постоянный, профилактический, положение, размер, первый, величина, свойство, профилактика, новый\n",
      "\n",
      "topic10: составить, врач, достоверно, пульпа, население, профилактический, наблюдаться, часть, стоматолог, выше\n",
      "\n"
     ]
    }
   ],
   "source": [
    "tokens_printer(model_artm)"
   ]
  },
  {
   "cell_type": "code",
   "execution_count": 150,
   "id": "516d9977-80f6-4f34-ae70-2519ae1af3ae",
   "metadata": {},
   "outputs": [
    {
     "name": "stdout",
     "output_type": "stream",
     "text": [
      "Phi sparsity: 0.887\n",
      "Theta sparsity: 0.871\n"
     ]
    }
   ],
   "source": [
    "show_matrices_sparsity(model_artm)"
   ]
  },
  {
   "cell_type": "markdown",
   "id": "b878bc5d-90e3-44b7-96f7-49a8cf2cd3b7",
   "metadata": {},
   "source": [
    "### Regularizers: 3\n",
    "Change value of Phi Decorrelator"
   ]
  },
  {
   "cell_type": "code",
   "execution_count": 151,
   "id": "523bad05-e398-45c9-95c0-679968f05b85",
   "metadata": {},
   "outputs": [],
   "source": [
    "model_artm.regularizers['DecorrPhi'].tau = 1e8\n",
    "model_artm.fit_offline(batch_vectorizer=batch_vectorizer,\n",
    "                      num_collection_passes=num_collection_passes)"
   ]
  },
  {
   "cell_type": "code",
   "execution_count": 152,
   "id": "f4a51f19-6fdb-4814-8fb4-ba3e81968113",
   "metadata": {},
   "outputs": [
    {
     "name": "stdout",
     "output_type": "stream",
     "text": [
      "topic2: гнойный, флегмона, шея, остеосинтез, диск, отломок, раневой, кожа, иум, лимфатический\n",
      "\n",
      "topic7: остеопороз, военнослужащий, отбеливание, пенсионер, язвенный, интерлейкина, гнатическа, задний, черта, вантовый\n",
      "\n",
      "topic9: надежный, кто, пятно, пищеварение, верхушка, мнр, эпулис, синадента, завод, диета\n",
      "\n",
      "topic10: вегетативный, рексода, хобл, ил, цитокин, лой, тяж, секстант, гемофилия, выживаемость\n",
      "\n"
     ]
    }
   ],
   "source": [
    "tokens_printer(model_artm)"
   ]
  },
  {
   "cell_type": "code",
   "execution_count": 153,
   "id": "19c8769d-69ea-475d-b614-e6340c771c63",
   "metadata": {},
   "outputs": [
    {
     "name": "stdout",
     "output_type": "stream",
     "text": [
      "Phi sparsity: 0.967\n",
      "Theta sparsity: 0.964\n"
     ]
    }
   ],
   "source": [
    "show_matrices_sparsity(model_artm)"
   ]
  },
  {
   "cell_type": "markdown",
   "id": "874f1385-b3ce-4fad-9565-543c24286509",
   "metadata": {},
   "source": [
    "### Regularizers: 4\n",
    "[TopicSelectionThetaRegularizer](http://docs.bigartm.org/en/stable/tutorials/regularizers_descr.html#topic-selection-theta)\n",
    "\n",
    "[Reading](https://d3c33hcgiwev3.cloudfront.net/C8BvukDlEemFOA6Hm29iNA_858c5220dc5842f183b7bef43ed31181_4-1.Tematicheskoe_modelirovanie-_1_.pdf?Expires=1633132800&Signature=ZqSPAJBBy2-SYV8GQAqtLy2CMl7UZmlWALg02JSYbJr93H7XMbFFx8wXhCgkOuTZC4dzeH52oPMLTfy58C5673mnJQi5f3vV3BikOxXa1PLRatGbe-XEO7w7oIHbGRhjNbiw2PBLZ8vt-2FRn1dJu0zUq3~yL8SafQoH9cEpcUs_&Key-Pair-Id=APKAJLTNE6QMUY6HBC5A) p.13 ???"
   ]
  },
  {
   "cell_type": "code",
   "execution_count": 154,
   "id": "c9ed4585-4732-4548-88f9-bc19b19b4d6f",
   "metadata": {},
   "outputs": [],
   "source": [
    "model_artm.regularizers.add(artm.TopicSelectionThetaRegularizer(name='TopicSelectionTheta', tau=1))\n",
    "# model_artm.regularizers['TopicSelectionTheta'].tau = 1"
   ]
  },
  {
   "cell_type": "code",
   "execution_count": 155,
   "id": "41bbb08f-5e25-48e5-980b-30479cb6f020",
   "metadata": {},
   "outputs": [],
   "source": [
    "model_artm.fit_offline(batch_vectorizer=batch_vectorizer,\n",
    "                      num_collection_passes=num_collection_passes)"
   ]
  },
  {
   "cell_type": "code",
   "execution_count": 156,
   "id": "6e9135db-3920-447f-bbbb-e73993ca67ff",
   "metadata": {},
   "outputs": [
    {
     "name": "stdout",
     "output_type": "stream",
     "text": [
      "topic2: флегмона, гнойный, шея, диск, раневой, порок, регенерат, носоглотка, поток, просвет\n",
      "\n",
      "topic9: кто, пятно, эпулис, мнр, синадента, завод, пищеварение, антенатальный, диета, прочностный\n",
      "\n"
     ]
    }
   ],
   "source": [
    "tokens_printer(model_artm)"
   ]
  },
  {
   "cell_type": "code",
   "execution_count": 157,
   "id": "fd6ca1c9-6676-4485-bb3e-21c50f2a7a4d",
   "metadata": {},
   "outputs": [
    {
     "name": "stdout",
     "output_type": "stream",
     "text": [
      "Phi sparsity: 0.989\n",
      "Theta sparsity: 0.992\n"
     ]
    }
   ],
   "source": [
    "show_matrices_sparsity(model_artm)"
   ]
  },
  {
   "cell_type": "code",
   "execution_count": 158,
   "id": "9b5a09b7-2bbd-4e44-b13d-2ccfa54ffdb5",
   "metadata": {},
   "outputs": [],
   "source": [
    "# model_artm.score_tracker['top_words']"
   ]
  }
 ],
 "metadata": {
  "kernelspec": {
   "display_name": "Python 3",
   "language": "python",
   "name": "python3"
  },
  "language_info": {
   "codemirror_mode": {
    "name": "ipython",
    "version": 3
   },
   "file_extension": ".py",
   "mimetype": "text/x-python",
   "name": "python",
   "nbconvert_exporter": "python",
   "pygments_lexer": "ipython3",
   "version": "3.8.10"
  }
 },
 "nbformat": 4,
 "nbformat_minor": 5
}
