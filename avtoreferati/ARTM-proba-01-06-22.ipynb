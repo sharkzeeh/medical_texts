{
 "cells": [
  {
   "cell_type": "markdown",
   "id": "a8a2dc40",
   "metadata": {},
   "source": [
    "В данном ноутбуке рассматривалась задача сопоставления сходства тем модели тематического моделирования из `текстов базы авторефератор из раздела \"результаты\"` и `областей исследования` из [паспорта специальностей научных работников, 14.00.21 \"Стоматология\"](http://www.aspirantura.spb.ru/pasp/14_0_21.html)\n",
    "\n",
    "Так как областей исследования 6, то и тем так же было выделено 6 (далее)"
   ]
  },
  {
   "cell_type": "markdown",
   "id": "39b01c6f",
   "metadata": {},
   "source": [
    "**Терминология**\n",
    "\n",
    "* Тема - набор терминов, которые описывают какой-то объект\n",
    "* Таргет - целевая переменная (в данном случае \"области исследования\" для каждого текста)\n",
    "* Предсказание - искомая переменная (в данном случае это темы модели тематического моделирования)"
   ]
  },
  {
   "cell_type": "code",
   "execution_count": 1,
   "id": "82559e37",
   "metadata": {},
   "outputs": [],
   "source": [
    "%load_ext autoreload\n",
    "%autoreload 2"
   ]
  },
  {
   "cell_type": "code",
   "execution_count": 2,
   "id": "f4a94535",
   "metadata": {},
   "outputs": [],
   "source": [
    "import warnings\n",
    "warnings.filterwarnings('ignore')"
   ]
  },
  {
   "cell_type": "code",
   "execution_count": 3,
   "id": "d5ae26e4",
   "metadata": {},
   "outputs": [],
   "source": [
    "from helper_functions import *"
   ]
  },
  {
   "cell_type": "code",
   "execution_count": 4,
   "id": "59493d83",
   "metadata": {},
   "outputs": [],
   "source": [
    "import pandas as pd\n",
    "from tqdm.notebook import tqdm\n",
    "import re\n",
    "from typing import List\n",
    "import os\n",
    "import matplotlib.pyplot as plt\n",
    "import numpy as np\n",
    "import artm\n",
    "from collections import defaultdict"
   ]
  },
  {
   "cell_type": "code",
   "execution_count": 5,
   "id": "930e462a",
   "metadata": {},
   "outputs": [],
   "source": [
    "import json\n",
    "\n",
    "with open('saved_content/metadata.json') as fh:\n",
    "    metadata = json.load(fh)\n",
    "    \n",
    "codes, years = metadata['codes'], metadata['years']\n",
    "\n",
    "# загрузка отфильтрованных данных\n",
    "with open('saved_content/procced_texts_tfidf_filtered_vocab.json') as fh:\n",
    "    tokens_filtered = json.load(fh)"
   ]
  },
  {
   "cell_type": "code",
   "execution_count": 6,
   "id": "34acdf1a",
   "metadata": {},
   "outputs": [
    {
     "name": "stdout",
     "output_type": "stream",
     "text": [
      "Данная выборка содержит 2167 текстов\n"
     ]
    }
   ],
   "source": [
    "print(f'Данная выборка содержит {len(tokens_filtered)} текстов')"
   ]
  },
  {
   "cell_type": "markdown",
   "id": "43b45631",
   "metadata": {},
   "source": [
    "В данном случае рассматриваются только тексты, содержащие код специальности `14.00.21 Стоматология`"
   ]
  },
  {
   "cell_type": "markdown",
   "id": "f7b3e0fa",
   "metadata": {},
   "source": [
    "# Тематическое моделирование\n",
    "\n",
    "Используем фреймворк [BigARTM](http://www.machinelearning.ru/wiki/index.php?title=BigARTM)"
   ]
  },
  {
   "cell_type": "code",
   "execution_count": 7,
   "id": "b0d63fe5",
   "metadata": {},
   "outputs": [],
   "source": [
    "!rm -rf batches\n",
    "!rm -f cv_wabbit*.vw vocab.txt"
   ]
  },
  {
   "cell_type": "code",
   "execution_count": 8,
   "id": "f5b9bf4c",
   "metadata": {},
   "outputs": [],
   "source": [
    "@check_path\n",
    "def vocabulary_prep(text, vocab):\n",
    "     with open(vocab, 'w') as fh:\n",
    "        for sent in text:\n",
    "            fh.write(' |text ' + sent + '\\n')"
   ]
  },
  {
   "cell_type": "code",
   "execution_count": 9,
   "id": "0408c13d",
   "metadata": {},
   "outputs": [],
   "source": [
    "# для всех текстов сразу\n",
    "cv_vocab_path = 'cv_wabbit_v2.vw'\n",
    "vocabulary_prep([' '.join(text) for text in tokens_filtered], cv_vocab_path)"
   ]
  },
  {
   "cell_type": "markdown",
   "id": "d71d1dae",
   "metadata": {},
   "source": [
    "#### Подготовка бачтей"
   ]
  },
  {
   "cell_type": "code",
   "execution_count": 10,
   "id": "9dfa611c",
   "metadata": {},
   "outputs": [],
   "source": [
    "batch_vectorizer = batching(data_path=cv_vocab_path)"
   ]
  },
  {
   "cell_type": "markdown",
   "id": "b1b0ac03",
   "metadata": {},
   "source": [
    "### Create an ARTM dictionary"
   ]
  },
  {
   "cell_type": "code",
   "execution_count": 11,
   "id": "d8276256",
   "metadata": {},
   "outputs": [],
   "source": [
    "dictionary = artm.Dictionary()\n",
    "dictionary.gather(batch_vectorizer.data_path)"
   ]
  },
  {
   "cell_type": "markdown",
   "id": "91778d68",
   "metadata": {},
   "source": [
    "### Save / load dictionary"
   ]
  },
  {
   "cell_type": "code",
   "execution_count": 12,
   "id": "48114908",
   "metadata": {},
   "outputs": [],
   "source": [
    "# !rm -f vocab.txt\n",
    "dictionary.save_text('vocab_all_texts.txt')\n",
    "# dictionary.load_text(dictionary_path='vocab_all_texts.txt')"
   ]
  },
  {
   "cell_type": "markdown",
   "id": "5106ca25",
   "metadata": {},
   "source": [
    "### ARTM model initialization\n",
    "\n",
    "[пример](https://www.coursera.org/learn/unsupervised-learning/supplement/suSWG/noutbuk-iz-diemonstratsii-ispol-zovaniia-bigartm)"
   ]
  },
  {
   "cell_type": "code",
   "execution_count": 13,
   "id": "8aa5eb43",
   "metadata": {},
   "outputs": [],
   "source": [
    "T = 6  # число тем\n",
    "tokens_per_T = 10 # число токенов в теме\n",
    "num_collection_passes = 10  # число проходов по коллекции"
   ]
  },
  {
   "cell_type": "code",
   "execution_count": 14,
   "id": "8a559045",
   "metadata": {},
   "outputs": [],
   "source": [
    "def init_model_artm(dictionary=dictionary):\n",
    "    model_artm = artm.ARTM(num_topics=T,\n",
    "                           topic_names=[str(i + 1) for i in range(T)],\n",
    "                           class_ids={\"text\":1},\n",
    "                           reuse_theta=True, \n",
    "                           cache_theta=True,\n",
    "                           num_document_passes=10,\n",
    "                           seed=0)\n",
    "    \n",
    "    # add scorers\n",
    "    model_artm.scores.add(artm.PerplexityScore(name='PerplexityScore', dictionary=dictionary))\n",
    "    model_artm.scores.add(artm.SparsityPhiScore(name='SparsityPhiScore', class_id='text'))\n",
    "    model_artm.scores.add(artm.SparsityThetaScore(name='SparsityThetaScore'))\n",
    "    model_artm.scores.add(artm.TopTokensScore(name='top_words', num_tokens=tokens_per_T, class_id='text'))\n",
    "    \n",
    "    model_artm.initialize(dictionary=dictionary)\n",
    "    return model_artm\n",
    "\n",
    "# model_artm = init_model_artm(dictionary)"
   ]
  },
  {
   "cell_type": "markdown",
   "id": "209f9ffa",
   "metadata": {},
   "source": [
    "`phi score`: разреженность матрицы распределения терминов в теме\n",
    "\n",
    "`theta score`: разреженность матрицы распределения тем в документах\n",
    "\n",
    "\n",
    "$\\Phi$: `model_artm.get_phi()`\n",
    "по столбцам стоят отдельные темы, по строкам - слова в коллекции, значение = P(w|t)\n",
    "\n",
    "$\\Theta$: `model_artm.get_theta()`\n",
    "по столбцам - документы, по строкам - темы, значение = P(t|d)\n"
   ]
  },
  {
   "cell_type": "markdown",
   "id": "8f119dbf",
   "metadata": {},
   "source": [
    "### 0. Модель без регуляризаторов"
   ]
  },
  {
   "cell_type": "markdown",
   "id": "ef82f6f6",
   "metadata": {},
   "source": [
    "На выходе нас интересуют непосредственно 6 тем. Модель не может дать название темы - их интерпретацию необходимо производить вручную"
   ]
  },
  {
   "cell_type": "code",
   "execution_count": 15,
   "id": "90877d80",
   "metadata": {
    "scrolled": true
   },
   "outputs": [
    {
     "name": "stdout",
     "output_type": "stream",
     "text": [
      "1: слюнный, болевой, нижнечелюстной, дисфункция, движение, выраженность, тревожность, смещение, физиологический, жевание\n",
      "\n",
      "2: трансплантат, небо, оперативный, пластика, кровоток, пазуха, верхнечелюстной, реставрация, регенерация, врожденный\n",
      "\n",
      "3: сахарный, оказание, учреждение, деятельность, деструктивный, детский, современный, стоматология, организация, взрослый\n",
      "\n",
      "4: флегмона, район, кпу, житель, первичный, доля, характерный, сопра, заболеваемость, повышенный\n",
      "\n",
      "5: покрытие, каркас, вт, свет, желудок, режим, язвенный, нсо, минута, титановый\n",
      "\n",
      "6: длина, остеосинтез, ширина, отломок, резец, прочность, вертикальный, плоскость, окклюзионный, цемент\n",
      "\n",
      "Phi sparsity: 0.471\n",
      "Theta sparsity: 0.24\n"
     ]
    }
   ],
   "source": [
    "model_artm = init_model_artm()\n",
    "model_artm.fit_offline(batch_vectorizer=batch_vectorizer,\n",
    "                       num_collection_passes=num_collection_passes)\n",
    "\n",
    "tokens_printer(model_artm)\n",
    "\n",
    "show_matrices_sparsity(model_artm)"
   ]
  },
  {
   "cell_type": "markdown",
   "id": "8dd423f0",
   "metadata": {},
   "source": [
    "## Интерпретация тем\n",
    "\n",
    "Смотрим на полученные термины из ячейки выше и даем сопоставление из доступных [областей исследования](http://www.aspirantura.spb.ru/pasp/14_0_21.html#:~:text=%D0%9E%D0%B1%D0%BB%D0%B0%D1%81%D1%82%D1%8C%20%D0%B8%D1%81%D1%81%D0%BB%D0%B5%D0%B4%D0%BE%D0%B2%D0%B0%D0%BD%D0%B8%D1%8F%3A)\n",
    "\n",
    "1. челюстно-лицевая хирургия (область исследования № 3)\n",
    "2. врожденные аномалии (область исследования № 4)\n",
    "3. организация стоматологической помощи (область исследования № 6)\n",
    "4. челюстно-лицевая хирургия (только \"флегмона\") -- ?\n",
    "5. кариес (покрытие, свет, минута) -- ?\n",
    "6. зубопротезирование (область исследования № 5)\n",
    "\n",
    "Области исследования (№ 1 кариес и № 2 пародонт) не вошли в темы, полученные нашей моделью\n",
    "\n",
    "Таким образом, имеем сопоставление для областей исследования № 3, 4, 5 и 6"
   ]
  },
  {
   "cell_type": "markdown",
   "id": "46b5c5c7",
   "metadata": {},
   "source": [
    "*Для удобства продублирую \"области исследования\" здесь*\n",
    "\n",
    "[Ссылка](http://www.aspirantura.spb.ru/pasp/14_0_21.html)\n",
    "\n",
    "Область исследования:\n",
    "1. Изучение этиологии, патогенеза, эпидемиологии, методов профилактики, диагностики и лечения поражений твердых тканей зубов (кариес и др), их осложнений.\n",
    "2. Изучение этиологии, патогенеза, эпидемиологии, методов профилактики, диагностики и лечения заболеваний пародонта.\n",
    "3. Изучение проблем хирургической стоматологии с разработкой методов диагностики и лечения заболеваний челюстно-лицевой области.\n",
    "4. Изучение этиологии и патогенеза врожденных и приобретенных аномалий развития, дефектов и деформаций челюстно-лицевой области.\n",
    "5. Разработка и обоснование новых клинико-технологических методов в ортодонтии и зубопротезировании.\n",
    "6. Разработка и совершенствование методов организации и оказания стоматологической помощи населению и развития специальности в новых условиях хозяйствования."
   ]
  },
  {
   "cell_type": "markdown",
   "id": "07d89a48",
   "metadata": {},
   "source": [
    "### Вероятности тем в документе i\n",
    "\n",
    "Посчитаем, с какой вероятностью i-ый документ может относится к каждой j-ой теме (предполагаемой области исследования из паспорта специальности\n",
    "\n",
    "Сделаем допущение, что документ может принадлежать каждой теме равновероятно с `p = 0.25`"
   ]
  },
  {
   "cell_type": "code",
   "execution_count": 16,
   "id": "e14e436e",
   "metadata": {},
   "outputs": [],
   "source": [
    "# делаем допущение, что документ может принадлежать\n",
    "\n",
    "theta = model_artm.get_theta()\n",
    "TOPIC_PROBA_THRESHOLD = 0.25"
   ]
  },
  {
   "cell_type": "code",
   "execution_count": 17,
   "id": "b262a463",
   "metadata": {},
   "outputs": [],
   "source": [
    "# сортировка колонок в таблице по возрастанию\n",
    "# колонка = id документа в коллекции\n",
    "theta = theta.reindex(sorted(theta.columns), axis=1)"
   ]
  },
  {
   "cell_type": "code",
   "execution_count": 18,
   "id": "253ee6fa",
   "metadata": {},
   "outputs": [
    {
     "name": "stdout",
     "output_type": "stream",
     "text": [
      "CPU times: user 435 ms, sys: 44.7 ms, total: 480 ms\n",
      "Wall time: 429 ms\n"
     ]
    }
   ],
   "source": [
    "%%time\n",
    "\n",
    "doc_index_to_topics_proba = []\n",
    "\n",
    "for col in theta:\n",
    "    above_thresh = theta[col][theta[col] > TOPIC_PROBA_THRESHOLD]\n",
    "    \n",
    "    # для текстов \"без тем\" (не прошедших порог)\n",
    "    if not above_thresh.shape[0]:\n",
    "        doc_index_to_topics_proba.append([(-1, 0.0)])\n",
    "        continue\n",
    "\n",
    "    topic_names = above_thresh.index.tolist()\n",
    "    topic_probas = above_thresh.tolist()\n",
    "    \n",
    "    topics_cur_doc = []\n",
    "    for name, proba in zip(topic_names, topic_probas):\n",
    "        topics_cur_doc.append((int(name), proba))\n",
    "    doc_index_to_topics_proba.append(topics_cur_doc)"
   ]
  },
  {
   "cell_type": "markdown",
   "id": "ccaa7987",
   "metadata": {},
   "source": [
    "### Сопоставление индексов полученных тем и актуальных областей исследования из паспорта 14.00.21\n",
    "\n",
    "Для полученных тем `(4, 5)` у нас не нашлось подходящих областей исследования - обозначим из за `-1`"
   ]
  },
  {
   "cell_type": "code",
   "execution_count": 19,
   "id": "6e91a6ca",
   "metadata": {},
   "outputs": [],
   "source": [
    "topic_to_actual_code = {\n",
    "    1: 3,\n",
    "    2: 4,\n",
    "    3: 6,\n",
    "    4: -1,\n",
    "    5: -1,\n",
    "    6: 5,\n",
    "    -1: -1\n",
    "}"
   ]
  },
  {
   "cell_type": "code",
   "execution_count": 20,
   "id": "ce919889",
   "metadata": {},
   "outputs": [],
   "source": [
    "doc_index_to_actual_codes = []\n",
    "for topics in doc_index_to_topics_proba:\n",
    "    tmp = []\n",
    "    for (topic, proba) in topics:\n",
    "        tmp.append(topic_to_actual_code[topic])\n",
    "    doc_index_to_actual_codes.append(tmp)"
   ]
  },
  {
   "cell_type": "code",
   "execution_count": 21,
   "id": "a2d5d08d",
   "metadata": {},
   "outputs": [],
   "source": [
    "import pandas as pd\n",
    "\n",
    "df = pd.DataFrame(data={'preds': doc_index_to_actual_codes, 'target': codes})"
   ]
  },
  {
   "cell_type": "code",
   "execution_count": 22,
   "id": "8d49271e",
   "metadata": {
    "scrolled": false
   },
   "outputs": [
    {
     "data": {
      "text/html": [
       "<div>\n",
       "<style scoped>\n",
       "    .dataframe tbody tr th:only-of-type {\n",
       "        vertical-align: middle;\n",
       "    }\n",
       "\n",
       "    .dataframe tbody tr th {\n",
       "        vertical-align: top;\n",
       "    }\n",
       "\n",
       "    .dataframe thead th {\n",
       "        text-align: right;\n",
       "    }\n",
       "</style>\n",
       "<table border=\"1\" class=\"dataframe\">\n",
       "  <thead>\n",
       "    <tr style=\"text-align: right;\">\n",
       "      <th></th>\n",
       "      <th>preds</th>\n",
       "      <th>target</th>\n",
       "    </tr>\n",
       "  </thead>\n",
       "  <tbody>\n",
       "    <tr>\n",
       "      <th>0</th>\n",
       "      <td>[4]</td>\n",
       "      <td>[2, 5]</td>\n",
       "    </tr>\n",
       "    <tr>\n",
       "      <th>1</th>\n",
       "      <td>[3, -1]</td>\n",
       "      <td>[3]</td>\n",
       "    </tr>\n",
       "    <tr>\n",
       "      <th>2</th>\n",
       "      <td>[3]</td>\n",
       "      <td>[3, 4, 5]</td>\n",
       "    </tr>\n",
       "    <tr>\n",
       "      <th>3</th>\n",
       "      <td>[4]</td>\n",
       "      <td>[3]</td>\n",
       "    </tr>\n",
       "    <tr>\n",
       "      <th>4</th>\n",
       "      <td>[4]</td>\n",
       "      <td>[3, 4]</td>\n",
       "    </tr>\n",
       "  </tbody>\n",
       "</table>\n",
       "</div>"
      ],
      "text/plain": [
       "     preds     target\n",
       "0      [4]     [2, 5]\n",
       "1  [3, -1]        [3]\n",
       "2      [3]  [3, 4, 5]\n",
       "3      [4]        [3]\n",
       "4      [4]     [3, 4]"
      ]
     },
     "execution_count": 22,
     "metadata": {},
     "output_type": "execute_result"
    }
   ],
   "source": [
    "df.head()"
   ]
  },
  {
   "cell_type": "code",
   "execution_count": 23,
   "id": "db5be97b",
   "metadata": {},
   "outputs": [],
   "source": [
    "from sklearn.preprocessing import MultiLabelBinarizer\n",
    "\n",
    "mlb = MultiLabelBinarizer()\n",
    "encoded_target = mlb.fit_transform(df.target)\n",
    "encoded_preds = mlb.transform(df.preds)"
   ]
  },
  {
   "cell_type": "code",
   "execution_count": 30,
   "id": "4e24b1f4",
   "metadata": {},
   "outputs": [
    {
     "name": "stdout",
     "output_type": "stream",
     "text": [
      "Возможные значения таргета: [1 2 3 4 5 6]\n",
      "Возможные значения предсказания: [-1  3  4  5  6]\n"
     ]
    }
   ],
   "source": [
    "print('Возможные значения таргета:', np.unique([elem for row in df.target for elem in row]))\n",
    "print('Возможные значения предсказания:', np.unique([elem for row in doc_index_to_actual_codes for elem in row]))   "
   ]
  },
  {
   "cell_type": "markdown",
   "id": "7c6607e4",
   "metadata": {},
   "source": [
    "### NB\n",
    "\n",
    "Из ячейки выше видим, что при подсчете метрик в таргете (далее) используется два дополнительных класса (области исследования № 1 кариес и № 2 пародонт), которых нет в предсказаниях\n",
    "\n",
    "Это влияет на то, что целевая метрика (F1 или метрика Жаккара) несколько занижена от реальных значений\n",
    "\n",
    "\n",
    "*Посмотрим на распределение целевой переменной*"
   ]
  },
  {
   "cell_type": "code",
   "execution_count": 31,
   "id": "2974a492",
   "metadata": {},
   "outputs": [
    {
     "data": {
      "text/plain": [
       "''"
      ]
     },
     "execution_count": 31,
     "metadata": {},
     "output_type": "execute_result"
    },
    {
     "data": {
      "image/png": "[encoded data removed]",
      "text/plain": [
       "<Figure size 504x504 with 1 Axes>"
      ]
     },
     "metadata": {
      "needs_background": "light"
     },
     "output_type": "display_data"
    }
   ],
   "source": [
    "flatten = lambda lst_of_lsts: [elem for lst in lst_of_lsts for elem in lst]\n",
    "flattened_target = flatten(codes)\n",
    "\n",
    "from collections import Counter\n",
    "x = list(zip(*sorted([(k, v) for k, v in dict(Counter(flattened_target)).items()])))\n",
    "fig, ax = plt.subplots(figsize=(7,7))\n",
    "ax.bar(x=x[0], height=x[1], edgecolor='k')\n",
    "ax.set_title('Распределение целевой переменной (области исследования паспорта специальности)')\n",
    ";"
   ]
  },
  {
   "cell_type": "markdown",
   "id": "90d7c239",
   "metadata": {},
   "source": [
    "### Значение целевой метрики"
   ]
  },
  {
   "cell_type": "code",
   "execution_count": 26,
   "id": "f80c35da",
   "metadata": {},
   "outputs": [],
   "source": [
    "from sklearn.metrics import f1_score, jaccard_score"
   ]
  },
  {
   "cell_type": "code",
   "execution_count": 27,
   "id": "9257d10a",
   "metadata": {},
   "outputs": [
    {
     "name": "stdout",
     "output_type": "stream",
     "text": [
      "F1-score (weighted): 0.224\n"
     ]
    }
   ],
   "source": [
    "f1 = f1_score(encoded_target, encoded_preds, average='weighted')\n",
    "print('F1-score:', round(f1, 3))"
   ]
  },
  {
   "cell_type": "code",
   "execution_count": 28,
   "id": "f7453bdb",
   "metadata": {},
   "outputs": [
    {
     "name": "stdout",
     "output_type": "stream",
     "text": [
      "Метрика Жаккара (weighted): 0.136\n"
     ]
    }
   ],
   "source": [
    "jac = jaccard_score(encoded_target, encoded_preds, average='weighted')\n",
    "print('Метрика Жаккара:', round(jac, 3))"
   ]
  }
 ],
 "metadata": {
  "kernelspec": {
   "display_name": "Python 3",
   "language": "python",
   "name": "python3"
  },
  "language_info": {
   "codemirror_mode": {
    "name": "ipython",
    "version": 3
   },
   "file_extension": ".py",
   "mimetype": "text/x-python",
   "name": "python",
   "nbconvert_exporter": "python",
   "pygments_lexer": "ipython3",
   "version": "3.8.13"
  }
 },
 "nbformat": 4,
 "nbformat_minor": 5
}
